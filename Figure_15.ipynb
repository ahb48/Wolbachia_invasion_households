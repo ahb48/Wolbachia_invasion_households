{
 "cells": [
  {
   "cell_type": "markdown",
   "id": "ae575928",
   "metadata": {},
   "source": [
    "# Figure 15: comparing to Jansen 2008\n",
    "## Abby Barlow, University of Bath\n",
    "## Ben Adams, University of Bath"
   ]
  },
  {
   "cell_type": "markdown",
   "id": "c5fd475d",
   "metadata": {},
   "source": [
    "Importing required libraries"
   ]
  },
  {
   "cell_type": "code",
   "execution_count": 1,
   "id": "346526f6",
   "metadata": {},
   "outputs": [],
   "source": [
    "import numpy as np\n",
    "import pylab as plt\n",
    "import matplotlib\n",
    "\n",
    "import importlib\n",
    "import Rate_transitions\n",
    "import Finding_dictionary_keys\n",
    "import Prob_absorb_to_each\n",
    "import Time_absorb_wild_states\n",
    "import Hughes_model\n",
    "\n",
    "get_transition = Rate_transitions.get_transition_Hughes\n",
    "find_keys = Finding_dictionary_keys.find_keys\n",
    "prob_reach_absorb = Prob_absorb_to_each.prob_reach_absorb_Hughes\n",
    "F = Hughes_model.F_hughes\n",
    "absorb_time_wolb = Time_absorb_wild_states.absorb_time_wolb_Hughes\n",
    "absorb_time_ext = Time_absorb_wild_states.absorb_time_ext"
   ]
  },
  {
   "cell_type": "markdown",
   "id": "9429f5f7",
   "metadata": {},
   "source": [
    "Parameter values"
   ]
  },
  {
   "cell_type": "code",
   "execution_count": 2,
   "id": "7e711a1d",
   "metadata": {},
   "outputs": [],
   "source": [
    "# parameters\n",
    "\n",
    "K = 30        # reproductive carrying capacity\n",
    "d1 = 12/100   # wild-type death rate\n",
    "d2 = 12/100   # Wolbachia death rate\n",
    "phi = 85/100    # Wolbachia fitness\n",
    "\n",
    "v = 10/10     # probability of vertical transmission\n",
    "u = 10/10     # ratio of unviable offspring produced by an infected male and uninfected female\n",
    "\n",
    "k = 0.3           # Mosquito competition parameter\n",
    "h = 0.19*100**k   # Mosquito competition parameter\n",
    "\n",
    "b1 = round(d1/F(10,h,k,K),2) # wild-type per capita birth rate\n",
    "b2 = b1*phi                # Wolbachia per capita birth rate\n",
    "\n",
    "# create a dictionary to store all parameter values\n",
    "params_dict = {'b1': b1,\n",
    "              'b2': b2,\n",
    "              'K': K,\n",
    "              'd1': d1,\n",
    "              'd2': d2,\n",
    "              'v': v,\n",
    "              'phi': phi,\n",
    "              'u': u,\n",
    "              'h': h,\n",
    "              'k': k\n",
    "              }"
   ]
  },
  {
   "cell_type": "markdown",
   "id": "225f2547",
   "metadata": {},
   "source": [
    "Functions to compute invasion probability from Jansen 2008."
   ]
  },
  {
   "cell_type": "code",
   "execution_count": 3,
   "id": "f665d005",
   "metadata": {},
   "outputs": [],
   "source": [
    "def compute_theta(N, x):\n",
    "    ''' compute theta_i - the rate of Wolbachia-infected mosquito reproduction and theta_u - the\n",
    "    rate of wildtype mosquito reproduction, given N total mosquitoes and x Wolbachia-infected mosquitoes.'''\n",
    "    theta_i = v*phi*x\n",
    "    theta_u = ((N-x)/N)*(N-x + (1-v)*phi*x) + (x/N)*((1-u)*(N-x) + (1-v)*phi*x)\n",
    "    return theta_i, theta_u  # return theta_i, theta_u\n",
    "\n",
    "def compute_prod(N, j):\n",
    "    ''' Compute the product term in the formula for the invasion probability, see Jansen 2008.'''\n",
    "    prod = 1\n",
    "    for i in range(1,j+1):\n",
    "        theta_i, theta_u = compute_theta(N, i)\n",
    "        prod *= i*theta_u/((N-i)*theta_i)\n",
    "    return prod  # return the product term\n",
    "\n",
    "def compute_inv_prob(N, x):\n",
    "    ''' Compute the invasion probability of Wolbachia, given N total mosquitoes and x\n",
    "    Wolbachia-infected mosquitoes. See equation (A3) in Jansen 2008.'''\n",
    "    sum_top = 0\n",
    "    sum_bottom = 0\n",
    "    for j in range(x):\n",
    "        sum_top += compute_prod(N, j)  # summing over the products in the numerator\n",
    "    for j in range(N):\n",
    "        sum_bottom += compute_prod(N, j)  # summing over the products in the denominator\n",
    "    return sum_top/sum_bottom   # return the invasion probability"
   ]
  },
  {
   "cell_type": "markdown",
   "id": "d67b903d",
   "metadata": {},
   "source": [
    "Compute invasion probability from Jansen 2008 model"
   ]
  },
  {
   "cell_type": "code",
   "execution_count": 4,
   "id": "efbbeb3a",
   "metadata": {},
   "outputs": [],
   "source": [
    "N_values = [30, 10]  # total mosquito population sizes to consider\n",
    "\n",
    "for N in N_values:  # loop over total population sizes\n",
    "    inv_prob_vec = np.array([compute_inv_prob(N, inf) for inf in range(N+1)]) # compute invasion probabilities\n",
    "    init_inf_prop = np.arange(N+1) / N  # initial proportion of Wolbachia-infected mosquitoes\n",
    "    if N == 30:  # store results for N=30\n",
    "        inv_prob_vec30 = inv_prob_vec\n",
    "        init_inf_prop30 = init_inf_prop\n",
    "    else:  # store results for N=10\n",
    "        inv_prob_vec = inv_prob_vec\n",
    "        init_inf_prop = init_inf_prop"
   ]
  },
  {
   "cell_type": "markdown",
   "id": "213556bd",
   "metadata": {},
   "source": [
    "Calculate invasion probability from our model"
   ]
  },
  {
   "cell_type": "code",
   "execution_count": 5,
   "id": "9dfa5901",
   "metadata": {},
   "outputs": [],
   "source": [
    "def compute_inv_prob_AB(N, K, params_dict):\n",
    "    ''' Compute the invasion probability of Wolbachia, given N total mosquitoes and K\n",
    "    is the maximum population size using the methods set out in Barlow 2025.'''\n",
    "    max_pop = K  # maximum population size\n",
    "    # create full state and transient state dictionaries\n",
    "    state_dict = {index: np.array((i, j)) for index, (i, j) in enumerate(\n",
    "        [(i, j) for i in range(max_pop + 1) for j in range(max_pop + 1) if i + j <= max_pop])}\n",
    "    trans_dict = {index: np.array((i, j)) for index, (i, j) in enumerate(\n",
    "        [(i, j) for i in range(1, max_pop + 1) for j in range(1, max_pop + 1) if i + j <= max_pop])}\n",
    "\n",
    "    n_transient = len(trans_dict)  # number of transient states\n",
    "    prob_reach_wolb = np.zeros(n_transient)  # initialize probability vector\n",
    "    for i in range(max_pop):  # loop over absorbing states\n",
    "        absorb_state = np.array([0, i + 1])  # absorbing state with i+1 Wolbachia-infected mosquitoes\n",
    "        # compute probability of reaching absorbing state from each transient state\n",
    "        # add to total probability of reaching any absorbing state with Wolbachia\n",
    "        prob_reach_wolb[:] += np.transpose(\n",
    "            prob_reach_absorb(state_dict, trans_dict, absorb_state, params_dict)[0]\n",
    "        )[0]\n",
    "\n",
    "    inv_prob_vec_AB = np.zeros(N + 1)  # initialize invasion probability vector\n",
    "    init_inf_prop_AB = np.zeros(N + 1) # initialize initial infection proportion vector\n",
    "    ct = 1  # counter for filling in invasion probability vector\n",
    "    for k in range(n_transient):  # loop over transient states\n",
    "        indx1, indx2 = trans_dict[k]  # get transient state (indx1, indx2)\n",
    "        if indx1 + indx2 == N:  # check if total population size is N\n",
    "            inv_prob_vec_AB[N - ct] = prob_reach_wolb[k]  # fill in invasion probability vector\n",
    "            init_inf_prop_AB[N - ct] = indx2 / N  # fill in initial infection proportion vector\n",
    "            ct += 1  # increment counter\n",
    "\n",
    "    inv_prob_vec_AB[N] = 1  # invasion probability is 1 if all mosquitoes are infected\n",
    "    init_inf_prop_AB[N] = 1\n",
    "    return inv_prob_vec_AB, init_inf_prop_AB  # return invasion probability and initial infection proportion vectors\n",
    "\n",
    "# Usage for both N=30 and N=10\n",
    "inv_prob_vec_AB30, init_inf_prop_AB30 = compute_inv_prob_AB(30, K, params_dict)\n",
    "inv_prob_vec_AB, init_inf_prop_AB = compute_inv_prob_AB(10, K, params_dict)"
   ]
  },
  {
   "cell_type": "markdown",
   "id": "7864c1e9",
   "metadata": {},
   "source": [
    "Produce figure"
   ]
  },
  {
   "cell_type": "code",
   "execution_count": 7,
   "id": "470d6d25",
   "metadata": {},
   "outputs": [
    {
     "data": {
      "image/png": "[encoded data removed]",
      "text/plain": [
       "<Figure size 432x288 with 1 Axes>"
      ]
     },
     "metadata": {
      "needs_background": "light"
     },
     "output_type": "display_data"
    }
   ],
   "source": [
    "matplotlib.rcParams.update({'font.size': 15})   # font size\n",
    "plt.plot(init_inf_prop, inv_prob_vec, marker='o', label = r'Moran model, $N=10$')\n",
    "plt.plot(init_inf_prop_AB, inv_prob_vec_AB, marker='s', label = r'our model, $N=10$')\n",
    "plt.plot(init_inf_prop30, inv_prob_vec30, marker='o', label = r'Moran model, $N=30$')\n",
    "plt.plot(init_inf_prop_AB30, inv_prob_vec_AB30, marker='s', label = r'our model, $N=30$')\n",
    "plt.grid() \n",
    "plt.xlabel('Initial infected proportion')\n",
    "plt.ylabel('Invasion probability')\n",
    "plt.legend(fontsize=14)\n",
    "plt.tight_layout()\n",
    "#plt.savefig('comparison_Jansen.pdf', bbox_inches='tight')"
   ]
  },
  {
   "cell_type": "code",
   "execution_count": null,
   "id": "dac570db",
   "metadata": {},
   "outputs": [],
   "source": [
    "N = 30\n",
    "max_pop = K  # maximum household size\n",
    "state_dict = {index: np.array((i, j)) for index, (i, j) in enumerate([(i, j) for i in range(max_pop + 1) for j in range(max_pop + 1) if i + j <= max_pop])}\n",
    "trans_dict = {index: np.array((i,j)) for index, (i,j) in enumerate([(i, j) for i in range(1,max_pop + 1) for j in range(1,max_pop + 1) if i + j <= max_pop])}\n",
    "\n",
    "n_transient = len(trans_dict)            # number of transient states i.e. mixed\n",
    "prob_reach_wolb = np.zeros(n_transient)  # initialise an array to hold all the probabilities for the mixed states\n",
    "for i in range(max_pop):                 # looping over the Wolbachia-only state space\n",
    "    absorb_state = np.array([0,i+1])     # current Wolbachia-only state (absorbing state)\n",
    "    # adding the probability of reaching that state from each initial mixed state to the probabilities array\n",
    "    prob_reach_wolb[:] += np.transpose(prob_reach_absorb(state_dict,trans_dict,absorb_state,params_dict)[0])[0]\n",
    "\n",
    "ct = 1\n",
    "inv_prob_vec_AB30 = np.zeros(N+1)    # initialise an array to hold the invasion probabilities\n",
    "init_inf_prop_AB30 = np.zeros(N+1)   # initialise an array to hold the\n",
    "for k in range(n_transient):         # looping over all the mixed/ transient states\n",
    "    # setting the index of the current invasion probability corresponding to the intial state\n",
    "    indx1, indx2 = trans_dict[k]\n",
    "    if indx1 + indx2 == N:\n",
    "        inv_prob_vec_AB30[N-ct] = prob_reach_wolb[k]  # recording the probability\n",
    "        init_inf_prop_AB30[N-ct] = indx2/N           # recording the initial infected proportion\n",
    "        ct += 1\n",
    "\n",
    "inv_prob_vec_AB30[N] = 1  # if all are infected, invasion probability is 1\n",
    "init_inf_prop_AB30[N] = 1  # if all are infected, initial infected proportion is 1"
   ]
  },
  {
   "cell_type": "code",
   "execution_count": null,
   "id": "4f75e7aa",
   "metadata": {},
   "outputs": [],
   "source": [
    "N = 10\n",
    "max_pop = K  # maximum household size\n",
    "state_dict = {index: np.array((i, j)) for index, (i, j) in enumerate([(i, j) for i in range(max_pop + 1) for j in range(max_pop + 1) if i + j <= max_pop])}\n",
    "trans_dict = {index: np.array((i,j)) for index, (i,j) in enumerate([(i, j) for i in range(1,max_pop + 1) for j in range(1,max_pop + 1) if i + j <= max_pop])}\n",
    "\n",
    "n_transient = len(trans_dict)            # number of transient states i.e. mixed\n",
    "prob_reach_wolb = np.zeros(n_transient)  # initialise an array to hold all the probabilities for the mixed states\n",
    "for i in range(max_pop):                 # looping over the Wolbachia-only state space\n",
    "    absorb_state = np.array([0,i+1])     # current Wolbachia-only state (absorbing state)\n",
    "    # adding the probability of reaching that state from each initial mixed state to the probabilities array\n",
    "    prob_reach_wolb[:] += np.transpose(prob_reach_absorb(state_dict,trans_dict,absorb_state,params_dict)[0])[0]\n",
    "\n",
    "ct = 1\n",
    "inv_prob_vec_AB = np.zeros(N+1)    # initialise an array to hold the invasion probabilities\n",
    "init_inf_prop_AB = np.zeros(N+1)   # initialise an array to hold the\n",
    "for k in range(n_transient):         # looping over all the mixed/ transient states\n",
    "    # setting the index of the current invasion probability corresponding to the intial state\n",
    "    indx1, indx2 = trans_dict[k]\n",
    "    if indx1 + indx2 == N:\n",
    "        inv_prob_vec_AB[N-ct] = prob_reach_wolb[k]  # recording the probability\n",
    "        init_inf_prop_AB[N-ct] = indx2/N           # recording the initial infected proportion\n",
    "        ct += 1\n",
    "\n",
    "inv_prob_vec_AB[N] = 1  # if all are infected, invasion probability is 1\n",
    "init_inf_prop_AB[N] = 1  # if all are infected, initial infected proportion is 1"
   ]
  }
 ],
 "metadata": {
  "kernelspec": {
   "display_name": "venv_dengue",
   "language": "python",
   "name": "python3"
  },
  "language_info": {
   "codemirror_mode": {
    "name": "ipython",
    "version": 3
   },
   "file_extension": ".py",
   "mimetype": "text/x-python",
   "name": "python",
   "nbconvert_exporter": "python",
   "pygments_lexer": "ipython3",
   "version": "3.8.13"
  }
 },
 "nbformat": 4,
 "nbformat_minor": 5
}
