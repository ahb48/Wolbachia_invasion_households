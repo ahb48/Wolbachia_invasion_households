{
 "cells": [
  {
   "cell_type": "markdown",
   "id": "dc1b0834-6f5b-4175-8c9f-5e3d2c437c13",
   "metadata": {},
   "source": [
    "# Figure 15: colour plots for the invasion probability and expected time over all possible initial state conditions for the 30 mosquito model with reversion"
   ]
  },
  {
   "cell_type": "markdown",
   "id": "7286abcc-f91e-4524-ad35-db5fc078d346",
   "metadata": {},
   "source": [
    "## Abby Barlow, University of Bath\n",
    "## Ben Adams, University of Bath"
   ]
  },
  {
   "cell_type": "markdown",
   "id": "6b8b6772-f8ac-47a6-8013-439baa0e6ba5",
   "metadata": {},
   "source": [
    "Import required libraries"
   ]
  },
  {
   "cell_type": "code",
   "execution_count": 1,
   "id": "065c8e4b-f7a9-4d12-b96c-3e48ea6f3615",
   "metadata": {},
   "outputs": [],
   "source": [
    "import numpy as np\n",
    "import pylab as plt\n",
    "import matplotlib\n",
    "from matplotlib.colors import ListedColormap\n",
    "from matplotlib.patches import Rectangle"
   ]
  },
  {
   "cell_type": "markdown",
   "id": "c88294c9-45f7-45a0-ba96-e4ec1d06f47c",
   "metadata": {},
   "source": [
    "Import required scripts"
   ]
  },
  {
   "cell_type": "code",
   "execution_count": 2,
   "id": "b481af64-48cb-4514-a34b-4c4e30e86b87",
   "metadata": {},
   "outputs": [],
   "source": [
    "import importlib\n",
    "import Rate_transitions\n",
    "import Finding_dictionary_keys\n",
    "import Prob_absorb_to_each\n",
    "import Time_absorb_wild_states\n",
    "import Hughes_model\n",
    "\n",
    "get_transition = Rate_transitions.get_transition_Hughes\n",
    "find_keys = Finding_dictionary_keys.find_keys\n",
    "prob_reach_absorb = Prob_absorb_to_each.prob_reach_absorb_Hughes\n",
    "F = Hughes_model.F_hughes\n",
    "absorb_time_wolb = Time_absorb_wild_states.absorb_time_wolb_Hughes\n",
    "\n",
    "# scripts autosave, so no need to re-run code chunk after making changes\n",
    "%load_ext autoreload\n",
    "%autoreload 2"
   ]
  },
  {
   "cell_type": "markdown",
   "id": "2c7d81a3-bf2f-4bbb-8baa-a3756476f5fa",
   "metadata": {},
   "source": [
    "Parameter values"
   ]
  },
  {
   "cell_type": "code",
   "execution_count": 3,
   "id": "4cf32f91-4d85-4db6-9fb7-ee490edcb7db",
   "metadata": {},
   "outputs": [],
   "source": [
    "K = 30        # reproductive carrying capacity\n",
    "d1 = 12/100   # wild-type death rate\n",
    "d2 = 12/100   # Wolbachia death rate\n",
    "phi = 9/10    # Wolbachia fitness\n",
    "\n",
    "v = 9/10     # probability of vertical transmission\n",
    "u = 10/10     # ratio of unviable offspring produced by an infected male and uninfected female\n",
    "\n",
    "k = 0.3           # Mosquito competition parameter\n",
    "h = 0.19*100**k   # Mosquito competition parameter\n",
    "\n",
    "b1 = round(d1/F(10,h,k),2) # wild-type per capita birth rate\n",
    "b2 = b1*phi                # Wolbachia per capita birth rate\n",
    "\n",
    "# create a dictionary to store all parameter values\n",
    "params_dict = {'b1': b1,\n",
    "              'b2': b2,\n",
    "              'K': K,\n",
    "              'd1': d1,\n",
    "              'd2': d2,\n",
    "              'v': v,\n",
    "              'phi': phi,\n",
    "              'u': u,\n",
    "              'h': h,\n",
    "              'k': k\n",
    "              }"
   ]
  },
  {
   "cell_type": "markdown",
   "id": "4dc7381b-dfb8-473b-9d98-ee6f91f0c8d6",
   "metadata": {},
   "source": [
    "Construct dictionaries for the full state space and the transient state space (mixed states)"
   ]
  },
  {
   "cell_type": "code",
   "execution_count": 4,
   "id": "d9db726d-3819-4564-8526-71a0a56ddb77",
   "metadata": {},
   "outputs": [],
   "source": [
    "max_pop = 30  # maximum household size\n",
    "state_dict = {index: np.array((i, j)) for index, (i, j) in enumerate([(i, j) for i in range(max_pop + 1) for j in range(max_pop + 1) if i + j <= max_pop])}\n",
    "trans_dict = {index: np.array((i,j)) for index, (i,j) in enumerate([(i, j) for i in range(1,max_pop + 1) for j in range(1,max_pop + 1) if i + j <= max_pop])}"
   ]
  },
  {
   "cell_type": "markdown",
   "id": "04f96577-3814-45e4-ba84-a5a8f440027c",
   "metadata": {},
   "source": [
    "Calculating the probability of reaching the wolbachia-only state space from each initial condition state"
   ]
  },
  {
   "cell_type": "code",
   "execution_count": 5,
   "id": "2407c458-ee12-4e2e-8426-567b4be62f16",
   "metadata": {},
   "outputs": [],
   "source": [
    "n_transient = len(trans_dict)            # number of transient states i.e. mixed\n",
    "prob_reach_wolb = np.zeros(n_transient)  # initialise an array to hold all the probabilities for the mixed states\n",
    "for i in range(max_pop):                 # looping over the Wolbachia-only state space\n",
    "    absorb_state = np.array([0,i+1])     # current Wolbachia-only state (absorbing state)\n",
    "    # adding the probability of reaching that state from each initial mixed state to the probabilities array\n",
    "    prob_reach_wolb[:] += np.transpose(prob_reach_absorb(state_dict,trans_dict,absorb_state,params_dict)[0])[0]"
   ]
  },
  {
   "cell_type": "markdown",
   "id": "74ad097b-5c47-4f92-8d4d-f4c0654aa623",
   "metadata": {},
   "source": [
    "Putting the probabilities into an array in the correct format for the colour plot and adding the trivial probabilities of invasion from the wild-type-only and Wolbachia-only states"
   ]
  },
  {
   "cell_type": "code",
   "execution_count": 6,
   "id": "e0b3b4fd-ee6e-4acb-98aa-55fc4c89fef1",
   "metadata": {},
   "outputs": [],
   "source": [
    "col_map = np.zeros((max_pop+1,max_pop+1))  # initialing array for all the probabilities\n",
    "\n",
    "for i in range(max_pop):   # looping over the wild-type/ Wolbachia-only state space\n",
    "    col_map[i+1,0] = 0     # probability of invasion starting from a wild-type only state is 0\n",
    "    col_map[0,i+1] = 1     # probability of invasion starting from a Wolbachia only state is 1\n",
    "    \n",
    "for k in range(n_transient):         # looping over all the mixed/ transient states\n",
    "    # setting the index of the current invasion probability corresponding to the intial state\n",
    "    indx1, indx2 = trans_dict[k]\n",
    "    col_map[indx1,indx2] = prob_reach_wolb[k]  # recording the probability"
   ]
  },
  {
   "cell_type": "markdown",
   "id": "cfbab0c9-4bd7-43d7-b378-baccefa25b12",
   "metadata": {},
   "source": [
    "Plotting the figure"
   ]
  },
  {
   "cell_type": "code",
   "execution_count": 7,
   "id": "951f392d-495a-42cb-9810-87ef1bfee1b7",
   "metadata": {},
   "outputs": [
    {
     "name": "stderr",
     "output_type": "stream",
     "text": [
      "findfont: Font family ['cmsy10'] not found. Falling back to DejaVu Sans.\n",
      "findfont: Font family ['cmr10'] not found. Falling back to DejaVu Sans.\n",
      "findfont: Font family ['cmtt10'] not found. Falling back to DejaVu Sans.\n",
      "findfont: Font family ['cmmi10'] not found. Falling back to DejaVu Sans.\n",
      "findfont: Font family ['cmb10'] not found. Falling back to DejaVu Sans.\n",
      "findfont: Font family ['cmss10'] not found. Falling back to DejaVu Sans.\n",
      "findfont: Font family ['cmex10'] not found. Falling back to DejaVu Sans.\n"
     ]
    },
    {
     "data": {
      "image/png": "[encoded data removed]",
      "text/plain": [
       "<Figure size 432x288 with 2 Axes>"
      ]
     },
     "metadata": {
      "needs_background": "light"
     },
     "output_type": "display_data"
    }
   ],
   "source": [
    "fig, ax = plt.subplots()  # define subsplots, as overlaying mean-field results\n",
    "matplotlib.rcParams.update({'font.size': 15})  # font size\n",
    "\n",
    "Z = np.transpose(col_map)   # swaps to correct way round \n",
    "my_cmap = plt.cm.viridis    # colour scheme\n",
    "num_levels = 1000000\n",
    "my_cmap = ListedColormap(my_cmap(np.linspace(0, 1, num_levels)))   # define how fine a colour scale want\n",
    "color_plot = ax.imshow(Z, cmap = my_cmap, interpolation ='nearest', origin = 'lower')  # produces colour plot\n",
    "ax.set_xlabel('$N_m(0)$')   # x label\n",
    "ax.set_ylabel('$N_w(0)$')   # y label\n",
    "current_axes = plt.gca()    # saves current axes\n",
    "\n",
    "# colours the squares corresponding to the state space that is out of bounds grey\n",
    "for i in range(max_pop):   # looping over the y axis\n",
    "    highlight_row, highlight_col = max_pop-i,1+i\n",
    "    rect = Rectangle((highlight_col - 0.5, highlight_row - 0.5), max_pop, 1, edgecolor='gray', facecolor='gray')\n",
    "    current_axes.add_patch(rect)    # adds the rectangle\n",
    "\n",
    "ax.set_xlim(0,30)   # x limit\n",
    "ax.set_ylim(0,30)   # y limit\n",
    "\n",
    "color_bar = fig.colorbar(color_plot)   # adds colour bar\n",
    "ax.set_title('Absorption probability, $\\phi=${}'.format(phi))    # title\n",
    "\n",
    "plt.savefig('bifurcation_color_map_v09.pdf', bbox_inches='tight')  # saves figure"
   ]
  },
  {
   "cell_type": "markdown",
   "id": "fc4c0459-a680-4609-ae76-7cefc6b8ba2a",
   "metadata": {},
   "source": [
    "Finding the expected time until the Wolbachia-only state space is reached with respect to each possible mixed state."
   ]
  },
  {
   "cell_type": "code",
   "execution_count": 8,
   "id": "06b66b18-2dd1-405d-98be-f92ffaee971e",
   "metadata": {},
   "outputs": [],
   "source": [
    "invade_time = absorb_time_wolb(max_pop,np.ones(n_transient),params_dict) # finding the expected invasion times"
   ]
  },
  {
   "cell_type": "markdown",
   "id": "31053877-acc0-45aa-b6c4-a44ec09f7056",
   "metadata": {},
   "source": [
    "Putting the expected times into an array in the correct format for the colour plot and adding the trivial invasion times from the wild-type-only and Wolbachia-only states."
   ]
  },
  {
   "cell_type": "code",
   "execution_count": 9,
   "id": "e309395c-6d95-4c67-8b75-0da1ee442e34",
   "metadata": {},
   "outputs": [],
   "source": [
    "col_map_time = np.zeros((max_pop+1,max_pop+1))  # initialing array for all the invasion times\n",
    "    \n",
    "for k in range(n_transient):    # looping over all the mixed/ transient states                  \n",
    "    # setting the index of the current invasion probability corresponding to the intial state\n",
    "    indx1, indx2 = trans_dict[k]\n",
    "    col_map_time[indx1,indx2] = invade_time[k]  # recording the expcted invasion time\n",
    "    \n",
    "for i in range(max_pop):  # looping over the wild-type/ Wolbachia-only state space\n",
    "    # invasion time starting from a wild-type only state is infinite \n",
    "    # (we just use a place holder here and colour accordingly in the figure)\n",
    "    col_map_time[i+1,0] = 0     \n",
    "    col_map_time[0,i+1] = 0  # expected invasion time from a Wolbachia-only state is 0"
   ]
  },
  {
   "cell_type": "markdown",
   "id": "98e7bf99-4645-4985-a864-fb2c662c40b5",
   "metadata": {},
   "source": [
    "Plotting the figure"
   ]
  },
  {
   "cell_type": "code",
   "execution_count": 10,
   "id": "e1404dd8-6096-4ec5-82c9-0b8c7ea90713",
   "metadata": {},
   "outputs": [
    {
     "data": {
      "image/png": "[encoded data removed]",
      "text/plain": [
       "<Figure size 432x432 with 2 Axes>"
      ]
     },
     "metadata": {
      "needs_background": "light"
     },
     "output_type": "display_data"
    }
   ],
   "source": [
    "matplotlib.rcParams.update({'font.size': 15})   # font size \n",
    "plt.figure(figsize=(6, 6))                      # figure size\n",
    "\n",
    "Z = np.transpose(col_map_time)    # change to right way round\n",
    "my_cmap = plt.cm.viridis          # colour scheme\n",
    "num_levels = 100000\n",
    "my_cmap = ListedColormap(my_cmap(np.linspace(0, 1, num_levels)))   # define how fine a colour scale want\n",
    "plt.imshow(Z, cmap=my_cmap, interpolation='nearest', origin='lower')  # produces colour plot\n",
    "plt.xlabel('$N_m(0)$')  # x label\n",
    "plt.ylabel('$N_w(0)$')  # y label\n",
    "\n",
    "# highlights the specific squares with a red rectangle\n",
    "# this is to denote the initial states over which the expected time to invasion is infinite\n",
    "highlight_row, highlight_col = 0, 0\n",
    "rect = Rectangle((highlight_col - 0.5, highlight_row - 0.5), 31, 1, facecolor='red')\n",
    "current_axes = plt.gca()          # saves current axes\n",
    "current_axes.add_patch(rect)      # adds rectangle\n",
    "\n",
    "# colours the squares corresponding to the state space that is out of bounds grey\n",
    "for i in range(max_pop):   # looping over the y axis\n",
    "    highlight_row, highlight_col = max_pop-i,1+i\n",
    "    rect = Rectangle((highlight_col - 0.5, highlight_row - 0.5), max_pop, 1, edgecolor='gray', facecolor='gray')\n",
    "    current_axes.add_patch(rect)    # adds the rectangle\n",
    "\n",
    "plt.colorbar()    # adds colour bar\n",
    "plt.title('Absorption time, $\\phi=${}'.format(phi))        # title\n",
    "plt.savefig('absorb_time_color_map_v09.pdf', bbox_inches='tight')   # save figure"
   ]
  },
  {
   "cell_type": "code",
   "execution_count": null,
   "id": "e7eb21fd-79ee-4ded-a78c-74c5b8bd95cf",
   "metadata": {},
   "outputs": [],
   "source": []
  }
 ],
 "metadata": {
  "kernelspec": {
   "display_name": "venv_dengue",
   "language": "python",
   "name": "python3"
  },
  "language_info": {
   "codemirror_mode": {
    "name": "ipython",
    "version": 3
   },
   "file_extension": ".py",
   "mimetype": "text/x-python",
   "name": "python",
   "nbconvert_exporter": "python",
   "pygments_lexer": "ipython3",
   "version": "3.8.13"
  }
 },
 "nbformat": 4,
 "nbformat_minor": 5
}
