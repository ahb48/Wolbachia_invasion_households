{
 "cells": [
  {
   "cell_type": "markdown",
   "id": "9a575e16-8125-4741-8c05-900a8a9c360f",
   "metadata": {},
   "source": [
    "# Figure 3: contour plots for the basin of attraction over a range of $N_m(0)$ and $N_w(0)$ values"
   ]
  },
  {
   "cell_type": "markdown",
   "id": "03bea5f1-a96e-4285-b52a-cda97451cd9b",
   "metadata": {},
   "source": [
    "## Abby Barlow, University of Bath\n",
    "## Ben Adams, University of Bath"
   ]
  },
  {
   "cell_type": "markdown",
   "id": "d78a77c5-6b95-4175-bfa9-eb76a2bb8b90",
   "metadata": {},
   "source": [
    "Importing required libraries"
   ]
  },
  {
   "cell_type": "code",
   "execution_count": 1,
   "id": "c520ca13-fad8-4c2e-9941-3fcd016d120d",
   "metadata": {},
   "outputs": [],
   "source": [
    "from scipy.optimize import fsolve\n",
    "from scipy.integrate import odeint, solve_ivp\n",
    "import numpy as np\n",
    "import time\n",
    "import pandas as pd\n",
    "import sympy as sp\n",
    "import math\n",
    "import pylab as plt\n",
    "import matplotlib"
   ]
  },
  {
   "cell_type": "markdown",
   "id": "8e389b2c-e5cf-4be7-b535-f743b5088245",
   "metadata": {},
   "source": [
    "Importing required scripts"
   ]
  },
  {
   "cell_type": "code",
   "execution_count": 2,
   "id": "35514ede-966b-4a13-b1ea-383e1762b41f",
   "metadata": {},
   "outputs": [],
   "source": [
    "import importlib\n",
    "import Hughes_model\n",
    "\n",
    "Hughes_ODEs = Hughes_model.Hughes_ODEs\n",
    "F = Hughes_model.F_hughes   # change to F for alternative larval density function\n",
    "\n",
    "# scripts autosave, so no need to re-run code chunk after making changes\n",
    "%load_ext autoreload\n",
    "%autoreload 2"
   ]
  },
  {
   "cell_type": "markdown",
   "id": "160475ca-debb-456b-90bf-1ddb889f9b75",
   "metadata": {},
   "source": [
    "Solving for the coexistence steady state"
   ]
  },
  {
   "cell_type": "code",
   "execution_count": 3,
   "id": "db82f7f5-8236-486d-ba9b-a1ed4a344222",
   "metadata": {},
   "outputs": [],
   "source": [
    "# defining parameters as symbols so can solve symbolically\n",
    "b,nm,nw,u,v,phi,Q,d,dw,h,k = sp.symbols('b nm nw u v phi Q d dw h k') \n",
    "\n",
    "zm = (nm*(nm + (1-v)*phi*nw) + nw*((1-u)*nm + (1-v)*phi*nw))/(nm + nw)\n",
    "zw = v*phi*nw\n",
    "\n",
    "eq1 = b*zm*sp.exp(-h*(nm+nw)**k) - d*nm   # ODE for wild-types\n",
    "eq2 = b*phi*v*sp.exp(-h*(nm+nw)**k) - dw  # ODE for Wolbachia-infected, we have taken out a factor nw\n",
    "\n",
    "### change to below for alternative larval density function\n",
    "#eq1 = b*zm*(1-(nm + nw)/Q) - d*nm\n",
    "#eq2 = b*phi*v*(1-(nm + nw)/Q) - dw  # have taken a factor of nw out\n",
    "\n",
    "sol_coexist = sp.solve([eq1,eq2],[nm,nw])"
   ]
  },
  {
   "cell_type": "markdown",
   "id": "f8e474c3-fa1e-482c-a081-8116f38da300",
   "metadata": {},
   "source": [
    "Convergence checker"
   ]
  },
  {
   "cell_type": "code",
   "execution_count": 4,
   "id": "ace5a894-7b2c-49c5-aff7-a3923fa526c3",
   "metadata": {},
   "outputs": [],
   "source": [
    "def convergence_checker(t, y, u, v, phi, delta, b, d, dw, Q, h, k):\n",
    "    '''Returns the error between the ODE solution and the steady state value it is converging to.'''\n",
    "    tolerance = 1e-4      # tolerance we are allowing\n",
    "    E0 = np.array([0,0])  # extinction state\n",
    "    E1 = np.array([(np.log(d/b)/-h)**(1/k),0])   # wild-type only\n",
    "    E2 = np.array([0,(np.log(d*delta/(b*phi*v))/-h)**(1/k)])  # wolbachia only\n",
    "    max_deviation = min(abs(y - E0).max(), abs(y - E1).max(), abs(y - E2).max())\n",
    "    \n",
    "    return max_deviation - tolerance  # returns difference between tolerance and deviation of ODE solution from SS"
   ]
  },
  {
   "cell_type": "markdown",
   "id": "016d339b-0b4a-4791-a82b-c546d2cf7687",
   "metadata": {},
   "source": [
    "Parameter values"
   ]
  },
  {
   "cell_type": "code",
   "execution_count": 5,
   "id": "859901d9-03fc-4792-8781-135f1be91a3e",
   "metadata": {},
   "outputs": [],
   "source": [
    "days = 5000                  # no. of days in simulation\n",
    "tStart, tEnd = 0, days       # start time and end time (days) of simulation\n",
    "\n",
    "Q = 30        # reproductive carrying capacity\n",
    "d = 12/100    # per capita death rate\n",
    "phi = 9/10    # Wolbachia fitness\n",
    "v = 10/10     # probability of vertical transmission\n",
    "u = 10/10     # probability that infected male and uninfected female produce inviable offspring\n",
    "delta = 1     # ratio of Wolbachia-infected death rate versus wild-type\n",
    "dw = delta*d  # Wolbachia-infected birth rate\n",
    "\n",
    "k = 0.3           # larval competition parameter\n",
    "h = 0.19*100**k   # other larval competition parameter\n",
    "b = round(d/F(10,h,k),2)  # birth rate fitted for Dye's larval density function\n",
    "\n",
    "tEval = np.linspace(tStart, tEnd)   # output points"
   ]
  },
  {
   "cell_type": "code",
   "execution_count": 6,
   "id": "a514c699-7c1b-4b02-8995-a79ae1dbff9c",
   "metadata": {},
   "outputs": [
    {
     "name": "stdout",
     "output_type": "stream",
     "text": [
      "wild-type SS is (9.886789309511753, 0)\n",
      "Wolbachia SS is (0, 7.761054232575853)\n",
      "coexistence SS is (6.98494880931827, 0.776105423257587)\n"
     ]
    }
   ],
   "source": [
    "print('wild-type SS is', ((np.log(d/b)/-h)**(1/k),0))\n",
    "print('Wolbachia SS is', (0,(np.log(d*delta/(b*phi*v))/-h)**(1/k)))\n",
    "\n",
    "nm_co = sol_coexist[1][0].subs({'b':b,'u':u,'v':v,'phi':phi,'Q':Q,'d':d,'dw':dw,'k':k,'h':h}).evalf()\n",
    "nw_co = sol_coexist[1][1].subs({'b':b,'u':u,'v':v,'phi':phi,'Q':Q,'d':d,'dw':dw,'k':k,'h':h}).evalf()\n",
    "print('coexistence SS is',(nm_co,nw_co))"
   ]
  },
  {
   "cell_type": "markdown",
   "id": "09e87bcd-095e-41e9-a588-69578e589e2e",
   "metadata": {},
   "source": [
    "Solving the ODE system after a long time to find the steady state solution for initial condition $N_m(0)$, $N_w(0)$"
   ]
  },
  {
   "cell_type": "code",
   "execution_count": 7,
   "id": "2df0028d-a256-4d7d-b59f-d8b43a3e5cbf",
   "metadata": {},
   "outputs": [],
   "source": [
    "params = (u, v, phi, delta, b, d, dw, Q, h, k)  # parameter values fed into ODE solver\n",
    "\n",
    "nmvec = np.arange(0,31,1)  # array of initial wild-type values\n",
    "nwvec = np.arange(0,31,1)  # array of initial Wolbachia values\n",
    "# column corresponds N_m(0) initial condition and row corresponds to N_w(0)\n",
    "nm_star = np.zeros((len(nmvec),len(nwvec))) # array to hold wild-type ODE solutions\n",
    "nw_star = np.zeros((len(nmvec),len(nwvec))) # array to hol Wolbachia-only ODE solutions\n",
    "\n",
    "atol_value = 1e-7  # tolerance settings for ODE solver\n",
    "rtol_value = 1e-7\n",
    "\n",
    "for i in range(len(nmvec)):      # looping over initial condition on N_m(0)\n",
    "    for j in range(len(nwvec)):  # looping over initial condition on N_w(0)\n",
    "        y0 = np.zeros(2)         # initialising array for intial household state (no. of wild-types and W-infected)\n",
    "        y0[0] = nmvec[i]         # current initial number of wild-types\n",
    "        y0[1] = nwvec[j]         # current initial number of W-infected\n",
    "        \n",
    "        if y0[0] + y0[1] <= Q:  # check not above bound on household size\n",
    "            # solving the ODEs after 5000 days\n",
    "            sol = solve_ivp(Hughes_ODEs, y0 = y0, method='LSODA', t_span = [tStart, tEnd], t_eval = tEval, args=params, atol=atol_value, rtol=rtol_value, events=convergence_checker) \n",
    "            sol_df = pd.DataFrame(np.transpose(sol.y)) # putting into data frame\n",
    "            nm_star[i,j] = sol_df.iloc[len(sol.t)-1,0] # extracting the wild-type solution at 5000 days\n",
    "            nw_star[i,j] = sol_df.iloc[len(sol.t)-1,1] # extracting the W-infected solution"
   ]
  },
  {
   "cell_type": "markdown",
   "id": "df2e3860-cd4a-4345-a125-a7b79714a27e",
   "metadata": {},
   "source": [
    "Classifying which SS attracted to for each initial condition"
   ]
  },
  {
   "cell_type": "code",
   "execution_count": 8,
   "id": "83d11d33-872f-4ac2-89c2-3a5289e8f37e",
   "metadata": {},
   "outputs": [],
   "source": [
    "# initialise vector which stores attracting SS for specified IC\n",
    "steady_state_col = np.zeros((len(nwvec),len(nmvec))) \n",
    "\n",
    "E0 = np.array([0,0])   # extinction SS value\n",
    "E1 = np.array([(np.log(d/b)/-h)**(1/k),0])    # wild-type only SS  \n",
    "#E1 = np.array([Q*(1-d/b),0]) for alternative larval density function\n",
    "E2 = np.array([0,(np.log(d*delta/(b*phi*v))/-h)**(1/k)])   # wolbachia only SS\n",
    "#E2 = np.array([0,Q*(1-dw/(b*phi*v))]) for alternative larval density function \n",
    "E3 = np.array([nm_co,nw_co])  # coexistence SS value\n",
    "\n",
    "for i in range(len(nmvec)):     # looping over initial condition on N_m(0)  \n",
    "    for j in range(len(nwvec)):   # looping over initial condition on N_w(0)\n",
    "        if np.all([nm_star[i,j],nw_star[i,j]]-E0<1e-3):   # if ODE solution close enough to extinction SS\n",
    "            steady_state_col[i,j] = 0                     # set array entry to 0\n",
    "        elif np.all([nm_star[i,j],nw_star[i,j]]-E1<1e-3): # if ODE solution close enough to wild-type only SS\n",
    "            steady_state_col[i,j] = 1                     # set array entry to 1\n",
    "        elif np.all([nm_star[i,j],nw_star[i,j]]-E2<1e-3): # if ODE solution close enough to Wolbachia only SS\n",
    "            steady_state_col[i,j] = 2                     # set array entry to 2\n",
    "        elif np.all([nm_star[i,j],nw_star[i,j]]-E3<1e-3): # if ODE solution close enough to coexistence SS\n",
    "            steady_state_col[i,j] = 3                     # set array entry to 3 \n",
    "        if i+j > 30:\n",
    "            steady_state_col[i,j] = 0      # if initial condition outside of household size bounds, set array to 0"
   ]
  },
  {
   "cell_type": "code",
   "execution_count": 9,
   "id": "c28979ff-e964-488d-830c-2ac3ea0147c3",
   "metadata": {},
   "outputs": [
    {
     "name": "stderr",
     "output_type": "stream",
     "text": [
      "findfont: Font family ['cmsy10'] not found. Falling back to DejaVu Sans.\n",
      "findfont: Font family ['cmr10'] not found. Falling back to DejaVu Sans.\n",
      "findfont: Font family ['cmtt10'] not found. Falling back to DejaVu Sans.\n",
      "findfont: Font family ['cmmi10'] not found. Falling back to DejaVu Sans.\n",
      "findfont: Font family ['cmb10'] not found. Falling back to DejaVu Sans.\n",
      "findfont: Font family ['cmss10'] not found. Falling back to DejaVu Sans.\n",
      "findfont: Font family ['cmex10'] not found. Falling back to DejaVu Sans.\n"
     ]
    },
    {
     "data": {
      "image/png": "[encoded data removed]",
      "text/plain": [
       "<Figure size 360x360 with 1 Axes>"
      ]
     },
     "metadata": {
      "needs_background": "light"
     },
     "output_type": "display_data"
    }
   ],
   "source": [
    "Z = np.transpose(steady_state_col) # swap array to correct way round\n",
    "np.save('contours_phi09_dye.npy', Z) # save data\n",
    "\n",
    "plt.figure(figsize=(5, 5)) # figure size\n",
    "matplotlib.rcParams.update({'font.size': 15})  # font size\n",
    "\n",
    "plt.xlabel('$N_m(0)$')   # x label\n",
    "plt.ylabel('$N_w(0)$')   # y label\n",
    "plt.xticks([0,5,10,15,20,25,30])   # specifying x ticks\n",
    "x = np.arange(Z.shape[1])  # make array of identical x values\n",
    "\n",
    "# Calculate contour levels based on data\n",
    "levels = np.linspace(np.min(Z), np.max(Z), num=5)   # num 5 alters the number of contours shown\n",
    "# fills in the quadrant above the household size boundary grey\n",
    "# zorder command ensures grey shading brought to the front\n",
    "plt.fill_between(x,30-x,np.max(x),color='gray', zorder=10) \n",
    "plt.contour(Z, levels=levels, colors='black')  # plot contours defining boundaries for SS attraction\n",
    "\n",
    "plt.text(1,7,'Wolbachia-only SS',fontsize=12)   # add labels for Wolbachia or wild-type attracting\n",
    "plt.text(14,0.2,'wild-type-only SS',fontsize=12)\n",
    "\n",
    "plt.title('$\\phi=${}'.format(phi))  # title\n",
    "plt.savefig('contor_plot_dye_phi09.pdf', bbox_inches='tight')  # save figure"
   ]
  }
 ],
 "metadata": {
  "kernelspec": {
   "display_name": "venv1",
   "language": "python",
   "name": "venv1"
  },
  "language_info": {
   "codemirror_mode": {
    "name": "ipython",
    "version": 3
   },
   "file_extension": ".py",
   "mimetype": "text/x-python",
   "name": "python",
   "nbconvert_exporter": "python",
   "pygments_lexer": "ipython3",
   "version": "3.10.11"
  }
 },
 "nbformat": 4,
 "nbformat_minor": 5
}
