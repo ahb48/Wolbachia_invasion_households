{
 "cells": [
  {
   "cell_type": "markdown",
   "id": "9a575e16-8125-4741-8c05-900a8a9c360f",
   "metadata": {},
   "source": [
    "# Figure 3: plots for the basin of attraction over a range of $N_m(0)$ and $N_w(0)$ values"
   ]
  },
  {
   "cell_type": "markdown",
   "id": "03bea5f1-a96e-4285-b52a-cda97451cd9b",
   "metadata": {},
   "source": [
    "## Abby Barlow, University of Bath\n",
    "## Ben Adams, University of Bath"
   ]
  },
  {
   "cell_type": "markdown",
   "id": "d78a77c5-6b95-4175-bfa9-eb76a2bb8b90",
   "metadata": {},
   "source": [
    "Importing required libraries"
   ]
  },
  {
   "cell_type": "code",
   "execution_count": 1,
   "id": "c520ca13-fad8-4c2e-9941-3fcd016d120d",
   "metadata": {},
   "outputs": [],
   "source": [
    "from scipy.optimize import fsolve\n",
    "from scipy.integrate import odeint, solve_ivp\n",
    "import numpy as np\n",
    "import time\n",
    "import pandas as pd\n",
    "import sympy as sp\n",
    "import math\n",
    "import pylab as plt\n",
    "import matplotlib\n",
    "from sklearn import svm"
   ]
  },
  {
   "cell_type": "markdown",
   "id": "8e389b2c-e5cf-4be7-b535-f743b5088245",
   "metadata": {},
   "source": [
    "Importing required scripts"
   ]
  },
  {
   "cell_type": "code",
   "execution_count": 2,
   "id": "35514ede-966b-4a13-b1ea-383e1762b41f",
   "metadata": {},
   "outputs": [],
   "source": [
    "import importlib\n",
    "import Hughes_model\n",
    "\n",
    "Hughes_ODEs = Hughes_model.Hughes_ODEs\n",
    "F = Hughes_model.F_hughes   # change to F for alternative larval density function\n",
    "\n",
    "# scripts autosave, so no need to re-run code chunk after making changes\n",
    "%load_ext autoreload\n",
    "%autoreload 2"
   ]
  },
  {
   "cell_type": "markdown",
   "id": "f0e3a9d7",
   "metadata": {},
   "source": [
    "Loading in data created in MATLAB\n",
    "This corresponds to the parameter values in the main manuscript, $\\phi=0.85$ and $v=1$."
   ]
  },
  {
   "cell_type": "code",
   "execution_count": 3,
   "id": "c134d8b5",
   "metadata": {},
   "outputs": [
    {
     "data": {
      "text/html": [
       "<div>\n",
       "<style scoped>\n",
       "    .dataframe tbody tr th:only-of-type {\n",
       "        vertical-align: middle;\n",
       "    }\n",
       "\n",
       "    .dataframe tbody tr th {\n",
       "        vertical-align: top;\n",
       "    }\n",
       "\n",
       "    .dataframe thead th {\n",
       "        text-align: right;\n",
       "    }\n",
       "</style>\n",
       "<table border=\"1\" class=\"dataframe\">\n",
       "  <thead>\n",
       "    <tr style=\"text-align: right;\">\n",
       "      <th></th>\n",
       "      <th>res_detail_new1_1</th>\n",
       "      <th>res_detail_new1_2</th>\n",
       "      <th>res_detail_new2_1</th>\n",
       "      <th>res_detail_new2_2</th>\n",
       "      <th>res_detail_new3</th>\n",
       "      <th>res_detail_new4</th>\n",
       "      <th>res_detail_new5_1</th>\n",
       "      <th>res_detail_new5_2</th>\n",
       "    </tr>\n",
       "  </thead>\n",
       "  <tbody>\n",
       "    <tr>\n",
       "      <th>0</th>\n",
       "      <td>22.252683</td>\n",
       "      <td>18.063004</td>\n",
       "      <td>0</td>\n",
       "      <td>1</td>\n",
       "      <td>y1</td>\n",
       "      <td>0</td>\n",
       "      <td>22.252683</td>\n",
       "      <td>18.063004</td>\n",
       "    </tr>\n",
       "    <tr>\n",
       "      <th>1</th>\n",
       "      <td>8.008507</td>\n",
       "      <td>6.424743</td>\n",
       "      <td>0</td>\n",
       "      <td>1</td>\n",
       "      <td>y1</td>\n",
       "      <td>0</td>\n",
       "      <td>8.008507</td>\n",
       "      <td>6.765389</td>\n",
       "    </tr>\n",
       "    <tr>\n",
       "      <th>2</th>\n",
       "      <td>7.309911</td>\n",
       "      <td>20.182534</td>\n",
       "      <td>0</td>\n",
       "      <td>1</td>\n",
       "      <td>y1</td>\n",
       "      <td>0</td>\n",
       "      <td>7.309911</td>\n",
       "      <td>20.182534</td>\n",
       "    </tr>\n",
       "    <tr>\n",
       "      <th>3</th>\n",
       "      <td>4.936612</td>\n",
       "      <td>9.708189</td>\n",
       "      <td>0</td>\n",
       "      <td>1</td>\n",
       "      <td>y1</td>\n",
       "      <td>0</td>\n",
       "      <td>4.936612</td>\n",
       "      <td>9.708189</td>\n",
       "    </tr>\n",
       "    <tr>\n",
       "      <th>4</th>\n",
       "      <td>18.228230</td>\n",
       "      <td>19.028371</td>\n",
       "      <td>0</td>\n",
       "      <td>1</td>\n",
       "      <td>y1</td>\n",
       "      <td>0</td>\n",
       "      <td>18.228230</td>\n",
       "      <td>19.028371</td>\n",
       "    </tr>\n",
       "    <tr>\n",
       "      <th>...</th>\n",
       "      <td>...</td>\n",
       "      <td>...</td>\n",
       "      <td>...</td>\n",
       "      <td>...</td>\n",
       "      <td>...</td>\n",
       "      <td>...</td>\n",
       "      <td>...</td>\n",
       "      <td>...</td>\n",
       "    </tr>\n",
       "    <tr>\n",
       "      <th>995</th>\n",
       "      <td>1.338398</td>\n",
       "      <td>0.500576</td>\n",
       "      <td>0</td>\n",
       "      <td>1</td>\n",
       "      <td>y1</td>\n",
       "      <td>0</td>\n",
       "      <td>1.743414</td>\n",
       "      <td>6.765389</td>\n",
       "    </tr>\n",
       "    <tr>\n",
       "      <th>996</th>\n",
       "      <td>15.175962</td>\n",
       "      <td>22.176160</td>\n",
       "      <td>0</td>\n",
       "      <td>1</td>\n",
       "      <td>y1</td>\n",
       "      <td>0</td>\n",
       "      <td>15.175962</td>\n",
       "      <td>22.176160</td>\n",
       "    </tr>\n",
       "    <tr>\n",
       "      <th>997</th>\n",
       "      <td>28.547103</td>\n",
       "      <td>1.623432</td>\n",
       "      <td>1</td>\n",
       "      <td>0</td>\n",
       "      <td>y2</td>\n",
       "      <td>0</td>\n",
       "      <td>28.547103</td>\n",
       "      <td>1.623432</td>\n",
       "    </tr>\n",
       "    <tr>\n",
       "      <th>998</th>\n",
       "      <td>17.337572</td>\n",
       "      <td>7.287094</td>\n",
       "      <td>0</td>\n",
       "      <td>1</td>\n",
       "      <td>y1</td>\n",
       "      <td>0</td>\n",
       "      <td>17.337572</td>\n",
       "      <td>7.287094</td>\n",
       "    </tr>\n",
       "    <tr>\n",
       "      <th>999</th>\n",
       "      <td>13.182422</td>\n",
       "      <td>21.880275</td>\n",
       "      <td>0</td>\n",
       "      <td>1</td>\n",
       "      <td>y1</td>\n",
       "      <td>0</td>\n",
       "      <td>13.182422</td>\n",
       "      <td>21.880275</td>\n",
       "    </tr>\n",
       "  </tbody>\n",
       "</table>\n",
       "<p>1000 rows × 8 columns</p>\n",
       "</div>"
      ],
      "text/plain": [
       "     res_detail_new1_1  res_detail_new1_2  res_detail_new2_1  \\\n",
       "0            22.252683          18.063004                  0   \n",
       "1             8.008507           6.424743                  0   \n",
       "2             7.309911          20.182534                  0   \n",
       "3             4.936612           9.708189                  0   \n",
       "4            18.228230          19.028371                  0   \n",
       "..                 ...                ...                ...   \n",
       "995           1.338398           0.500576                  0   \n",
       "996          15.175962          22.176160                  0   \n",
       "997          28.547103           1.623432                  1   \n",
       "998          17.337572           7.287094                  0   \n",
       "999          13.182422          21.880275                  0   \n",
       "\n",
       "     res_detail_new2_2 res_detail_new3  res_detail_new4  res_detail_new5_1  \\\n",
       "0                    1              y1                0          22.252683   \n",
       "1                    1              y1                0           8.008507   \n",
       "2                    1              y1                0           7.309911   \n",
       "3                    1              y1                0           4.936612   \n",
       "4                    1              y1                0          18.228230   \n",
       "..                 ...             ...              ...                ...   \n",
       "995                  1              y1                0           1.743414   \n",
       "996                  1              y1                0          15.175962   \n",
       "997                  0              y2                0          28.547103   \n",
       "998                  1              y1                0          17.337572   \n",
       "999                  1              y1                0          13.182422   \n",
       "\n",
       "     res_detail_new5_2  \n",
       "0            18.063004  \n",
       "1             6.765389  \n",
       "2            20.182534  \n",
       "3             9.708189  \n",
       "4            19.028371  \n",
       "..                 ...  \n",
       "995           6.765389  \n",
       "996          22.176160  \n",
       "997           1.623432  \n",
       "998           7.287094  \n",
       "999          21.880275  \n",
       "\n",
       "[1000 rows x 8 columns]"
      ]
     },
     "execution_count": 3,
     "metadata": {},
     "output_type": "execute_result"
    }
   ],
   "source": [
    "# Load CSV file\n",
    "res_detail = pd.read_csv('res_detail.csv')  # for Dye's larval density function, swap qu for dye\n",
    "\n",
    "res_detail"
   ]
  },
  {
   "cell_type": "markdown",
   "id": "4faa8ae0",
   "metadata": {},
   "source": [
    "Plotting the MATLAB data"
   ]
  },
  {
   "cell_type": "code",
   "execution_count": 4,
   "id": "00a1a0f6",
   "metadata": {},
   "outputs": [
    {
     "name": "stderr",
     "output_type": "stream",
     "text": [
      "findfont: Font family ['cmsy10'] not found. Falling back to DejaVu Sans.\n",
      "findfont: Font family ['cmr10'] not found. Falling back to DejaVu Sans.\n",
      "findfont: Font family ['cmtt10'] not found. Falling back to DejaVu Sans.\n",
      "findfont: Font family ['cmmi10'] not found. Falling back to DejaVu Sans.\n",
      "findfont: Font family ['cmb10'] not found. Falling back to DejaVu Sans.\n",
      "findfont: Font family ['cmss10'] not found. Falling back to DejaVu Sans.\n",
      "findfont: Font family ['cmex10'] not found. Falling back to DejaVu Sans.\n"
     ]
    },
    {
     "data": {
      "image/png": "[encoded data removed]",
      "text/plain": [
       "<Figure size 432x288 with 1 Axes>"
      ]
     },
     "metadata": {
      "needs_background": "light"
     },
     "output_type": "display_data"
    }
   ],
   "source": [
    "# Create a color map, blue for wildtype attracting, red for Wolbachia attracting\n",
    "colors = ['red' if x == 'y1' else 'blue' for x in res_detail['res_detail_new3']]\n",
    "# plot \n",
    "plt.scatter(res_detail['res_detail_new1_1'], res_detail['res_detail_new1_2'], c=colors, s=1)\n",
    "plt.xlabel('$N_m(0)$')\n",
    "plt.ylabel('$N_w(0)$')\n",
    "plt.show()"
   ]
  },
  {
   "cell_type": "markdown",
   "id": "a57c32bf",
   "metadata": {},
   "source": [
    "Plotting the basin of attraction over the initial state conditions"
   ]
  },
  {
   "cell_type": "code",
   "execution_count": 5,
   "id": "4e8d4fd0",
   "metadata": {},
   "outputs": [
    {
     "data": {
      "text/plain": [
       "(0.0, 30.0)"
      ]
     },
     "execution_count": 5,
     "metadata": {},
     "output_type": "execute_result"
    },
    {
     "data": {
      "image/png": "[encoded data removed]",
      "text/plain": [
       "<Figure size 360x360 with 1 Axes>"
      ]
     },
     "metadata": {
      "needs_background": "light"
     },
     "output_type": "display_data"
    }
   ],
   "source": [
    "\n",
    "plt.figure(figsize=(5, 5)) # figure size\n",
    "matplotlib.rcParams.update({'font.size': 15})  # font size\n",
    "\n",
    "# Create a new column where 'y1' is 1 and other values are -1\n",
    "res_detail['color'] = [1 if x == 'y1' else -1 for x in res_detail['res_detail_new3']]\n",
    "\n",
    "# Fit the SVM model\n",
    "clf = svm.SVC(kernel='linear', C=1000)\n",
    "clf.fit(res_detail[['res_detail_new1_1', 'res_detail_new1_2']], res_detail['color'])\n",
    "\n",
    "# Get the separating hyperplane\n",
    "w = clf.coef_[0]   # coefficients\n",
    "a = -w[0] / w[1]\n",
    "# x values\n",
    "xx = np.linspace(min(res_detail['res_detail_new1_1']), 30)\n",
    "# y values\n",
    "yy = a * xx - (clf.intercept_[0]) / w[1]\n",
    "\n",
    "# Plot the line\n",
    "plt.plot(xx, yy, 'k-')\n",
    "plt.plot(xx, 10-xx, 'b--')  # plot the line N_w(0) = 10 - N_m(0)\n",
    "\n",
    "# fills in the quadrant above the household size boundary grey\n",
    "# zorder command ensures grey shading brought to the front\n",
    "xs = np.linspace(0,30,100)\n",
    "plt.fill_between(xs,30.1-xs,np.max(xs),color='gray', zorder=10) \n",
    "\n",
    "plt.xlabel('$N_m(0)$')   # x label\n",
    "plt.ylabel('$N_w(0)$')   # y label\n",
    "\n",
    "plt.text(3,8,'bistable + E2',fontsize=15)   # add labels for Wolbachia or wild-type attracting\n",
    "plt.text(14,1,'bistable + E1',fontsize=15)\n",
    "\n",
    "plt.xlim(0,30) # x,y limits\n",
    "plt.ylim(0,30)\n",
    "\n",
    "#plt.savefig('contor_plot_qu_phi085.pdf', bbox_inches='tight')  # save figure"
   ]
  },
  {
   "cell_type": "markdown",
   "id": "1f2f7f77",
   "metadata": {},
   "source": [
    "Calculating the proportion of Wolbachia-infected mosquitoes on the boundary"
   ]
  },
  {
   "cell_type": "code",
   "execution_count": 6,
   "id": "e256f663",
   "metadata": {},
   "outputs": [
    {
     "name": "stdout",
     "output_type": "stream",
     "text": [
      "proportion of Wolbachia-infected mosquitoes on the boundary is [1.         0.13385357 0.14210661 0.14482279 0.14617443 0.14698337\n",
      " 0.14752182 0.147906   0.14819391 0.14841771 0.14859666 0.14874302\n",
      " 0.14886495 0.1489681  0.14905648 0.14913307 0.14920008 0.14925919\n",
      " 0.14931173 0.14935873 0.14940102 0.14943929 0.14947407 0.14950583\n",
      " 0.14953494 0.14956171 0.14958643 0.14960931 0.14963056 0.14965034\n",
      " 0.14966881]\n"
     ]
    }
   ],
   "source": [
    "xvec = np.arange(0, 31, 1)\n",
    "yvec = a * xvec - (clf.intercept_[0]) / w[1]\n",
    "np.save('det_boundary.npy', yvec)   # save boundary values for later use\n",
    "print('proportion of Wolbachia-infected mosquitoes on the boundary is', yvec/(xvec+yvec))"
   ]
  },
  {
   "cell_type": "markdown",
   "id": "160475ca-debb-456b-90bf-1ddb889f9b75",
   "metadata": {},
   "source": [
    "Solving for the coexistence steady state"
   ]
  },
  {
   "cell_type": "code",
   "execution_count": 7,
   "id": "db82f7f5-8236-486d-ba9b-a1ed4a344222",
   "metadata": {},
   "outputs": [],
   "source": [
    "# defining parameters as symbols so can solve symbolically\n",
    "b,nm,nw,u,v,phi,Q,d,dw,h,k = sp.symbols('b nm nw u v phi Q d dw h k') \n",
    "\n",
    "zm = (nm*(nm + (1-v)*phi*nw) + nw*((1-u)*nm + (1-v)*phi*nw))/(nm + nw)\n",
    "zw = v*phi*nw\n",
    "\n",
    "eq1 = b*zm*sp.exp(-h*(nm+nw)**k) - d*nm   # ODE for wild-types\n",
    "eq2 = b*phi*v*sp.exp(-h*(nm+nw)**k) - dw  # ODE for Wolbachia-infected, we have taken out a factor nw\n",
    "\n",
    "### change to below for alternative larval density function\n",
    "#eq1 = b*zm*(1-(nm + nw)/Q) - d*nm\n",
    "#eq2 = b*phi*v*(1-(nm + nw)/Q) - dw  # have taken a factor of nw out\n",
    "\n",
    "sol_coexist = sp.solve([eq1,eq2],[nm,nw])"
   ]
  },
  {
   "cell_type": "markdown",
   "id": "016d339b-0b4a-4791-a82b-c546d2cf7687",
   "metadata": {},
   "source": [
    "Parameter values"
   ]
  },
  {
   "cell_type": "code",
   "execution_count": 8,
   "id": "859901d9-03fc-4792-8781-135f1be91a3e",
   "metadata": {},
   "outputs": [],
   "source": [
    "days = 5000                  # no. of days in simulation\n",
    "tStart, tEnd = 0, days       # start time and end time (days) of simulation\n",
    "\n",
    "Q = 30        # reproductive carrying capacity\n",
    "d = 12/100    # per capita death rate\n",
    "phi = 8.5/10    # Wolbachia fitness\n",
    "v = 10/10     # probability of vertical transmission\n",
    "u = 10/10     # probability that infected male and uninfected female produce inviable offspring\n",
    "delta = 1     # ratio of Wolbachia-infected death rate versus wild-type\n",
    "dw = delta*d  # Wolbachia-infected birth rate\n",
    "\n",
    "k = 0.3           # larval competition parameter\n",
    "h = 0.19*100**k   # other larval competition parameter\n",
    "b = round(d/F(10,h,k,Q),2)  # birth rate fitted for Dye's larval density function\n",
    "\n",
    "tEval = np.linspace(tStart, tEnd)   # output points"
   ]
  },
  {
   "cell_type": "code",
   "execution_count": 9,
   "id": "a514c699-7c1b-4b02-8995-a79ae1dbff9c",
   "metadata": {},
   "outputs": [
    {
     "name": "stdout",
     "output_type": "stream",
     "text": [
      "wild-type SS is (9.886789309511753, 0)\n",
      "Wolbachia SS is (0, 6.753361729430393)\n",
      "coexistence SS is (5.74035747001583, 1.01300425941456)\n"
     ]
    }
   ],
   "source": [
    "print('wild-type SS is', ((np.log(d/b)/-h)**(1/k),0))\n",
    "print('Wolbachia SS is', (0,(np.log(d*delta/(b*phi*v))/-h)**(1/k)))\n",
    "\n",
    "nm_co = sol_coexist[1][0].subs({'b':b,'u':u,'v':v,'phi':phi,'Q':Q,'d':d,'dw':dw,'k':k,'h':h}).evalf()\n",
    "nw_co = sol_coexist[1][1].subs({'b':b,'u':u,'v':v,'phi':phi,'Q':Q,'d':d,'dw':dw,'k':k,'h':h}).evalf()\n",
    "print('coexistence SS is',(nm_co,nw_co))"
   ]
  },
  {
   "cell_type": "markdown",
   "id": "ee7fe5d1-cd12-4b31-a79f-3dabd16429df",
   "metadata": {},
   "source": [
    "For Figure 10 you will need to save the data from here and then run the code in 'Figure_10.ipynb'."
   ]
  },
  {
   "cell_type": "markdown",
   "id": "54f75ac4",
   "metadata": {},
   "source": [
    "For Appendix Figure A2, change the larval density function and rerun the bSTAB code and then this notebook."
   ]
  }
 ],
 "metadata": {
  "kernelspec": {
   "display_name": "venv_dengue",
   "language": "python",
   "name": "python3"
  },
  "language_info": {
   "codemirror_mode": {
    "name": "ipython",
    "version": 3
   },
   "file_extension": ".py",
   "mimetype": "text/x-python",
   "name": "python",
   "nbconvert_exporter": "python",
   "pygments_lexer": "ipython3",
   "version": "3.8.13"
  }
 },
 "nbformat": 4,
 "nbformat_minor": 5
}
