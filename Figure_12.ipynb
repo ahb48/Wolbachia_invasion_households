{
 "cells": [
  {
   "cell_type": "markdown",
   "id": "eba1cf56-964f-4105-9bcd-d1462d3d5bf3",
   "metadata": {},
   "source": [
    "# Figure 12: colour plot of the individual state entropies for the 30 mosquito model with no reversion."
   ]
  },
  {
   "cell_type": "markdown",
   "id": "a0155da8-1adb-41d0-af9a-fd11fff2aa42",
   "metadata": {},
   "source": [
    "## Abby Barlow, University of Bath\n",
    "## Ben Adams, University of Bath"
   ]
  },
  {
   "cell_type": "markdown",
   "id": "ac9cd51b-02d6-423b-b218-4682fdd591cb",
   "metadata": {},
   "source": [
    "Import required libraries"
   ]
  },
  {
   "cell_type": "code",
   "execution_count": 1,
   "id": "26129af3-3f8c-48d8-8917-4ba5bef956eb",
   "metadata": {},
   "outputs": [],
   "source": [
    "import numpy as np\n",
    "import pylab as plt\n",
    "import matplotlib\n",
    "from matplotlib.colors import ListedColormap\n",
    "from matplotlib.patches import Rectangle"
   ]
  },
  {
   "cell_type": "markdown",
   "id": "30bc672f-d8a2-45e7-8801-4eeed2d21dac",
   "metadata": {},
   "source": [
    "Import required scripts"
   ]
  },
  {
   "cell_type": "code",
   "execution_count": 2,
   "id": "a4c25158-bc90-49b7-8511-d90dc6e56a1d",
   "metadata": {},
   "outputs": [],
   "source": [
    "import importlib\n",
    "import Rate_transitions\n",
    "import Finding_dictionary_keys\n",
    "import Hughes_model\n",
    "import Entropies\n",
    "import Finding_full_Q\n",
    "import Tridiagonalisation\n",
    "import Finding_sub_Q\n",
    "import Lower_block_triangular\n",
    "\n",
    "get_transition = Rate_transitions.get_transition_Hughes\n",
    "find_keys = Finding_dictionary_keys.find_keys\n",
    "F = Hughes_model.F_hughes\n",
    "entropy = Entropies.entropy\n",
    "getQ = Finding_full_Q.getQ_Hughes\n",
    "tridiagonal = Tridiagonalisation.tridiagonal\n",
    "getQk = Finding_sub_Q.getQk_Hughes\n",
    "LBTQ = Lower_block_triangular.LBTQ_Hughes_comp\n",
    "\n",
    "# scripts autosave, so no need to re-run code chunk after making changes\n",
    "%load_ext autoreload\n",
    "%autoreload 2"
   ]
  },
  {
   "cell_type": "markdown",
   "id": "2913d751-17d4-452f-a7a1-35972dcbe569",
   "metadata": {},
   "source": [
    "Parameter values"
   ]
  },
  {
   "cell_type": "code",
   "execution_count": 3,
   "id": "4ce67023-a4b9-428b-9ad8-746dcc8f9bf2",
   "metadata": {},
   "outputs": [],
   "source": [
    "K = 30        # reproductive carrying capacity\n",
    "d1 = 12/100   # wild-type death rate\n",
    "d2 = 12/100   # Wolbachia death rate\n",
    "phi = 9/10    # Wolbachia fitness\n",
    "\n",
    "v = 10/10     # probability of vertical transmission\n",
    "u = 10/10     # ratio of unviable offspring produced by an infected male and uninfected female\n",
    "\n",
    "k = 0.3           # Mosquito competition parameter\n",
    "h = 0.19*100**k   # Mosquito competition parameter\n",
    "\n",
    "b1 = round(d1/F(10,h,k),2) # wild-type per capita birth rate\n",
    "b2 = b1*phi                # Wolbachia per capita birth rate\n",
    "\n",
    "# create a dictionary to store all parameter values\n",
    "params_dict = {'b1': b1,\n",
    "              'b2': b2,\n",
    "              'K': K,\n",
    "              'd1': d1,\n",
    "              'd2': d2,\n",
    "              'v': v,\n",
    "              'phi': phi,\n",
    "              'u': u,\n",
    "              'h': h,\n",
    "              'k': k\n",
    "              }"
   ]
  },
  {
   "cell_type": "markdown",
   "id": "e93d5da8-6e52-40ea-8047-5ef60b90f5fe",
   "metadata": {},
   "source": [
    "Construct dictionaries for the full state space"
   ]
  },
  {
   "cell_type": "code",
   "execution_count": 4,
   "id": "af7cd777-2bc9-4850-9995-6af6ee888078",
   "metadata": {},
   "outputs": [],
   "source": [
    "# construct a dictionary that associated an integer index with each possible states, states are stored as an np.array - easier to apply mathematical operations than tuple \n",
    "max_pop = 30 # maximum household size\n",
    "state_dict = {index: np.array((i, j)) for index, (i, j) in enumerate([(i, j) for i in range(max_pop + 1) for j in range(max_pop + 1) if i + j <= max_pop])}"
   ]
  },
  {
   "cell_type": "markdown",
   "id": "2eee86bd-e590-45bc-b52f-3e4504d6dea5",
   "metadata": {},
   "source": [
    "Finding the full Q matrix"
   ]
  },
  {
   "cell_type": "code",
   "execution_count": 5,
   "id": "c2b28060-c828-4acc-a10d-5e21c0a2bfba",
   "metadata": {},
   "outputs": [],
   "source": [
    "# construct a matrix Q for the transition rate q_ij betweeen states i and j\n",
    "n_states = len(state_dict)  # total number of states\n",
    "Q = getQ(state_dict,params_dict)"
   ]
  },
  {
   "cell_type": "markdown",
   "id": "7d91bb81-a54a-44ad-aa24-bad3ae88839f",
   "metadata": {},
   "source": [
    "Constructing dictionaries for each communicating class and their sub-Q matrices"
   ]
  },
  {
   "cell_type": "code",
   "execution_count": 6,
   "id": "65bf872c-c5c9-49f6-9f62-cfd7b5e79e8d",
   "metadata": {},
   "outputs": [],
   "source": [
    "### S1 corresponds to the wild-type-only states, S2 to the Wolbachia-only and S3 the mixed states\n",
    "state_dict_S1 = {index: np.array((i, 0)) for index, i in enumerate([i for i in range(1,max_pop + 1)])}\n",
    "state_dict_S2 = {index: np.array((0, i)) for index, i in enumerate([i for i in range(1,max_pop + 1)])}\n",
    "state_dict_S3 = {index: np.array((i,j)) for index, (i,j) in enumerate([(i, j) for i in range(1,max_pop + 1) for j in range(1,max_pop + 1) if i + j <= max_pop])}\n",
    "\n",
    "# finding the sub-q matrices and their respective ordered lists of states in the class\n",
    "# we will use these list to rearrange Q into lower block triangular form\n",
    "Q1,key_list1 = getQk(state_dict_S1,state_dict,Q,params_dict)\n",
    "Q2,key_list2 = getQk(state_dict_S2,state_dict,Q,params_dict)\n",
    "Q3,key_list3 = getQk(state_dict_S3,state_dict,Q,params_dict)"
   ]
  },
  {
   "cell_type": "markdown",
   "id": "4b14d7dd-8003-4e8b-acf7-20f581faf0ab",
   "metadata": {},
   "source": [
    "Finding the lower block triangular form of Q"
   ]
  },
  {
   "cell_type": "code",
   "execution_count": 7,
   "id": "ab3b70e2-71ce-4f64-bc2b-ec3b1000f3da",
   "metadata": {},
   "outputs": [],
   "source": [
    "Q_lower_block_triang, state_dict_relabel = LBTQ(Q,state_dict,state_dict_S1,state_dict_S2,state_dict_S3,max_pop,params_dict)"
   ]
  },
  {
   "cell_type": "markdown",
   "id": "a1a701ac-782a-406c-b8cc-0f75001e8800",
   "metadata": {},
   "source": [
    "Finding the QSD"
   ]
  },
  {
   "cell_type": "code",
   "execution_count": 8,
   "id": "d0cbe1c4-eaa2-4ccb-bf20-77ae283d9265",
   "metadata": {},
   "outputs": [],
   "source": [
    "# we take the transpose of Q so we obtain the left eigenvector not right\n",
    "evals, evecs = np.linalg.eig(Q_lower_block_triang.T)  # all eigenvalues and eigenvectors\n",
    "decay_indx = np.argmax([x for x in evals if x != 0])  # index for over all eigenvalue of minimal magnitude\n",
    "uvec = evecs[:,decay_indx]                # the corresponding left eigenvector\n",
    "quasi_stat_dist = uvec/np.sum(uvec)       # normalising to sum to 1"
   ]
  },
  {
   "cell_type": "markdown",
   "id": "7f20ae43-f66a-49eb-9660-5558faa7a324",
   "metadata": {},
   "source": [
    "Calculating the total and individual state entropies"
   ]
  },
  {
   "cell_type": "code",
   "execution_count": 9,
   "id": "500216d0-4ee4-4cb1-a1f4-a1fc41ba770f",
   "metadata": {},
   "outputs": [],
   "source": [
    "H_vec, H = entropy(Q_lower_block_triang,quasi_stat_dist)"
   ]
  },
  {
   "cell_type": "markdown",
   "id": "9cff519b-bf81-4385-b55f-e84c857044d7",
   "metadata": {},
   "source": [
    "Putting the entopies into an array in the correct format for the colour plot"
   ]
  },
  {
   "cell_type": "code",
   "execution_count": 10,
   "id": "d59bff23-b637-4ce6-be84-b8e5d9b7a4e4",
   "metadata": {},
   "outputs": [],
   "source": [
    "col_map_entr = np.zeros((max_pop+1,max_pop+1))  # intialising the array for the colour plot\n",
    "    \n",
    "for k in range(n_states-1):               # looping over the state space\n",
    "    # setting the index of the current entropy value corresponding to the intial state\n",
    "    indx1, indx2 = state_dict_relabel[k]  \n",
    "    col_map_entr[indx1,indx2] = H_vec[k]   # recording the entropy value"
   ]
  },
  {
   "cell_type": "markdown",
   "id": "1c06b4f8-6f33-4cd1-860d-24d28f909ca8",
   "metadata": {},
   "source": [
    "Plotting the Figure"
   ]
  },
  {
   "cell_type": "code",
   "execution_count": 11,
   "id": "7215ce49-bec5-479a-b741-1ddc84cc0af2",
   "metadata": {},
   "outputs": [
    {
     "name": "stderr",
     "output_type": "stream",
     "text": [
      "findfont: Font family ['cmsy10'] not found. Falling back to DejaVu Sans.\n",
      "findfont: Font family ['cmr10'] not found. Falling back to DejaVu Sans.\n",
      "findfont: Font family ['cmtt10'] not found. Falling back to DejaVu Sans.\n",
      "findfont: Font family ['cmmi10'] not found. Falling back to DejaVu Sans.\n",
      "findfont: Font family ['cmb10'] not found. Falling back to DejaVu Sans.\n",
      "findfont: Font family ['cmss10'] not found. Falling back to DejaVu Sans.\n",
      "findfont: Font family ['cmex10'] not found. Falling back to DejaVu Sans.\n"
     ]
    },
    {
     "data": {
      "image/png": "[encoded data removed]",
      "text/plain": [
       "<Figure size 432x432 with 2 Axes>"
      ]
     },
     "metadata": {
      "needs_background": "light"
     },
     "output_type": "display_data"
    }
   ],
   "source": [
    "plt.figure(figsize=(6, 6))                       # figure size\n",
    "matplotlib.rcParams.update({'font.size': 15})    # font size\n",
    "\n",
    "Z = np.transpose(col_map_entr)      # putting the array the correct way round for the colour plot\n",
    "my_cmap = plt.cm.viridis            # colour scheme\n",
    "num_levels = 100000\n",
    "my_cmap = ListedColormap(my_cmap(np.linspace(0, 1, num_levels)))     # define how fine a colour scale want\n",
    "plt.imshow(Z, cmap = my_cmap, interpolation='nearest', origin='lower')  # produces colour plot\n",
    "plt.xlabel('$N_m$')   # x label\n",
    "plt.ylabel('$N_w$')   # y label\n",
    "\n",
    "current_axes = plt.gca()    # saves current axes\n",
    "# colours the squares corresponding to the state space that is out of bounds grey\n",
    "for i in range(max_pop):   # looping over the y axis\n",
    "    highlight_row, highlight_col = max_pop-i,1+i\n",
    "    rect = Rectangle((highlight_col - 0.5, highlight_row - 0.5), max_pop, 1, edgecolor='gray', facecolor='gray')\n",
    "    current_axes.add_patch(rect)  # adds the rectangle\n",
    "\n",
    "plt.colorbar()    # adds colour bar\n",
    "plt.title('Individual state entropy'.format(phi))     # title\n",
    "plt.savefig('entropy_v1.pdf', bbox_inches='tight')   # save figure"
   ]
  },
  {
   "cell_type": "code",
   "execution_count": null,
   "id": "8bf21a2c-3482-4ea3-97f1-123c92566d5c",
   "metadata": {},
   "outputs": [],
   "source": []
  }
 ],
 "metadata": {
  "kernelspec": {
   "display_name": "venv1",
   "language": "python",
   "name": "venv1"
  },
  "language_info": {
   "codemirror_mode": {
    "name": "ipython",
    "version": 3
   },
   "file_extension": ".py",
   "mimetype": "text/x-python",
   "name": "python",
   "nbconvert_exporter": "python",
   "pygments_lexer": "ipython3",
   "version": "3.10.11"
  }
 },
 "nbformat": 4,
 "nbformat_minor": 5
}
