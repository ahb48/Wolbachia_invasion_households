{
 "cells": [
  {
   "cell_type": "markdown",
   "id": "aa44f28b-09ff-4268-97c2-edeee6c56b80",
   "metadata": {},
   "source": [
    "# Figure 17b and 18: Re-invasion probability estimates and expected time until re-invasion vs probability of vertical transmission $v$"
   ]
  },
  {
   "cell_type": "markdown",
   "id": "5eaac88a-f803-4c91-96f6-7ac12db1e63b",
   "metadata": {},
   "source": [
    "## Abby Barlow, University of Bath\n",
    "## Ben Adams, University of Bath"
   ]
  },
  {
   "cell_type": "markdown",
   "id": "a3244d66-5cc6-40da-8c18-5206df582864",
   "metadata": {},
   "source": [
    "Importing required libraries"
   ]
  },
  {
   "cell_type": "code",
   "execution_count": 1,
   "id": "0e60f654-6cf8-48da-8506-0b6bc5a1836f",
   "metadata": {},
   "outputs": [],
   "source": [
    "import numpy as np\n",
    "import itertools\n",
    "import pylab as plt\n",
    "import matplotlib"
   ]
  },
  {
   "cell_type": "markdown",
   "id": "6f8cf066-b68b-4d08-a5ee-0bddc78fed64",
   "metadata": {},
   "source": [
    "Importing required scripts"
   ]
  },
  {
   "cell_type": "code",
   "execution_count": 2,
   "id": "a35be80d-31b2-4818-8566-c308bfd95990",
   "metadata": {},
   "outputs": [],
   "source": [
    "import importlib\n",
    "import Rate_transitions\n",
    "import Finding_full_Q\n",
    "import Tridiagonalisation\n",
    "import Finding_sub_Q\n",
    "import Finding_dictionary_keys\n",
    "import Prob_absorb_to_each\n",
    "import Time_absorb_wild_states\n",
    "import Hughes_model\n",
    "\n",
    "get_transition = Rate_transitions.get_transition_Hughes\n",
    "getQ = Finding_full_Q.getQ_Hughes\n",
    "tridiagonal = Tridiagonalisation.tridiagonal\n",
    "getQk = Finding_sub_Q.getQk_Hughes\n",
    "find_keys = Finding_dictionary_keys.find_keys\n",
    "prob_reach_absorb = Prob_absorb_to_each.prob_reach_absorb_Hughes\n",
    "absorb_time_wild = Time_absorb_wild_states.absorb_time_wild_Hughes\n",
    "F = Hughes_model.F_hughes\n",
    "\n",
    "# scripts autosave, so no need to re-run code chunk after making changes\n",
    "%load_ext autoreload\n",
    "%autoreload 2"
   ]
  },
  {
   "cell_type": "markdown",
   "id": "8398f901-5064-4d07-8acf-2edb29203d45",
   "metadata": {},
   "source": [
    "Constructing a dictionary for the full state space"
   ]
  },
  {
   "cell_type": "code",
   "execution_count": 3,
   "id": "18309bd1-a7c9-447d-ac2e-9fa353cf35cc",
   "metadata": {},
   "outputs": [],
   "source": [
    "# construct a dictionary that associated an integer index with each possible states, states are stored as an np.array - easier to apply mathematical operations than tuple \n",
    "max_pop = 30   # maximum household size\n",
    "state_dict = {index: np.array((i, j)) for index, (i, j) in enumerate([(i, j) for i in range(max_pop + 1) for j in range(max_pop + 1) if i + j <= max_pop])}\n",
    "# construct a matrix Q for the transition rate q_ij betweeen states i and j\n",
    "n_states = len(state_dict)   # total number of states"
   ]
  },
  {
   "cell_type": "markdown",
   "id": "08580045-eef9-4fda-805b-846a63625699",
   "metadata": {},
   "source": [
    "Dictionaries for separate communicating classes"
   ]
  },
  {
   "cell_type": "code",
   "execution_count": 4,
   "id": "93b5d6be-d983-464d-b646-1a214a409ceb",
   "metadata": {},
   "outputs": [],
   "source": [
    "### S1 corresponds to the wild-type-only states, S2 to the Wolbachia-only and mixed states\n",
    "state_dict_S1 = {index: np.array((i, 0)) for index, i in enumerate([i for i in range(1,max_pop + 1)])}\n",
    "state_dict_S2 = {index: np.array((i,j)) for index, (i,j) in enumerate([(i, j) for i in range(max_pop + 1) for j in range(1,max_pop + 1) if i + j <= max_pop])}"
   ]
  },
  {
   "cell_type": "markdown",
   "id": "39119956-b3a2-4624-b569-e82c0f056fd5",
   "metadata": {},
   "source": [
    "Parameter values"
   ]
  },
  {
   "cell_type": "code",
   "execution_count": 5,
   "id": "b5175668-8988-4a92-a94a-516edd572f10",
   "metadata": {},
   "outputs": [],
   "source": [
    "K = 30        # reproductive carrying capacity\n",
    "d1 = 12/100   # wild-type death rate\n",
    "d2 = 12/100   # Wolbachia death rate\n",
    "phi = 9/10    # Wolbachia fitness\n",
    "\n",
    "v = 9/10      # probability of vertical transmission\n",
    "u = 10/10     # ratio of unviable offspring produced by an infected male and uninfected female\n",
    "\n",
    "k = 0.3           # Mosquito competition parameter\n",
    "h = 0.19*100**k   # Mosquito competition parameter\n",
    "\n",
    "b1 = round(d1/F(10,h,k),2) # wild-type per capita birth rate\n",
    "b2 = b1*phi                # Wolbachia per capita birth rate"
   ]
  },
  {
   "cell_type": "markdown",
   "id": "596e3efa-288b-4253-b8f6-dfd60ef16011",
   "metadata": {},
   "source": [
    "Calculating the reversion probability over a range of $v$ values"
   ]
  },
  {
   "cell_type": "code",
   "execution_count": 6,
   "id": "cc17f051-89bb-46f9-b9ca-61dc452951eb",
   "metadata": {},
   "outputs": [
    {
     "data": {
      "text/plain": [
       "array([9.21450075e-01, 9.13222373e-01, 9.02828249e-01, 8.89329327e-01,\n",
       "       8.71194963e-01, 8.45786602e-01, 8.08240703e-01, 7.48827443e-01,\n",
       "       6.46035132e-01, 4.46341430e-01, 3.07815930e-15, 0.00000000e+00])"
      ]
     },
     "execution_count": 6,
     "metadata": {},
     "output_type": "execute_result"
    }
   ],
   "source": [
    "n_transient = len(state_dict_S2)  # transient states here are mixed and wolbachia-only\n",
    "uvec2 = np.load('uvec2.npy')  # loading in Wolbachia-only QSD, see 'Wolbachia_only_QSD.ipynb'\n",
    "vvec = np.linspace(0,1,11)    # array of v values\n",
    "vrange = len(vvec)            # number of v values\n",
    "revert_prob_vec = np.zeros(vrange)   # initial array for the probabilities of re-invasion\n",
    "\n",
    "for i in range(vrange):        # looping over the v values\n",
    "    params_dict = {'b1': b1,   # parameter dictionary, need to define here as v changes\n",
    "              'b2': b2,\n",
    "              'K': K,\n",
    "              'd1': d1,\n",
    "              'd2': d2,\n",
    "              'v': vvec[i],\n",
    "              'phi': phi,\n",
    "              'u': u,\n",
    "              'h': h,\n",
    "              'k': k\n",
    "              }\n",
    "    # initialise array to store probabilities of reaching the the wild-type-only state space from the other states\n",
    "    prob_reach_wild = np.zeros(n_transient)  \n",
    "    for j in range(max_pop):               # looping over wild-type-only states\n",
    "        absorb_state = np.array([j+1,0])   # current wild-type-only state\n",
    "        # adding the probabilities of reaching that wild-type state from all the transient states\n",
    "        prob_reach_wild[:] += np.transpose(prob_reach_absorb(state_dict,state_dict_S2,absorb_state,params_dict)[0])[0]\n",
    "    # we need to condition on the Wolbachia-only QSD for the (approximate) probability of re-invasion\n",
    "    # remember we only want the probabilities corresponding to initial states that are Wolbachia-only\n",
    "    revert_prob_vec[i] = prob_reach_wild[:max_pop]@np.transpose(uvec2)   # record the probability for current v\n",
    "np.append(revert_prob_vec, 0)  # probability of re-invasion is 0 when v=1"
   ]
  },
  {
   "cell_type": "markdown",
   "id": "8cf8feea-1306-42f5-973c-66f4b7517392",
   "metadata": {},
   "source": [
    "Plotting the figure"
   ]
  },
  {
   "cell_type": "code",
   "execution_count": 7,
   "id": "bda63ff3-a151-4260-859d-6505b65ce42f",
   "metadata": {},
   "outputs": [
    {
     "name": "stderr",
     "output_type": "stream",
     "text": [
      "findfont: Font family ['cmsy10'] not found. Falling back to DejaVu Sans.\n",
      "findfont: Font family ['cmr10'] not found. Falling back to DejaVu Sans.\n",
      "findfont: Font family ['cmtt10'] not found. Falling back to DejaVu Sans.\n",
      "findfont: Font family ['cmmi10'] not found. Falling back to DejaVu Sans.\n",
      "findfont: Font family ['cmb10'] not found. Falling back to DejaVu Sans.\n",
      "findfont: Font family ['cmss10'] not found. Falling back to DejaVu Sans.\n",
      "findfont: Font family ['cmex10'] not found. Falling back to DejaVu Sans.\n"
     ]
    },
    {
     "data": {
      "image/png": "[encoded data removed]",
      "text/plain": [
       "<Figure size 432x288 with 1 Axes>"
      ]
     },
     "metadata": {
      "needs_background": "light"
     },
     "output_type": "display_data"
    }
   ],
   "source": [
    "matplotlib.rcParams.update({'font.size': 15})  # font size\n",
    "\n",
    "plt.plot(vvec,revert_prob_vec,'.')                      # plotting the probabilities   \n",
    "plt.xlabel('Vertical transmission probability, $v$')    # x label\n",
    "plt.ylabel('Re-invasion probability est.')              # y label\n",
    "plt.grid()                                        # adds grid\n",
    "plt.savefig('re-invasion_prob_v_dye.pdf', bbox_inches='tight')    # save figure"
   ]
  },
  {
   "cell_type": "markdown",
   "id": "ddd4a84c-72c2-404f-a713-dca3d403dd1c",
   "metadata": {},
   "source": [
    "Finding the expected times to re-invasion for the range of $v$ values"
   ]
  },
  {
   "cell_type": "code",
   "execution_count": 8,
   "id": "f123d5f2-f4c5-4bec-b8b1-0e4bb6261849",
   "metadata": {},
   "outputs": [],
   "source": [
    "uvec2 = np.load('uvec2.npy')              # loading in the Wolbachia-only QSD\n",
    "vvec = np.linspace(0,1,11)                # v range\n",
    "vrange = len(vvec)                        # number of v values\n",
    "revert_time_vec = np.zeros(vrange)        # initialise array to hold expected times until re-invasion\n",
    "n_transient = len(state_dict_S2)          # number of transient states (mixed and Wolbachia-only)\n",
    "\n",
    "for i in range(vrange):         # looping over the v values\n",
    "    params_dict = {'b1': b1,    # parameter dictionary, need to define here as v changes\n",
    "              'b2': b2,\n",
    "              'K': K,\n",
    "              'd1': d1,\n",
    "              'd2': d2,\n",
    "              'v': vvec[i],\n",
    "              'phi': phi,\n",
    "              'u': u,\n",
    "              'h': h,\n",
    "              'k': k\n",
    "              }\n",
    "    # calculating the expected times until re-invasion for each transient state and recording it \n",
    "    # for each v value\n",
    "    # we again condition on the Wolbachia-only QSD\n",
    "    # remember we only want the times corresponding to initial states that are Wolbachia-only\n",
    "    revert_time_vec[i] = absorb_time_wild(max_pop,np.ones(n_transient),params_dict)[:max_pop]@np.transpose(uvec2)"
   ]
  },
  {
   "cell_type": "markdown",
   "id": "1712eb5f-8110-49ca-b68c-accfb83dadea",
   "metadata": {},
   "source": [
    "Plotting the figure"
   ]
  },
  {
   "cell_type": "code",
   "execution_count": 9,
   "id": "41418fa5-6e5f-49ee-9568-720c0c4a0785",
   "metadata": {},
   "outputs": [
    {
     "data": {
      "image/png": "[encoded data removed]",
      "text/plain": [
       "<Figure size 432x288 with 1 Axes>"
      ]
     },
     "metadata": {
      "needs_background": "light"
     },
     "output_type": "display_data"
    }
   ],
   "source": [
    "matplotlib.rcParams.update({'font.size': 15})  # font size\n",
    "plt.plot(vvec,revert_time_vec,'.')             # plotting the expected times until re-invasion\n",
    "plt.xlabel('Vertical transmission probability, $v$')   # x label\n",
    "plt.ylabel('Re-invasion time est.')                    # y label\n",
    "plt.xlim(0,0.9)    # x limit, expected time for re-invasion when v=1 is infinite\n",
    "plt.ylim(15,125)   # y limit\n",
    "plt.grid()         # adds grid\n",
    "plt.savefig('re-invasion_time_v_dye.pdf', bbox_inches='tight')   # saves figure"
   ]
  },
  {
   "cell_type": "code",
   "execution_count": null,
   "id": "5c294380-4ee3-4fb8-a492-b2b88966bd16",
   "metadata": {},
   "outputs": [],
   "source": []
  }
 ],
 "metadata": {
  "kernelspec": {
   "display_name": "venv1",
   "language": "python",
   "name": "venv1"
  },
  "language_info": {
   "codemirror_mode": {
    "name": "ipython",
    "version": 3
   },
   "file_extension": ".py",
   "mimetype": "text/x-python",
   "name": "python",
   "nbconvert_exporter": "python",
   "pygments_lexer": "ipython3",
   "version": "3.10.11"
  }
 },
 "nbformat": 4,
 "nbformat_minor": 5
}
