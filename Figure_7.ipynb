{
 "cells": [
  {
   "cell_type": "markdown",
   "id": "c4c1e05b-6e10-484a-9a6f-8224b97ca289",
   "metadata": {},
   "source": [
    "# Figure 7: QSD for the 30 mosquito model with no reversion"
   ]
  },
  {
   "cell_type": "markdown",
   "id": "48c20ad8-eef4-4a61-a10d-116e83fff9fa",
   "metadata": {},
   "source": [
    "## Abby Barlow, University of Bath\n",
    "## Ben Adams, University of Bath"
   ]
  },
  {
   "cell_type": "markdown",
   "id": "014454b4-ec2a-4144-86aa-fed486d90e21",
   "metadata": {},
   "source": [
    "Importing required libraries"
   ]
  },
  {
   "cell_type": "code",
   "execution_count": 1,
   "id": "d612e5d3-1942-49d1-96bd-0d2dda68d27c",
   "metadata": {},
   "outputs": [],
   "source": [
    "import numpy as np\n",
    "import itertools\n",
    "import pylab as plt\n",
    "import matplotlib"
   ]
  },
  {
   "cell_type": "markdown",
   "id": "62aa6de8-62dd-4567-97f7-1772dbcfd288",
   "metadata": {},
   "source": [
    "Importing required scripts"
   ]
  },
  {
   "cell_type": "code",
   "execution_count": 2,
   "id": "f317ff68-6f39-466c-923b-067584a45677",
   "metadata": {},
   "outputs": [],
   "source": [
    "import importlib\n",
    "import Rate_transitions\n",
    "import Finding_full_Q\n",
    "import Tridiagonalisation\n",
    "import Finding_sub_Q\n",
    "import Lower_block_triangular\n",
    "import Finding_dictionary_keys\n",
    "import Hughes_model\n",
    "\n",
    "get_transition = Rate_transitions.get_transition_Hughes\n",
    "getQ = Finding_full_Q.getQ_Hughes\n",
    "tridiagonal = Tridiagonalisation.tridiagonal\n",
    "getQk = Finding_sub_Q.getQk_Hughes\n",
    "LBTQ = Lower_block_triangular.LBTQ_Hughes_comp\n",
    "find_keys = Finding_dictionary_keys.find_keys\n",
    "F = Hughes_model.F#_hughes\n",
    "\n",
    "# scripts autosave, so no need to re-run code chunk after making changes\n",
    "%load_ext autoreload\n",
    "%autoreload 2"
   ]
  },
  {
   "cell_type": "markdown",
   "id": "66436026-b623-4f1c-9872-c300b21e4cde",
   "metadata": {},
   "source": [
    "Parameter values"
   ]
  },
  {
   "cell_type": "code",
   "execution_count": 3,
   "id": "9d3ae60f-2f19-4601-9519-c82ca5aa1f62",
   "metadata": {},
   "outputs": [],
   "source": [
    "K = 30        # reproductive carrying capacity\n",
    "d1 = 12/100   # wild-type death rate\n",
    "d2 = 12/100   # Wolbachia death rate\n",
    "phi = 85/100    # Wolbachia fitness\n",
    "\n",
    "v = 10/10     # probability of vertical transmission\n",
    "u = 10/10     # ratio of unviable offspring produced by an infected male and uninfected female\n",
    "\n",
    "k = 0.3           # Mosquito competition parameter\n",
    "h = 0.19*100**k   # Mosquito competition parameter\n",
    "\n",
    "b1 = round(d1/F(10,K),2) # wild-type per capita birth rate\n",
    "b2 = b1*phi                # Wolbachia per capita birth rate\n",
    "\n",
    "# create a dictionary to store all parameter values\n",
    "params_dict = {'b1': b1,\n",
    "              'b2': b2,\n",
    "              'K': K,\n",
    "              'd1': d1,\n",
    "              'd2': d2,\n",
    "              'v': v,\n",
    "              'phi': phi,\n",
    "              'u': u,\n",
    "              'h': h,\n",
    "              'k': k\n",
    "              }"
   ]
  },
  {
   "cell_type": "markdown",
   "id": "31848f6d-a9f1-41c2-adeb-f7cbafad6af3",
   "metadata": {},
   "source": [
    "Construct a dictionary of all the state variables"
   ]
  },
  {
   "cell_type": "code",
   "execution_count": 4,
   "id": "4c459ef1-5646-4a38-803a-097914bc240b",
   "metadata": {},
   "outputs": [],
   "source": [
    "# construct a dictionary that associated an integer index with each possible states, states are stored as an np.array - easier to apply mathematical operations than tuple \n",
    "max_pop = 30   # maximum household size\n",
    "state_dict = {index: np.array((i, j)) for index, (i, j) in enumerate([(i, j) for i in range(max_pop + 1) for j in range(max_pop + 1) if i + j <= max_pop])}"
   ]
  },
  {
   "cell_type": "markdown",
   "id": "d5904bba-9edb-47d3-bd7e-9c5526b13722",
   "metadata": {},
   "source": [
    "Construct the full transition matrix"
   ]
  },
  {
   "cell_type": "code",
   "execution_count": 5,
   "id": "7707ab25-8e87-45bc-8b8f-3d7b51067219",
   "metadata": {},
   "outputs": [
    {
     "name": "stdout",
     "output_type": "stream",
     "text": [
      "[[-0.      0.      0.     ...  0.      0.      0.    ]\n",
      " [ 0.12   -0.2679  0.1479 ...  0.      0.      0.    ]\n",
      " [ 0.      0.24   -0.5256 ...  0.      0.      0.    ]\n",
      " ...\n",
      " [ 0.      0.      0.     ... -3.654   0.      0.174 ]\n",
      " [ 0.      0.      0.     ...  0.12   -3.6     0.    ]\n",
      " [ 0.      0.      0.     ...  3.6     0.     -3.6   ]]\n"
     ]
    }
   ],
   "source": [
    "# construct a matrix Q for the transition rate q_ij betweeen states i and j\n",
    "n_states = len(state_dict)   # total number of states\n",
    "\n",
    "Q = getQ(state_dict,params_dict)\n",
    "print(Q)"
   ]
  },
  {
   "cell_type": "markdown",
   "id": "15ef0fb0-648d-4cdb-be49-65dc9cc404c3",
   "metadata": {},
   "source": [
    "Constructing individual dictionaries of the communicating state classes and their respective sub-Q matrices"
   ]
  },
  {
   "cell_type": "code",
   "execution_count": 6,
   "id": "e91e26c6-8468-4d15-b444-bd0b21f52b78",
   "metadata": {},
   "outputs": [],
   "source": [
    "### S1 corresponds to the wild-type-only states, S2 to the Wolbachia-only and S3 the mixed states\n",
    "state_dict_S1 = {index: np.array((i, 0)) for index, i in enumerate([i for i in range(1,max_pop + 1)])}\n",
    "state_dict_S2 = {index: np.array((0, i)) for index, i in enumerate([i for i in range(1,max_pop + 1)])}\n",
    "state_dict_S3 = {index: np.array((i,j)) for index, (i,j) in enumerate([(i, j) for i in range(1,max_pop + 1) for j in range(1,max_pop + 1) if i + j <= max_pop])}\n",
    "\n",
    "# finding the sub-q matrices and their respective ordered lists of states in the class\n",
    "# we will use these list to rearrange Q into lower block triangular form\n",
    "Q1,key_list1 = getQk(state_dict_S1,state_dict,Q,params_dict)\n",
    "Q2,key_list2 = getQk(state_dict_S2,state_dict,Q,params_dict)\n",
    "Q3,key_list3 = getQk(state_dict_S3,state_dict,Q,params_dict)"
   ]
  },
  {
   "cell_type": "markdown",
   "id": "b87ddf33-fa9e-48b5-ac31-6b8844a42ab7",
   "metadata": {},
   "source": [
    "Putting Q in lower block triangular form and constructing the reordered full state dictionary"
   ]
  },
  {
   "cell_type": "code",
   "execution_count": 7,
   "id": "7ca08bd6-d535-42d6-8024-f298d6c751ec",
   "metadata": {},
   "outputs": [
    {
     "name": "stdout",
     "output_type": "stream",
     "text": [
      "Q in lower block triangular form is: [[-0.294      0.174      0.        ...  0.         0.         0.       ]\n",
      " [ 0.24      -0.576      0.336     ...  0.         0.         0.       ]\n",
      " [ 0.         0.36      -0.846     ...  0.         0.         0.       ]\n",
      " ...\n",
      " [ 0.         0.         0.        ... -3.6473069  0.0051     0.1622069]\n",
      " [ 0.         0.         0.        ...  0.24      -3.6        0.       ]\n",
      " [ 0.         0.         0.        ...  3.48       0.        -3.6      ]]\n"
     ]
    }
   ],
   "source": [
    "Q_lower_block_triang, state_dict_relabel = LBTQ(Q,state_dict,state_dict_S1,state_dict_S2,state_dict_S3,max_pop,params_dict)\n",
    "print('Q in lower block triangular form is:', Q_lower_block_triang)"
   ]
  },
  {
   "cell_type": "markdown",
   "id": "d5879b3d-f9a8-4317-94e2-0dad2f84585a",
   "metadata": {},
   "source": [
    "Calculate the eigenvalues of Q and find the largest (minimal magitude, all are negative), the decay parameter"
   ]
  },
  {
   "cell_type": "code",
   "execution_count": 8,
   "id": "e83e3f00-f8e6-48c7-8968-41a84873b62f",
   "metadata": {},
   "outputs": [
    {
     "name": "stdout",
     "output_type": "stream",
     "text": [
      "(-0.004325014743397498+0j)\n"
     ]
    }
   ],
   "source": [
    "evals, evecs = np.linalg.eig(Q_lower_block_triang.T)\n",
    "decay_param = np.max([x for x in evals if x != 0])\n",
    "print(decay_param)"
   ]
  },
  {
   "cell_type": "markdown",
   "id": "8d4b149c-94ef-4ec1-bd5f-c074e830fef2",
   "metadata": {},
   "source": [
    "Checking S1 holds the overall eigenvalue of minimal magnitude"
   ]
  },
  {
   "cell_type": "code",
   "execution_count": 9,
   "id": "7cad70b6-83d7-4abc-a79c-c8199d431956",
   "metadata": {},
   "outputs": [
    {
     "name": "stdout",
     "output_type": "stream",
     "text": [
      "minimal magnitude eigenvalue of Q1 -0.004325014743395187\n",
      "minimal magnitude eigenvalue of Q2 -0.01029598340948597\n",
      "minimal magnitude eigenvalue of Q3 (-0.08230398740187644+0j)\n"
     ]
    }
   ],
   "source": [
    "evals1, evecs1 = np.linalg.eig(Q1.T)\n",
    "decay_param1 = np.max([x for x in evals1 if x != 0])\n",
    "print('minimal magnitude eigenvalue of Q1', decay_param1)\n",
    "\n",
    "evals2, evecs2 = np.linalg.eig(Q2.T)\n",
    "decay_param2 = np.max([x for x in evals2 if x != 0])\n",
    "print('minimal magnitude eigenvalue of Q2', decay_param2)\n",
    "\n",
    "evals3, evecs3 = np.linalg.eig(Q3.T)\n",
    "decay_param3 = np.max([x for x in evals3 if x != 0])\n",
    "print('minimal magnitude eigenvalue of Q3', decay_param3)"
   ]
  },
  {
   "cell_type": "markdown",
   "id": "3a268278-f7e1-4946-ad4e-f2010300ff3f",
   "metadata": {},
   "source": [
    "Constructing the QSD"
   ]
  },
  {
   "cell_type": "code",
   "execution_count": 10,
   "id": "87897ae7-6123-4039-8584-35860925c2aa",
   "metadata": {},
   "outputs": [],
   "source": [
    "decay_indx = np.argmax([x for x in evals if x != 0])\n",
    "uvec = evecs[:,decay_indx]\n",
    "quasi_stat_dist = uvec/np.sum(uvec)"
   ]
  },
  {
   "cell_type": "markdown",
   "id": "83eeceb2-dc07-4991-9071-6a4c60b45b76",
   "metadata": {},
   "source": [
    "Finding the non-zero QSD values and recording their respective states. All non-zero probabilities are wild-type-only states."
   ]
  },
  {
   "cell_type": "code",
   "execution_count": 11,
   "id": "15b37d00-09be-4791-b8e7-36b2c0c5afb7",
   "metadata": {},
   "outputs": [
    {
     "name": "stderr",
     "output_type": "stream",
     "text": [
      "C:\\Users\\abby2\\AppData\\Local\\Temp\\ipykernel_10960\\1428129494.py:8: ComplexWarning: Casting complex values to real discards the imaginary part\n",
      "  dist[i] = quasi_stat_dist[indx]         # recording QSD value corresponds to\n"
     ]
    }
   ],
   "source": [
    "dist_indxs = np.where(quasi_stat_dist > 1e-16)[0]  # extracting indices of non-zero values\n",
    "states = np.zeros((len(dist_indxs),2))   # initialising an array to record the states\n",
    "dist = np.zeros(len(dist_indxs))         # initialising an array to record the QSD values\n",
    "\n",
    "for i in range(len(dist_indxs)):      # looping over all the non-zero entries\n",
    "    indx = dist_indxs[i]                    # current index\n",
    "    states[i,:] = state_dict_relabel[indx]  # recording state corresponds to\n",
    "    dist[i] = quasi_stat_dist[indx]         # recording QSD value corresponds to"
   ]
  },
  {
   "cell_type": "markdown",
   "id": "ff10d76b-c055-4755-aaa2-6d0c35975a2f",
   "metadata": {},
   "source": [
    "Plotting the figure"
   ]
  },
  {
   "cell_type": "code",
   "execution_count": 15,
   "id": "0bc77c8e-b2ac-4319-a10b-3d6be1965719",
   "metadata": {},
   "outputs": [
    {
     "data": {
      "image/png": "[encoded data removed]",
      "text/plain": [
       "<Figure size 432x288 with 1 Axes>"
      ]
     },
     "metadata": {
      "needs_background": "light"
     },
     "output_type": "display_data"
    }
   ],
   "source": [
    "matplotlib.rcParams.update({'font.size': 15})  # font size\n",
    "values = np.arange(1,31,1)    # numbers of wild-types \n",
    "plt.bar(values,dist)          # plot the distribution as a bar chart\n",
    "plt.xlabel('Number of wild-type mosquitoes',fontsize=15)    # x label\n",
    "plt.ylabel('Probability')                       # y label\n",
    "plt.title('QSD values for wild-type only states')   # title\n",
    "plt.grid()   # makes grid\n",
    "plt.savefig('qsd_30_qu_v1.pdf', bbox_inches='tight')   # save figure"
   ]
  },
  {
   "cell_type": "markdown",
   "id": "59c1e7de-9bca-46c5-9c4b-a175b0068d31",
   "metadata": {},
   "source": [
    "The sojourn time is"
   ]
  },
  {
   "cell_type": "code",
   "execution_count": 13,
   "id": "61a4e51f-57a7-4c98-b2e6-0e3ce82ebcf1",
   "metadata": {},
   "outputs": [
    {
     "name": "stdout",
     "output_type": "stream",
     "text": [
      "expected time spent in a state is (0.6861793997348379+0j)\n"
     ]
    }
   ],
   "source": [
    "soj_time = 0\n",
    "for i in range(n_states-1):\n",
    "    soj_time -= quasi_stat_dist[i]/Q_lower_block_triang[i,i]\n",
    "print('expected time spent in a state is', soj_time)"
   ]
  },
  {
   "cell_type": "markdown",
   "id": "f80bf0ba-9cb9-4c6a-8f2b-2e601dded76b",
   "metadata": {},
   "source": [
    "Damping ratio calculations"
   ]
  },
  {
   "cell_type": "code",
   "execution_count": 14,
   "id": "75a61103-bebf-4b3d-8134-5554e3e5095f",
   "metadata": {},
   "outputs": [
    {
     "name": "stdout",
     "output_type": "stream",
     "text": [
      "the damping ratio is 1.0059888304324827\n",
      "The expected time until total probability mass of the wild-type-only states are\n",
      "10 times greater 385.6300747432223\n",
      "100 times greater 771.2601494864446\n",
      "1000 times greater 1156.8902242296667\n"
     ]
    }
   ],
   "source": [
    "damp_ratio = np.exp(decay_param1-decay_param2) # damping ratio\n",
    "print('the damping ratio is', damp_ratio)\n",
    "print('The expected time until total probability mass of the wild-type-only states are')\n",
    "print('10 times greater', np.log(10)/np.log(damp_ratio))\n",
    "print('100 times greater', np.log(100)/np.log(damp_ratio))\n",
    "print('1000 times greater', np.log(1000)/np.log(damp_ratio))"
   ]
  },
  {
   "cell_type": "code",
   "execution_count": null,
   "id": "015fb0bc-6124-473c-a54b-ac3a12a1ecd5",
   "metadata": {},
   "outputs": [],
   "source": []
  }
 ],
 "metadata": {
  "kernelspec": {
   "display_name": "venv_dengue",
   "language": "python",
   "name": "python3"
  },
  "language_info": {
   "codemirror_mode": {
    "name": "ipython",
    "version": 3
   },
   "file_extension": ".py",
   "mimetype": "text/x-python",
   "name": "python",
   "nbconvert_exporter": "python",
   "pygments_lexer": "ipython3",
   "version": "3.8.13"
  }
 },
 "nbformat": 4,
 "nbformat_minor": 5
}
