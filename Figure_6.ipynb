{
 "cells": [
  {
   "cell_type": "markdown",
   "id": "1f978ef0-d07f-4dce-ac1b-6210c4a77672",
   "metadata": {},
   "source": [
    "# Figure 6: Individual state entropies for the 3 mosquito model"
   ]
  },
  {
   "cell_type": "markdown",
   "id": "d035bc78-6c01-42cf-961c-05a484fe63dd",
   "metadata": {},
   "source": [
    "## Abby Barlow, Univeristy of Bath\n",
    "## Ben Adams, University of Bath"
   ]
  },
  {
   "cell_type": "markdown",
   "id": "7178332d-1671-425a-80e0-7a2030ca59cb",
   "metadata": {},
   "source": [
    "Importing required libraries"
   ]
  },
  {
   "cell_type": "code",
   "execution_count": 1,
   "id": "1c9908f5-ffbf-448a-ba8e-8d29923126eb",
   "metadata": {},
   "outputs": [],
   "source": [
    "import numpy as np\n",
    "import itertools\n",
    "from scipy.linalg import expm\n",
    "import pylab as plt\n",
    "import matplotlib\n",
    "import sympy as sp"
   ]
  },
  {
   "cell_type": "markdown",
   "id": "c4fd1103-0dfd-4f6a-b18e-8e4eb02f5ba1",
   "metadata": {},
   "source": [
    "Importing required scripts"
   ]
  },
  {
   "cell_type": "code",
   "execution_count": 2,
   "id": "923d6a46-39c8-4d73-85a9-ae1647a123e1",
   "metadata": {},
   "outputs": [],
   "source": [
    "import importlib\n",
    "import Rate_transitions\n",
    "import Finding_sub_Q\n",
    "import Lower_block_triangular\n",
    "import Finding_full_Q\n",
    "import Entropies\n",
    "import Hughes_model\n",
    "\n",
    "get_transition = Rate_transitions.get_transition_Hughes\n",
    "getQk = Finding_sub_Q.getQk_Hughes\n",
    "LBTQ = Lower_block_triangular.LBTQ_Hughes_comp\n",
    "getQ = Finding_full_Q.getQ_Hughes\n",
    "entropy = Entropies.entropy\n",
    "F = Hughes_model.F_hughes\n",
    "\n",
    "# scripts autosave, so no need to re-run code chunk after making changes\n",
    "%load_ext autoreload\n",
    "%autoreload 2"
   ]
  },
  {
   "cell_type": "markdown",
   "id": "57a793fd-221a-4945-a0b0-dde6052bb387",
   "metadata": {},
   "source": [
    "Parameter values"
   ]
  },
  {
   "cell_type": "code",
   "execution_count": 3,
   "id": "7257d700-30fb-4da8-a69a-1e6937222704",
   "metadata": {},
   "outputs": [],
   "source": [
    "# set some parameter values \n",
    "\n",
    "K = 3            # reproductive carrying capacity\n",
    "k = 0.3          # Mosquito competition parameter\n",
    "h = 0.19*100**k  # Mosquito competition parameter\n",
    "d1 = 12/100      # wild-type death rate\n",
    "d2 = 12/100      # Wolbachia death rate\n",
    "xstar = 2        # imposed steady state (for wild type population)\n",
    "b1 = round(d1/F(xstar,h,k,K),2) # wild-type per capita birth rate\n",
    "phi = 85/100       # Wolbachia fitness\n",
    "b2 = b1*phi      # Wolbachia  per capita fitness\n",
    "v = 10/10        # probability of vertical transmission\n",
    "u = 10/10        # probability of viable offspring\n",
    "\n",
    "\n",
    "# create a dictionary to store all parameter values\n",
    "params_dict = {'b1': b1,\n",
    "              'b2': b2,\n",
    "              'K': K,\n",
    "              'h': h,\n",
    "              'k': k,\n",
    "              'd1': d1,\n",
    "              'd2': d2,\n",
    "              'v': v,\n",
    "              'u': u,\n",
    "              'phi': phi}"
   ]
  },
  {
   "cell_type": "markdown",
   "id": "34ffe5c3-82d8-4b22-a226-ab2aee821e1e",
   "metadata": {},
   "source": [
    "Construct a dictionary of all the state variables"
   ]
  },
  {
   "cell_type": "code",
   "execution_count": 4,
   "id": "8e636809-f145-4b7f-8e07-89afda41680c",
   "metadata": {},
   "outputs": [],
   "source": [
    "# construct a dictionary that associated an integer index with each possible states, states are stored as an np.array - easier to apply mathematical operations than tuple \n",
    "max_pop = 3 # maximum household size\n",
    "state_dict = {index: np.array((i, j)) for index, (i, j) in enumerate([(i, j) for i in range(max_pop + 1) for j in range(max_pop + 1) if i + j <= max_pop])}"
   ]
  },
  {
   "cell_type": "markdown",
   "id": "21aaf10a-217a-4dc4-a552-8b961d5d1f0d",
   "metadata": {},
   "source": [
    "Construct the full transition matrix"
   ]
  },
  {
   "cell_type": "code",
   "execution_count": 5,
   "id": "a2be025d-fd37-4435-b7f6-5aba0b8461a7",
   "metadata": {},
   "outputs": [
    {
     "name": "stdout",
     "output_type": "stream",
     "text": [
      "[[-0.          0.          0.          0.          0.          0.\n",
      "   0.          0.          0.          0.        ]\n",
      " [ 0.12       -0.2396846   0.1196846   0.          0.          0.\n",
      "   0.          0.          0.          0.        ]\n",
      " [ 0.          0.24       -0.44097261  0.20097261  0.          0.\n",
      "   0.          0.          0.          0.        ]\n",
      " [ 0.          0.          0.36       -0.36        0.          0.\n",
      "   0.          0.          0.          0.        ]\n",
      " [ 0.12        0.          0.          0.         -0.26080541  0.\n",
      "   0.          0.14080541  0.          0.        ]\n",
      " [ 0.          0.12        0.          0.          0.12       -0.3995959\n",
      "   0.1004863   0.          0.05910959  0.        ]\n",
      " [ 0.          0.          0.12        0.          0.          0.24\n",
      "  -0.36        0.          0.          0.        ]\n",
      " [ 0.          0.          0.          0.          0.24        0.\n",
      "   0.         -0.47643836  0.          0.23643836]\n",
      " [ 0.          0.          0.          0.          0.          0.24\n",
      "   0.          0.12       -0.36        0.        ]\n",
      " [ 0.          0.          0.          0.          0.          0.\n",
      "   0.          0.36        0.         -0.36      ]]\n",
      "{0: array([0, 0]), 1: array([0, 1]), 2: array([0, 2]), 3: array([0, 3]), 4: array([1, 0]), 5: array([1, 1]), 6: array([1, 2]), 7: array([2, 0]), 8: array([2, 1]), 9: array([3, 0])}\n"
     ]
    }
   ],
   "source": [
    "# construct a matrix Q for the transition rate q_ij betweeen states i and j\n",
    "n_states = len(state_dict)  # total number of states\n",
    "\n",
    "Q = getQ(state_dict,params_dict)\n",
    "print(Q)\n",
    "print(state_dict)"
   ]
  },
  {
   "cell_type": "markdown",
   "id": "51e381d2-9b34-4e0d-9913-faa531ed04c3",
   "metadata": {},
   "source": [
    "Constructing individual dictionaries of the communicating state classes and their respective sub-Q matrices"
   ]
  },
  {
   "cell_type": "code",
   "execution_count": 6,
   "id": "f7f8872f-d743-49b1-8398-ace9719a6112",
   "metadata": {},
   "outputs": [],
   "source": [
    "### S1 corresponds to the wild-type-only states, S2 to the Wolbachia-only and S3 the mixed states\n",
    "state_dict_S1 = {index: np.array((i, 0)) for index, i in enumerate([i for i in range(1,max_pop + 1)])}\n",
    "state_dict_S2 = {index: np.array((0, i)) for index, i in enumerate([i for i in range(1,max_pop + 1)])}\n",
    "state_dict_S3 = {index: np.array((i,j)) for index, (i,j) in enumerate([(i, j) for i in range(1,max_pop + 1) for j in range(1,max_pop + 1) if i + j <= max_pop])}\n",
    "\n",
    "# finding the sub-q matrices and their respective ordered lists of states in the class\n",
    "# we will use these list to rearrange Q into lower block triangular form\n",
    "Q1,key_list1 = getQk(state_dict_S1,state_dict,Q,params_dict)\n",
    "Q2,key_list2 = getQk(state_dict_S2,state_dict,Q,params_dict)\n",
    "Q3,key_list3 = getQk(state_dict_S3,state_dict,Q,params_dict)"
   ]
  },
  {
   "cell_type": "markdown",
   "id": "fcc62808-1a45-42db-982c-e4dbe5245aec",
   "metadata": {},
   "source": [
    "Putting Q in lower block triangular form and constructing the reordered full state dictionary"
   ]
  },
  {
   "cell_type": "code",
   "execution_count": 7,
   "id": "ebda10d1-c1a5-47aa-8214-2e3dc0ef1791",
   "metadata": {},
   "outputs": [
    {
     "name": "stdout",
     "output_type": "stream",
     "text": [
      "Re-ordered state dictionary is: {0: array([1, 0]), 1: array([2, 0]), 2: array([3, 0]), 3: array([0, 1]), 4: array([0, 2]), 5: array([0, 3]), 6: array([1, 2]), 7: array([1, 1]), 8: array([2, 1])}\n",
      "\n",
      "Q in lower block triangular form is: [[-0.26080541  0.14080541  0.          0.          0.          0.\n",
      "   0.          0.          0.        ]\n",
      " [ 0.24       -0.47643836  0.23643836  0.          0.          0.\n",
      "   0.          0.          0.        ]\n",
      " [ 0.          0.36       -0.36        0.          0.          0.\n",
      "   0.          0.          0.        ]\n",
      " [ 0.          0.          0.         -0.2396846   0.1196846   0.\n",
      "   0.          0.          0.        ]\n",
      " [ 0.          0.          0.          0.24       -0.44097261  0.20097261\n",
      "   0.          0.          0.        ]\n",
      " [ 0.          0.          0.          0.          0.36       -0.36\n",
      "   0.          0.          0.        ]\n",
      " [ 0.          0.          0.          0.          0.12        0.\n",
      "  -0.36        0.24        0.        ]\n",
      " [ 0.12        0.          0.          0.12        0.          0.\n",
      "   0.1004863  -0.3995959   0.05910959]\n",
      " [ 0.          0.12        0.          0.          0.          0.\n",
      "   0.          0.24       -0.36      ]]\n"
     ]
    }
   ],
   "source": [
    "Q_lower_block_triang, state_dict_relabel = LBTQ(Q,state_dict,state_dict_S1,state_dict_S2,state_dict_S3,max_pop,params_dict)\n",
    "print('Re-ordered state dictionary is:', state_dict_relabel)\n",
    "print()\n",
    "print('Q in lower block triangular form is:', Q_lower_block_triang)"
   ]
  },
  {
   "cell_type": "markdown",
   "id": "363d5d37-e949-4693-b72a-b10c0e698639",
   "metadata": {},
   "source": [
    "Calculate the eigenvalues of Q and find the largest (minimal magitude, all are negative), the decay parameter"
   ]
  },
  {
   "cell_type": "code",
   "execution_count": 8,
   "id": "bd372bd1-a8f6-4ffd-893f-ba2454f02ce2",
   "metadata": {},
   "outputs": [
    {
     "name": "stdout",
     "output_type": "stream",
     "text": [
      "[-0.75816141 -0.29229714 -0.04678523 -0.70928093 -0.27897952 -0.05239675\n",
      " -0.57650833 -0.18308757 -0.36      ] -0.04678522849353627\n"
     ]
    }
   ],
   "source": [
    "evals, evecs = np.linalg.eig(Q_lower_block_triang.T)\n",
    "decay_param = np.max([x for x in evals if x != 0])\n",
    "print(evals, decay_param)"
   ]
  },
  {
   "cell_type": "markdown",
   "id": "62f5c8b4-1ecf-4d2a-b030-6c56febb7212",
   "metadata": {},
   "source": [
    "Calculate the eignevalues of Q1 and find the largest"
   ]
  },
  {
   "cell_type": "code",
   "execution_count": 9,
   "id": "591bb982-7542-47dc-b794-c37c11c5ba0b",
   "metadata": {},
   "outputs": [
    {
     "name": "stdout",
     "output_type": "stream",
     "text": [
      "[-0.75816141 -0.29229714 -0.04678523] -0.04678522849353627\n"
     ]
    }
   ],
   "source": [
    "evals1, evecs1 = np.linalg.eig(Q1.T)\n",
    "decay_param1 = np.max([x for x in evals1 if x != 0])\n",
    "print(evals1, decay_param1)"
   ]
  },
  {
   "cell_type": "markdown",
   "id": "e3900369-c4fa-4134-992d-9bfec5a83d6e",
   "metadata": {},
   "source": [
    "Calculate the eigenvalues of Q2 and find the largest"
   ]
  },
  {
   "cell_type": "code",
   "execution_count": 10,
   "id": "9466f5a1-e495-482c-b54f-0750af54d992",
   "metadata": {},
   "outputs": [
    {
     "name": "stdout",
     "output_type": "stream",
     "text": [
      "[-0.70928093 -0.27897952 -0.05239675] -0.05239675371166345\n"
     ]
    }
   ],
   "source": [
    "evals2, evecs2 = np.linalg.eig(Q2.T)\n",
    "decay_param2 = np.max([x for x in evals2 if x != 0])\n",
    "print(evals2, decay_param2)"
   ]
  },
  {
   "cell_type": "markdown",
   "id": "904c39e7-75a8-4164-a7d5-3275a2c0a0d3",
   "metadata": {},
   "source": [
    "Calculate the eigenvalues of Q3 and find the largest"
   ]
  },
  {
   "cell_type": "code",
   "execution_count": 11,
   "id": "5efa789a-b7a4-4966-88e7-bc7b13eabb4f",
   "metadata": {},
   "outputs": [
    {
     "name": "stdout",
     "output_type": "stream",
     "text": [
      "[-0.57650833 -0.18308757 -0.36      ] -0.18308756751060787\n"
     ]
    }
   ],
   "source": [
    "evals3, evecs3 = np.linalg.eig(Q3.T)\n",
    "decay_param3 = np.max([x for x in evals3 if x != 0])\n",
    "print(evals3, decay_param3)"
   ]
  },
  {
   "cell_type": "markdown",
   "id": "7509372d-d656-4941-8b61-1f49ce8d8910",
   "metadata": {},
   "source": [
    "Find the QSD. This is the left eigenvector associated with the over all eigenvalue with minimal magitude normalised to sum to 1. This comes from S1."
   ]
  },
  {
   "cell_type": "code",
   "execution_count": 12,
   "id": "50feccfe-a458-4305-a61d-c43a62573e40",
   "metadata": {},
   "outputs": [
    {
     "name": "stdout",
     "output_type": "stream",
     "text": [
      "The QSD is [0.3898769  0.34767302 0.26245008 0.         0.         0.\n",
      " 0.         0.         0.        ]\n"
     ]
    }
   ],
   "source": [
    "# we take the transpose of Q so we obtain the left eigenvector not right\n",
    "evals, evecs = np.linalg.eig(Q_lower_block_triang.T)  # all eigenvalues and eigenvectors\n",
    "decay_indx = np.argmax([x for x in evals if x != 0])  # index for over all eigenvalue of minimal magnitude\n",
    "uvec = evecs[:,decay_indx]                # the corresponding left eigenvector\n",
    "quasi_stat_dist = uvec/np.sum(uvec)       # normalising to sum to 1\n",
    "print('The QSD is', quasi_stat_dist)"
   ]
  },
  {
   "cell_type": "markdown",
   "id": "4fb46238-3351-41fb-91dc-4d200bf762c5",
   "metadata": {},
   "source": [
    "Find individual state entropies"
   ]
  },
  {
   "cell_type": "code",
   "execution_count": 13,
   "id": "320f7e7f-dee6-45d8-a9f8-bf5ac1fed02f",
   "metadata": {},
   "outputs": [],
   "source": [
    "H_vec = entropy(Q,quasi_stat_dist)"
   ]
  },
  {
   "cell_type": "code",
   "execution_count": 14,
   "id": "f1d2200b",
   "metadata": {},
   "outputs": [],
   "source": [
    "# Original order in state_dict:\n",
    "original_order = [\n",
    "    (0, 0), (0, 1), (0, 2), (0, 3),\n",
    "    (1, 0), (1, 1), (1, 2),\n",
    "    (2, 0), (2, 1),\n",
    "    (3, 0)\n",
    "]\n",
    "\n",
    "# Desired order:\n",
    "desired_order = [\n",
    "    (0, 0), (1, 0), (2, 0), (3, 0),\n",
    "    (0, 1), (0, 2), (0, 3),\n",
    "    (1, 2), (1, 1), (2, 1)\n",
    "]\n",
    "\n",
    "# Create a mapping from state to index in the original order\n",
    "state_to_index = {state: i for i, state in enumerate(original_order)}\n",
    "\n",
    "# Rearrange H_vec according to the desired order\n",
    "H_vec_reordered = [H_vec[state_to_index[state]] for state in desired_order]"
   ]
  },
  {
   "cell_type": "markdown",
   "id": "cb085002-5b24-4725-a275-bfeddb95f48f",
   "metadata": {},
   "source": [
    "Plotting the figure"
   ]
  },
  {
   "cell_type": "code",
   "execution_count": 16,
   "id": "04846e35-b63f-4d9c-ba1d-ce47c8168d06",
   "metadata": {},
   "outputs": [
    {
     "data": {
      "image/png": "[encoded data removed]",
      "text/plain": [
       "<Figure size 504x360 with 1 Axes>"
      ]
     },
     "metadata": {
      "needs_background": "light"
     },
     "output_type": "display_data"
    }
   ],
   "source": [
    "matplotlib.rcParams.update({'font.size': 15}) # font size\n",
    "plt.figure(figsize=(7, 5))\n",
    "\n",
    "values = np.arange(0,n_states,1) # numbering the states\n",
    "plt.bar(values,H_vec_reordered)  # producing a bar chart of the entropies\n",
    "\n",
    "plt.ylabel('Entropy')          # y label\n",
    "plt.xlabel('Current state')    # x label\n",
    "\n",
    "states = [(0,0),(1,0),(2,0),(3,0),(0,1),(0,2),(0,3),(1,2),(1,1),(2,1)]  # state labels\n",
    "plt.xticks(range(0,n_states), states, rotation=45)   # customizing the x ticks\n",
    "plt.grid()    # adds grid\n",
    "#plt.savefig('entropy_3mosq.pdf', bbox_inches='tight')   # save figure"
   ]
  }
 ],
 "metadata": {
  "kernelspec": {
   "display_name": "venv_dengue",
   "language": "python",
   "name": "python3"
  },
  "language_info": {
   "codemirror_mode": {
    "name": "ipython",
    "version": 3
   },
   "file_extension": ".py",
   "mimetype": "text/x-python",
   "name": "python",
   "nbconvert_exporter": "python",
   "pygments_lexer": "ipython3",
   "version": "3.8.13"
  }
 },
 "nbformat": 4,
 "nbformat_minor": 5
}
