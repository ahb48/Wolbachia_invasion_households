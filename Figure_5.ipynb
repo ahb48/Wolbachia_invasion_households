{
 "cells": [
  {
   "cell_type": "markdown",
   "id": "04574d82-b84a-4856-8b6c-de153cc9b904",
   "metadata": {},
   "source": [
    "# Figure 5: Probability distribution over time conditioned on non-extinction for the 3 mosquito model"
   ]
  },
  {
   "cell_type": "markdown",
   "id": "46e95c24-6653-485f-90f9-f67189376cfb",
   "metadata": {},
   "source": [
    "## Abby Barlow, University of Bath\n",
    "## Ben Adams, University of Bath"
   ]
  },
  {
   "cell_type": "markdown",
   "id": "feef9b4e-5f35-4525-8967-ed205f5bf73e",
   "metadata": {},
   "source": [
    "Importing required libraries"
   ]
  },
  {
   "cell_type": "code",
   "execution_count": 1,
   "id": "849d8054-fec2-4cc4-8a24-54bcfedb6fed",
   "metadata": {},
   "outputs": [],
   "source": [
    "import numpy as np\n",
    "import itertools\n",
    "from scipy.linalg import expm\n",
    "import pylab as plt\n",
    "import matplotlib\n",
    "import sympy as sp"
   ]
  },
  {
   "cell_type": "markdown",
   "id": "66c41e69-f840-4579-bfbc-8ef60838cb27",
   "metadata": {},
   "source": [
    "Importing required scripts"
   ]
  },
  {
   "cell_type": "code",
   "execution_count": 2,
   "id": "f43f588e-99c7-4b3a-b05c-12a7f78ec363",
   "metadata": {},
   "outputs": [],
   "source": [
    "import importlib\n",
    "import Rate_transitions\n",
    "import Finding_P_dist\n",
    "import Finding_full_Q\n",
    "import Hughes_model\n",
    "\n",
    "get_transition = Rate_transitions.get_transition_Hughes\n",
    "Pget = Finding_P_dist.Pget\n",
    "getQ = Finding_full_Q.getQ_Hughes\n",
    "F = Hughes_model.F_hughes\n",
    "\n",
    "# scripts autosave, so no need to re-run code chunk after making changes\n",
    "%load_ext autoreload\n",
    "%autoreload 2"
   ]
  },
  {
   "cell_type": "markdown",
   "id": "bd50e4a8-2e56-472a-a79b-7162c90b5793",
   "metadata": {},
   "source": [
    "Finding the coexistence steady state"
   ]
  },
  {
   "cell_type": "code",
   "execution_count": 3,
   "id": "d58b0def-79e3-43d0-b89d-d97d86d01f04",
   "metadata": {},
   "outputs": [],
   "source": [
    "# defining parameters as symbols so can solve symbolically\n",
    "b,nm,nw,u,v,phi,d,dw,k,h = sp.symbols('b nm nw u v phi d dw k h')\n",
    "\n",
    "zm = ((nm + (1-u)*nw)/(nm + nw))*(nm + (1-v)*phi*nw)\n",
    "zw = v*phi*nw\n",
    "\n",
    "eq1 = b*zm*(sp.exp(-h*(nm+nw)**k)) - d*nm      # ODE for wild-types\n",
    "eq2 = b*phi*v*(sp.exp(-h*(nm+nw)**k)) - dw     # ODE for Wolbachia-infected, we have taken out a factor nw\n",
    "\n",
    "sol_coexist = sp.solve([eq1,eq2],[nm,nw])   # solving symbolically"
   ]
  },
  {
   "cell_type": "markdown",
   "id": "2fae92e1-0fd1-4968-9aa8-fcc3459d261e",
   "metadata": {},
   "source": [
    "Parameter values"
   ]
  },
  {
   "cell_type": "code",
   "execution_count": 4,
   "id": "ee6e6eba-713a-4391-81e1-0b85fb8a0633",
   "metadata": {},
   "outputs": [],
   "source": [
    "# set some parameter values \n",
    "\n",
    "K = 3            # reproductive carrying capacity\n",
    "k = 0.3          # Mosquito competition parameter\n",
    "h = 0.19*100**k  # Mosquito competition parameter\n",
    "d1 = 12/100      # wild-type death rate\n",
    "d2 = 12/100      # Wolbachia death rate\n",
    "xstar = 2        # imposed steady state (for wild type population)\n",
    "b1 = round(d1/F(xstar,h,k,K),2) # wild-type per capita birth rate\n",
    "phi = 7/10       # Wolbachia fitness\n",
    "b2 = b1*phi      # Wolbachia  per capita fitness\n",
    "v = 10/10        # probability of vertical transmission\n",
    "u = 10/10        # probability of viable offspring\n",
    "\n",
    "\n",
    "# create a dictionary to store all parameter values\n",
    "params_dict = {'b1': b1,\n",
    "              'b2': b2,\n",
    "              'K': K,\n",
    "              'd1': d1,\n",
    "              'd2': d2,\n",
    "              'u': u,\n",
    "              'v': v,\n",
    "              'phi': phi,\n",
    "              'h': h,\n",
    "              'k': k}"
   ]
  },
  {
   "cell_type": "code",
   "execution_count": 5,
   "id": "e552998b-09fc-4d81-bfb6-2b1c2e8a6d44",
   "metadata": {},
   "outputs": [
    {
     "name": "stdout",
     "output_type": "stream",
     "text": [
      "coexistence steady state is (0.256381035929544, 0.109877586826947)\n"
     ]
    }
   ],
   "source": [
    "# the second solution corresponds to the coexistence steady state\n",
    "# substitute in parameter values to find explicit solution\n",
    "nm_co = sol_coexist[1][0].subs({'b':b1,'u':1,'v':v,'phi':phi,'d':d1,'dw':d2,'k':k,'h':h}).evalf()\n",
    "nw_co = sol_coexist[1][1].subs({'b':b1,'u':1,'v':v,'phi':phi,'d':d1,'dw':d2,'k':k,'h':h}).evalf()\n",
    "print('coexistence steady state is',(nm_co,nw_co))\n",
    "# so we have to approximate the coexistence SS with (1,1)"
   ]
  },
  {
   "cell_type": "markdown",
   "id": "6564a0b0-d316-4e9b-8040-9c5f43f118e5",
   "metadata": {},
   "source": [
    "Construct a dictionary of all the state variables"
   ]
  },
  {
   "cell_type": "code",
   "execution_count": 6,
   "id": "1cf5b7d7-dd2f-4ecc-bce5-c9cf7d08111d",
   "metadata": {},
   "outputs": [
    {
     "name": "stdout",
     "output_type": "stream",
     "text": [
      "{0: array([0, 0]), 1: array([0, 1]), 2: array([0, 2]), 3: array([0, 3]), 4: array([1, 0]), 5: array([1, 1]), 6: array([1, 2]), 7: array([2, 0]), 8: array([2, 1]), 9: array([3, 0])}\n"
     ]
    }
   ],
   "source": [
    "# construct a dictionary that associated an integer index with each possible states, states are stored as an np.array - easier to apply mathematical operations than tuple \n",
    "max_pop = 3   # maximum household size\n",
    "state_dict = {index: np.array((i, j)) for index, (i, j) in enumerate([(i, j) for i in range(max_pop + 1) for j in range(max_pop + 1) if i + j <= max_pop])}\n",
    "print(state_dict)"
   ]
  },
  {
   "cell_type": "markdown",
   "id": "6a267087-f132-40fa-93ba-cbac29b27326",
   "metadata": {},
   "source": [
    "Construct the full transition matrix"
   ]
  },
  {
   "cell_type": "code",
   "execution_count": 7,
   "id": "24cc704a-2ff9-4c66-8931-143829eaacf1",
   "metadata": {},
   "outputs": [
    {
     "name": "stdout",
     "output_type": "stream",
     "text": [
      "[[-0.          0.          0.          0.          0.          0.\n",
      "   0.          0.          0.          0.        ]\n",
      " [ 0.12       -0.21856379  0.09856379  0.          0.          0.\n",
      "   0.          0.          0.          0.        ]\n",
      " [ 0.          0.24       -0.40550686  0.16550686  0.          0.\n",
      "   0.          0.          0.          0.        ]\n",
      " [ 0.          0.          0.36       -0.36        0.          0.\n",
      "   0.          0.          0.          0.        ]\n",
      " [ 0.12        0.          0.          0.         -0.26080541  0.\n",
      "   0.          0.14080541  0.          0.        ]\n",
      " [ 0.          0.12        0.          0.          0.12       -0.38186302\n",
      "   0.08275343  0.          0.05910959  0.        ]\n",
      " [ 0.          0.          0.12        0.          0.          0.24\n",
      "  -0.36        0.          0.          0.        ]\n",
      " [ 0.          0.          0.          0.          0.24        0.\n",
      "   0.         -0.47643836  0.          0.23643836]\n",
      " [ 0.          0.          0.          0.          0.          0.24\n",
      "   0.          0.12       -0.36        0.        ]\n",
      " [ 0.          0.          0.          0.          0.          0.\n",
      "   0.          0.36        0.         -0.36      ]]\n",
      "[-0.75816141 -0.55577366 -0.04678523 -0.18608935 -0.36       -0.29229714\n",
      " -0.65871391 -0.05911926 -0.26623748 -0.        ]\n"
     ]
    }
   ],
   "source": [
    "# construct a matrix Q for the transition rate q_ij betweeen states i and j\n",
    "n_states = len(state_dict)    # total number of states\n",
    "\n",
    "Q = getQ(state_dict,params_dict)\n",
    "print(Q)\n",
    "eigenvalues = np.linalg.eigvals(Q)\n",
    "print(eigenvalues)"
   ]
  },
  {
   "cell_type": "markdown",
   "id": "12757ea8-b269-40a6-81c9-3fff36470485",
   "metadata": {},
   "source": [
    "Plotting the figure"
   ]
  },
  {
   "cell_type": "code",
   "execution_count": 8,
   "id": "c0823495-3133-4c75-a9bf-67a67916adae",
   "metadata": {},
   "outputs": [
    {
     "name": "stderr",
     "output_type": "stream",
     "text": [
      "findfont: Font family ['cmsy10'] not found. Falling back to DejaVu Sans.\n",
      "findfont: Font family ['cmr10'] not found. Falling back to DejaVu Sans.\n",
      "findfont: Font family ['cmtt10'] not found. Falling back to DejaVu Sans.\n",
      "findfont: Font family ['cmmi10'] not found. Falling back to DejaVu Sans.\n",
      "findfont: Font family ['cmb10'] not found. Falling back to DejaVu Sans.\n",
      "findfont: Font family ['cmss10'] not found. Falling back to DejaVu Sans.\n",
      "findfont: Font family ['cmex10'] not found. Falling back to DejaVu Sans.\n"
     ]
    },
    {
     "data": {
      "image/png": "[encoded data removed]",
      "text/plain": [
       "<Figure size 432x288 with 1 Axes>"
      ]
     },
     "metadata": {
      "needs_background": "light"
     },
     "output_type": "display_data"
    }
   ],
   "source": [
    "matplotlib.rcParams.update({'font.size': 15})   # font size\n",
    "\n",
    "t_start = 0            # starting time point\n",
    "t_range = 750          # ending time point\n",
    "steps = t_range        # number of time points\n",
    "initial_state = np.array((1,1))      # starting at the coexistence SS (approximately)\n",
    "\n",
    "# returns the probability distribution of the household being in each state for each time point and the time points\n",
    "P_vec,ts = Pget(t_start,t_range,Q,steps,initial_state,state_dict)\n",
    "\n",
    "# plotting the probabilities of being in each labelled state *conditioning on non-extinction*\n",
    "plt.plot(ts,P_vec[:,1]/(1-P_vec[:,0]), label='(0,1)') \n",
    "plt.plot(ts,P_vec[:,2]/(1-P_vec[:,0]), label='(0,2)')\n",
    "plt.plot(ts,P_vec[:,3]/(1-P_vec[:,0]), label='(0,3)')\n",
    "plt.plot(ts,P_vec[:,4]/(1-P_vec[:,0]), label='(1,0)')\n",
    "plt.plot(ts,P_vec[:,5]/(1-P_vec[:,0]), label='(1,1)')\n",
    "plt.plot(ts,P_vec[:,6]/(1-P_vec[:,0]), label='(1,2)')\n",
    "plt.plot(ts,P_vec[:,7]/(1-P_vec[:,0]), label='(2,0)')\n",
    "plt.plot(ts,P_vec[:,8]/(1-P_vec[:,0]), label='(2,1)')\n",
    "plt.plot(ts,P_vec[:,9]/(1-P_vec[:,0]), label='(3,0)')\n",
    "\n",
    "plt.xlabel('time (t)')            # x label\n",
    "plt.ylabel('$P_{(i,j)}(t)$')      # y label\n",
    "plt.title('$P_{(1,1)}(0)=1$')     # title\n",
    "plt.ylim(0,0.5)                   # y range\n",
    "plt.xlim(0,575)                   # x range, alter this to achieve each subfigure\n",
    "plt.grid()                        # adds grid\n",
    "#plt.legend(loc='right')           # adds legend\n",
    "\n",
    "# plotting the steady state solutions\n",
    "### see 'Figure_6' file\n",
    "plt.axhline(0.3898769, color='black', linestyle='--')\n",
    "plt.axhline(0.34767302, color='black', linestyle='--')\n",
    "plt.axhline(0.26245008, color='black', linestyle='--')\n",
    "\n",
    "plt.savefig('P_dist_cond_phi07.pdf' , bbox_inches='tight')  # save figure"
   ]
  },
  {
   "cell_type": "code",
   "execution_count": null,
   "id": "c700f00d-2556-4251-a1d3-4e2ae434b1be",
   "metadata": {},
   "outputs": [],
   "source": []
  }
 ],
 "metadata": {
  "kernelspec": {
   "display_name": "venv_dengue",
   "language": "python",
   "name": "python3"
  },
  "language_info": {
   "codemirror_mode": {
    "name": "ipython",
    "version": 3
   },
   "file_extension": ".py",
   "mimetype": "text/x-python",
   "name": "python",
   "nbconvert_exporter": "python",
   "pygments_lexer": "ipython3",
   "version": "3.8.13"
  }
 },
 "nbformat": 4,
 "nbformat_minor": 5
}
