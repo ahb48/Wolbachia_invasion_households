{
 "cells": [
  {
   "cell_type": "markdown",
   "id": "53165ea7-6ff1-4bc5-8f92-83ef48ce051a",
   "metadata": {},
   "source": [
    "# Appendix A: Colour plots for probability of Wolbachia invading under the 30 mosquito model with total household size unconserved"
   ]
  },
  {
   "cell_type": "markdown",
   "id": "68fae7b8-12ca-4714-b60e-42e41482a84f",
   "metadata": {},
   "source": [
    "## Abby Barlow, University of Bath\n",
    "## Ben Adams, University of Bath"
   ]
  },
  {
   "cell_type": "markdown",
   "id": "2de0f5ed-2d6f-4dc5-887b-60425d217805",
   "metadata": {},
   "source": [
    "Import required libraries"
   ]
  },
  {
   "cell_type": "code",
   "execution_count": 1,
   "id": "0c456994-6ba5-492c-a6f3-a5de5a214424",
   "metadata": {},
   "outputs": [],
   "source": [
    "import numpy as np\n",
    "import pylab as plt\n",
    "import matplotlib\n",
    "from matplotlib.colors import ListedColormap"
   ]
  },
  {
   "cell_type": "markdown",
   "id": "3a0ee212-e0fe-45a5-ae5e-87772661c28e",
   "metadata": {},
   "source": [
    "Import required scripts"
   ]
  },
  {
   "cell_type": "code",
   "execution_count": 2,
   "id": "0ae37399-c19a-4bb6-9da6-432fa2b46c55",
   "metadata": {},
   "outputs": [],
   "source": [
    "import importlib\n",
    "import Rate_transitions\n",
    "import Finding_dictionary_keys\n",
    "import Prob_absorb_to_each\n",
    "import Hughes_model\n",
    "\n",
    "get_transition = Rate_transitions.get_transition_Hughes\n",
    "find_keys = Finding_dictionary_keys.find_keys\n",
    "prob_reach_absorb = Prob_absorb_to_each.prob_reach_absorb_Hughes\n",
    "F = Hughes_model.F_hughes\n",
    "\n",
    "# scripts autosave, so no need to re-run code chunk after making changes\n",
    "%load_ext autoreload\n",
    "%autoreload 2"
   ]
  },
  {
   "cell_type": "markdown",
   "id": "45753835-28f8-430b-a98f-432b69c26b91",
   "metadata": {},
   "source": [
    "Construct dictionaries for the full state space and the transient state space (mixed states)"
   ]
  },
  {
   "cell_type": "code",
   "execution_count": 3,
   "id": "55fbc372-57fd-4f62-9a55-1e71bc57ab6d",
   "metadata": {},
   "outputs": [],
   "source": [
    "max_pop = 30  # maximum household size\n",
    "state_dict = {index: np.array((i, j)) for index, (i, j) in enumerate([(i, j) for i in range(max_pop + 1) for j in range(max_pop + 1) if i + j <= max_pop])}\n",
    "trans_dict = {index: np.array((i,j)) for index, (i,j) in enumerate([(i, j) for i in range(1,max_pop + 1) for j in range(1,max_pop + 1) if i + j <= max_pop])}"
   ]
  },
  {
   "cell_type": "markdown",
   "id": "2eecb946-4915-49ef-9cf8-219c4cb5410c",
   "metadata": {},
   "source": [
    "Finding the invasion probabilities over a range of $\\phi$ values and ratio of Wolbachia-infected mosquitoes introduced vs wild-types, $N_w(0)/N_m(0)$."
   ]
  },
  {
   "cell_type": "code",
   "execution_count": 4,
   "id": "6cf595de-deb4-47fa-92cb-d2878872ae0a",
   "metadata": {},
   "outputs": [],
   "source": [
    "M0 = 10      # total household size, fixed at wild-type SS value\n",
    "phivec = np.linspace(0.1,1,19) # range of phi values\n",
    "phirange = len(phivec)         # length of phi range\n",
    "invasion_prob1 = np.zeros((phirange,M0))   # initialise array for invasion probabilities\n",
    "\n",
    "# parameter values\n",
    "K = 30           # reproductive carrying capacity\n",
    "d1 = 12/100      # wild-type death rate\n",
    "d2 = 12/100      # Wolbachia death rate\n",
    "v = 9/10        # probability of verical transmission\n",
    "u = 10/10        # ratio of unviable offspring produced by an infected male and uninfected female\n",
    "\n",
    "k = 0.3           # Mosquito competition parameter\n",
    "h = 0.19*100**k   # Mosquito competition parameter\n",
    "\n",
    "b1 = round(d1/F(10,h,k,K),2)  # wild-type per capita birth rate\n",
    "\n",
    "# start and end indices corresponding to states (M0,1) and (M0,M0)\n",
    "indx_start = find_keys(trans_dict,np.array([M0,1]))[0]\n",
    "indx_end = find_keys(trans_dict,np.array([M0,M0]))[0]\n",
    "\n",
    "for j in range(phirange):      # looping over the phi values\n",
    "    for i in range(max_pop):   # looping over the Wolbachia-only states\n",
    "        # create a dictionary to store all parameter values\n",
    "        params_dict = {'b1': b1,\n",
    "                  'b2': b1*phivec[j],  # Wolbachia-only death rate\n",
    "                  'K': K,\n",
    "                  'd1': d1,\n",
    "                  'd2': d2,\n",
    "                  'v': v,\n",
    "                  'phi': phivec[j],\n",
    "                  'u': u,\n",
    "                  'h': h,\n",
    "                  'k': k\n",
    "                  }\n",
    "        \n",
    "        absorb_state = np.array([0,i+1])  # current Wolbachia-only state finding probability of reaching\n",
    "        # calculating the probability of reaching the current Wolbachia-only state\n",
    "        probs = np.transpose(prob_reach_absorb(state_dict,trans_dict,absorb_state,params_dict)[0])[0]\n",
    "        # adding the current probability to the total invasion probability array\n",
    "        invasion_prob1[j,:] += probs[indx_start:indx_end+1]"
   ]
  },
  {
   "cell_type": "markdown",
   "id": "08ddaa9c-6cdf-45a2-ac2d-161dc732abb0",
   "metadata": {},
   "source": [
    "Plotting the figure"
   ]
  },
  {
   "cell_type": "code",
   "execution_count": 6,
   "id": "e2cc34ff-70a7-42af-b29a-455bd92ab22f",
   "metadata": {},
   "outputs": [
    {
     "data": {
      "image/png": "[encoded data removed]",
      "text/plain": [
       "<Figure size 720x360 with 2 Axes>"
      ]
     },
     "metadata": {
      "needs_background": "light"
     },
     "output_type": "display_data"
    }
   ],
   "source": [
    "matplotlib.rcParams.update({'font.size': 15})  # font size\n",
    "plt.figure(figsize=(10, 5))   # figure size\n",
    "\n",
    "Z = np.transpose(invasion_prob1)  # swap to correct way round\n",
    "my_cmap = plt.cm.viridis  # colour scheme\n",
    "num_levels=100000\n",
    "my_cmap = ListedColormap(my_cmap(np.linspace(0, 1, num_levels)))  # define how fine a colour scale want\n",
    "plt.imshow(Z, cmap=my_cmap, interpolation='nearest', origin='lower')  # produces colour plot\n",
    "plt.ylabel('$N_w(0)/N_m(0)$')   # y label\n",
    "plt.xlabel('$\\phi$')            # x label\n",
    "# rescaling x and y ticks\n",
    "plt.yticks([0,1,2,3,4,5,6,7,8,9],['0.1','0.2','0.3','0.4','0.5','0.6','0.7','0.8','0.9','1'])\n",
    "plt.xticks([0,2,4,6,8,10,12,14,16,18],['0.1','0.2','0.3','0.4','0.5','0.6','0.7','0.8','0.9','1'])\n",
    "\n",
    "plt.ylim(-0.5,9.5)   # y limit\n",
    "\n",
    "plt.colorbar()    # make colour bar\n",
    "plt.title('Probability of Wolbachia invasion')     # title\n",
    "plt.savefig('prob_invade_10_v09_hughes.pdf', bbox_inches='tight') # save figure"
   ]
  },
  {
   "cell_type": "markdown",
   "id": "3dc08e6e-cfde-4061-8710-ddd1f525cfdc",
   "metadata": {},
   "source": [
    "Here we have presented Figure A1, but the subsequent figures in appendix A can simply be found by setting $v=0.9$ in the reversion inclusive versions. For the alternative larval density fucntion, change said function in the transition rate script and in the birth rate formulation."
   ]
  },
  {
   "cell_type": "code",
   "execution_count": null,
   "id": "8129f188-d1fd-4145-beea-5d4576038db8",
   "metadata": {},
   "outputs": [],
   "source": []
  }
 ],
 "metadata": {
  "kernelspec": {
   "display_name": "venv_dengue",
   "language": "python",
   "name": "python3"
  },
  "language_info": {
   "codemirror_mode": {
    "name": "ipython",
    "version": 3
   },
   "file_extension": ".py",
   "mimetype": "text/x-python",
   "name": "python",
   "nbconvert_exporter": "python",
   "pygments_lexer": "ipython3",
   "version": "3.8.13"
  }
 },
 "nbformat": 4,
 "nbformat_minor": 5
}
