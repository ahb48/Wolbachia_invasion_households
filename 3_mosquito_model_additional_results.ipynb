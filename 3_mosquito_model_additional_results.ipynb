{
 "cells": [
  {
   "cell_type": "markdown",
   "id": "f742590d-46a6-4f2f-9857-3877da29d584",
   "metadata": {},
   "source": [
    "# 3 mosquito model: invasion probabilities, expected time until invasion, damping ratio, sojourn time"
   ]
  },
  {
   "cell_type": "markdown",
   "id": "c7dbf243-56cd-4cd5-8429-22e86975928f",
   "metadata": {},
   "source": [
    "## Abby Barlow, University of Bath\n",
    "## Ben Adams, University of Bath"
   ]
  },
  {
   "cell_type": "markdown",
   "id": "0ba9ec76-81ae-49c9-b213-6f57a87feaaa",
   "metadata": {},
   "source": [
    "Importing required libraries"
   ]
  },
  {
   "cell_type": "code",
   "execution_count": 1,
   "id": "c5357f23-22d5-4702-9d21-471498bc2ee7",
   "metadata": {},
   "outputs": [],
   "source": [
    "import numpy as np\n",
    "import itertools\n",
    "from scipy.linalg import expm\n",
    "import pylab as plt\n",
    "import matplotlib\n",
    "import sympy as sp"
   ]
  },
  {
   "cell_type": "markdown",
   "id": "eb1a01ff-0af3-4425-b75d-fbdc2691fbae",
   "metadata": {},
   "source": [
    "Importing required scripts"
   ]
  },
  {
   "cell_type": "code",
   "execution_count": 2,
   "id": "2a37eddd-2b5a-4afc-8e86-51f0ac1a399f",
   "metadata": {},
   "outputs": [],
   "source": [
    "import importlib\n",
    "import Rate_transitions\n",
    "import Finding_sub_Q\n",
    "import Lower_block_triangular\n",
    "import Finding_full_Q\n",
    "import Entropies\n",
    "import Hughes_model\n",
    "import Prob_absorb_to_each\n",
    "import Time_absorb_wild_states\n",
    "\n",
    "get_transition = Rate_transitions.get_transition\n",
    "getQk = Finding_sub_Q.getQk\n",
    "LBTQ = Lower_block_triangular.LBTQ\n",
    "getQ = Finding_full_Q.getQ\n",
    "entropy = Entropies.entropy\n",
    "F = Hughes_model.F\n",
    "prob_reach_absorb = Prob_absorb_to_each.prob_reach_absorb\n",
    "absorb_time_wolb = Time_absorb_wild_states.absorb_time_wolb\n",
    "\n",
    "# scripts autosave, so no need to re-run code chunk after making changes\n",
    "%load_ext autoreload\n",
    "%autoreload 2"
   ]
  },
  {
   "cell_type": "markdown",
   "id": "dd158b84-aea5-4b87-8390-be6e76a5ca33",
   "metadata": {},
   "source": [
    "Parameter values"
   ]
  },
  {
   "cell_type": "code",
   "execution_count": 3,
   "id": "b03f5f19-a69d-47f1-8775-f92b51ae8f94",
   "metadata": {},
   "outputs": [],
   "source": [
    "# set some parameter values \n",
    "\n",
    "K = 3            # reproductive carrying capacity\n",
    "d1 = 12/100      # wild-type death rate\n",
    "d2 = 12/100      # Wolbachia death rate\n",
    "xstar = 2        # imposed steady state (for wild type population)\n",
    "b1 = round(d1/F(xstar,K),2) # wild-type per capita birth rate\n",
    "phi = 7/10       # Wolbachia fitness\n",
    "b2 = b1*phi      # Wolbachia  per capita fitness\n",
    "v = 10/10        # probability of vertical transmission\n",
    "\n",
    "\n",
    "# create a dictionary to store all parameter values\n",
    "params_dict = {'b1': b1,\n",
    "              'b2': b2,\n",
    "              'K': K,\n",
    "              'd1': d1,\n",
    "              'd2': d2,\n",
    "              'v': v,\n",
    "              'phi': phi}"
   ]
  },
  {
   "cell_type": "markdown",
   "id": "0204fcc5-0847-4800-8ac7-0e17ff666195",
   "metadata": {},
   "source": [
    "Construct a dictionary of all the state variables"
   ]
  },
  {
   "cell_type": "code",
   "execution_count": 4,
   "id": "4edd1d94-260b-4032-a471-0b7a1b3614f1",
   "metadata": {},
   "outputs": [],
   "source": [
    "# construct a dictionary that associated an integer index with each possible states, states are stored as an np.array - easier to apply mathematical operations than tuple \n",
    "max_pop = 3 # maximum household size\n",
    "state_dict = {index: np.array((i, j)) for index, (i, j) in enumerate([(i, j) for i in range(max_pop + 1) for j in range(max_pop + 1) if i + j <= max_pop])}"
   ]
  },
  {
   "cell_type": "markdown",
   "id": "2ae437a6-f0bd-4187-bb6a-6d6395df129a",
   "metadata": {},
   "source": [
    "Construct the full transition matrix"
   ]
  },
  {
   "cell_type": "code",
   "execution_count": 5,
   "id": "b74015e6-69f2-4693-a2a9-4f50dc42fc69",
   "metadata": {},
   "outputs": [
    {
     "name": "stdout",
     "output_type": "stream",
     "text": [
      "[[-0.     0.     0.     0.     0.     0.     0.     0.     0.     0.   ]\n",
      " [ 0.12  -0.288  0.168  0.     0.     0.     0.     0.     0.     0.   ]\n",
      " [ 0.     0.24  -0.408  0.168  0.     0.     0.     0.     0.     0.   ]\n",
      " [ 0.     0.     0.36  -0.36   0.     0.     0.     0.     0.     0.   ]\n",
      " [ 0.12   0.     0.     0.    -0.36   0.     0.     0.24   0.     0.   ]\n",
      " [ 0.     0.12   0.     0.     0.12  -0.444  0.084  0.     0.12   0.   ]\n",
      " [ 0.     0.     0.12   0.     0.     0.24  -0.36   0.     0.     0.   ]\n",
      " [ 0.     0.     0.     0.     0.24   0.     0.    -0.48   0.     0.24 ]\n",
      " [ 0.     0.     0.     0.     0.     0.24   0.     0.12  -0.36   0.   ]\n",
      " [ 0.     0.     0.     0.     0.     0.     0.     0.36   0.    -0.36 ]]\n"
     ]
    }
   ],
   "source": [
    "# construct a matrix Q for the transition rate q_ij betweeen states i and j\n",
    "n_states = len(state_dict)  # total number of states\n",
    "\n",
    "Q = getQ(state_dict,params_dict)\n",
    "print(Q)"
   ]
  },
  {
   "cell_type": "markdown",
   "id": "f8d02baf-20d4-4316-b9df-7a22935bedf8",
   "metadata": {},
   "source": [
    "Constructing individual dictionaries of the communicating state classes and their respective sub-Q matrices"
   ]
  },
  {
   "cell_type": "code",
   "execution_count": 6,
   "id": "69e30be7-75de-4cf3-94ed-4ded50b1a04b",
   "metadata": {},
   "outputs": [],
   "source": [
    "### S1 corresponds to the wild-type-only states, S2 to the Wolbachia-only and S3 the mixed states\n",
    "state_dict_S1 = {index: np.array((i, 0)) for index, i in enumerate([i for i in range(1,max_pop + 1)])}\n",
    "state_dict_S2 = {index: np.array((0, i)) for index, i in enumerate([i for i in range(1,max_pop + 1)])}\n",
    "state_dict_S3 = {index: np.array((i,j)) for index, (i,j) in enumerate([(i, j) for i in range(1,max_pop + 1) for j in range(1,max_pop + 1) if i + j <= max_pop])}\n",
    "\n",
    "# finding the sub-q matrices and their respective ordered lists of states in the class\n",
    "# we will use these list to rearrange Q into lower block triangular form\n",
    "Q1,key_list1 = getQk(state_dict_S1,state_dict,Q,params_dict)\n",
    "Q2,key_list2 = getQk(state_dict_S2,state_dict,Q,params_dict)\n",
    "Q3,key_list3 = getQk(state_dict_S3,state_dict,Q,params_dict)"
   ]
  },
  {
   "cell_type": "markdown",
   "id": "750021fe-3237-4c9b-a84f-80f599608392",
   "metadata": {},
   "source": [
    "Putting Q in lower block triangular form and constructing the reordered full state dictionary"
   ]
  },
  {
   "cell_type": "code",
   "execution_count": 7,
   "id": "2c1ec117-31b3-4de2-83fc-7738f3710262",
   "metadata": {},
   "outputs": [
    {
     "name": "stdout",
     "output_type": "stream",
     "text": [
      "Re-ordered state dictionary is: {0: array([1, 0]), 1: array([2, 0]), 2: array([3, 0]), 3: array([0, 1]), 4: array([0, 2]), 5: array([0, 3]), 6: array([1, 2]), 7: array([1, 1]), 8: array([2, 1])}\n",
      "\n",
      "Q in lower block triangular form is: [[-0.36   0.24   0.     0.     0.     0.     0.     0.     0.   ]\n",
      " [ 0.24  -0.48   0.24   0.     0.     0.     0.     0.     0.   ]\n",
      " [ 0.     0.36  -0.36   0.     0.     0.     0.     0.     0.   ]\n",
      " [ 0.     0.     0.    -0.288  0.168  0.     0.     0.     0.   ]\n",
      " [ 0.     0.     0.     0.24  -0.408  0.168  0.     0.     0.   ]\n",
      " [ 0.     0.     0.     0.     0.36  -0.36   0.     0.     0.   ]\n",
      " [ 0.     0.     0.     0.     0.12   0.    -0.36   0.24   0.   ]\n",
      " [ 0.12   0.     0.     0.12   0.     0.     0.084 -0.444  0.12 ]\n",
      " [ 0.     0.12   0.     0.     0.     0.     0.     0.24  -0.36 ]]\n"
     ]
    }
   ],
   "source": [
    "Q_lower_block_triang, state_dict_relabel = LBTQ(Q,state_dict,state_dict_S1,state_dict_S2,state_dict_S3,max_pop,params_dict)\n",
    "print('Re-ordered state dictionary is:', state_dict_relabel)\n",
    "print()\n",
    "print('Q in lower block triangular form is:', Q_lower_block_triang)"
   ]
  },
  {
   "cell_type": "markdown",
   "id": "da79084a-d277-40ef-81be-b79a6db7916b",
   "metadata": {},
   "source": [
    "Find the QSD. This is the left eigenvector associated with the over all eigenvalue with minimal magitude normalised to sum to 1. This comes from S1."
   ]
  },
  {
   "cell_type": "code",
   "execution_count": 8,
   "id": "2313d41e-bfa0-49c7-a52e-57b07929fb0c",
   "metadata": {},
   "outputs": [
    {
     "name": "stdout",
     "output_type": "stream",
     "text": [
      "The QSD is [0.29843788 0.40312424 0.29843788 0.         0.         0.\n",
      " 0.         0.         0.        ]\n"
     ]
    }
   ],
   "source": [
    "# we take the transpose of Q so we obtain the left eigenvector not right\n",
    "evals, evecs = np.linalg.eig(Q_lower_block_triang.T)  # all eigenvalues and eigenvectors\n",
    "decay_indx = np.argmax([x for x in evals if x != 0])  # index for over all eigenvalue of minimal magnitude\n",
    "uvec = evecs[:,decay_indx]                # the corresponding left eigenvector\n",
    "quasi_stat_dist = uvec/np.sum(uvec)       # normalising to sum to 1\n",
    "print('The QSD is', quasi_stat_dist)"
   ]
  },
  {
   "cell_type": "markdown",
   "id": "5619cefe-45cc-4b85-8a8a-64078147328c",
   "metadata": {},
   "source": [
    "Finding the sojourn time"
   ]
  },
  {
   "cell_type": "code",
   "execution_count": 9,
   "id": "c9834b9e-f73d-42f4-8f3a-c2fead94182d",
   "metadata": {},
   "outputs": [
    {
     "name": "stdout",
     "output_type": "stream",
     "text": [
      "expected time spent in a state is 2.497830390671633\n"
     ]
    }
   ],
   "source": [
    "soj_time = 0\n",
    "for i in range(n_states-1):\n",
    "    soj_time -= quasi_stat_dist[i]/Q_lower_block_triang[i,i]\n",
    "print('expected time spent in a state is', soj_time)"
   ]
  },
  {
   "cell_type": "markdown",
   "id": "a5ae2a84-2e63-4b96-8120-94c69c5ef34d",
   "metadata": {},
   "source": [
    "Finding the probabilities of reaching the Wolbachia-only state space (successful invasion) conditioning on each transient state"
   ]
  },
  {
   "cell_type": "code",
   "execution_count": 10,
   "id": "b3ddde43-052f-458d-8e5e-432f8bbd65b7",
   "metadata": {},
   "outputs": [
    {
     "name": "stdout",
     "output_type": "stream",
     "text": [
      "[0.48051948 0.65367965 0.32034632]\n"
     ]
    }
   ],
   "source": [
    "n_transient = len(state_dict_S3) \n",
    "prob_reach_wolb = np.zeros(n_transient)\n",
    "for i in range(max_pop):\n",
    "    absorb_state = np.array([0,i+1])\n",
    "    prob_reach_wolb[:] += np.transpose(prob_reach_absorb(state_dict,state_dict_S3,absorb_state,params_dict)[0])[0]\n",
    "print(prob_reach_wolb)"
   ]
  },
  {
   "cell_type": "markdown",
   "id": "8b20d38a-6b20-47f3-bbd1-67cf613022ac",
   "metadata": {},
   "source": [
    "Finding the expected times to invasion originating from eah transient state"
   ]
  },
  {
   "cell_type": "code",
   "execution_count": 11,
   "id": "38c2d0c6-68b3-43a4-a6be-093988df4ec8",
   "metadata": {},
   "outputs": [
    {
     "data": {
      "text/plain": [
       "array([4.99883   , 5.22753553, 7.77660778])"
      ]
     },
     "execution_count": 11,
     "metadata": {},
     "output_type": "execute_result"
    }
   ],
   "source": [
    "absorb_time_wolb(max_pop,np.ones(n_transient),params_dict)"
   ]
  }
 ],
 "metadata": {
  "kernelspec": {
   "display_name": "venv1",
   "language": "python",
   "name": "venv1"
  },
  "language_info": {
   "codemirror_mode": {
    "name": "ipython",
    "version": 3
   },
   "file_extension": ".py",
   "mimetype": "text/x-python",
   "name": "python",
   "nbconvert_exporter": "python",
   "pygments_lexer": "ipython3",
   "version": "3.10.11"
  }
 },
 "nbformat": 4,
 "nbformat_minor": 5
}
