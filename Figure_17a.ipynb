{
 "cells": [
  {
   "cell_type": "markdown",
   "id": "22583262-a79b-424b-9e91-7b496715fd53",
   "metadata": {},
   "source": [
    "# Figure 17a: colour plot of the probabilities of re-invasion conditioning on the probability distribution of entering the Wolbachia-only state space from each mixed state"
   ]
  },
  {
   "cell_type": "markdown",
   "id": "68592aa4-f8b5-42d3-9297-07508873c69c",
   "metadata": {},
   "source": [
    "## Abby Barlow, University of Bath\n",
    "## Ben Adams, University of Bath"
   ]
  },
  {
   "cell_type": "markdown",
   "id": "7d10d4f1-1e1f-4b2c-a71a-0a9f21b0873f",
   "metadata": {},
   "source": [
    "Importing required libraries"
   ]
  },
  {
   "cell_type": "code",
   "execution_count": 1,
   "id": "226fa7ce-0246-4c5a-96ee-8d386c4b4a23",
   "metadata": {},
   "outputs": [],
   "source": [
    "import numpy as np\n",
    "import importlib\n",
    "import multiprocessing as mp\n",
    "import pylab as plt\n",
    "import time\n",
    "import random\n",
    "import matplotlib\n",
    "from matplotlib.colors import ListedColormap\n",
    "from matplotlib.patches import Rectangle"
   ]
  },
  {
   "cell_type": "markdown",
   "id": "772ea415-e4f1-4de3-9b7b-45cacd4156f7",
   "metadata": {},
   "source": [
    "Importing the required scripts"
   ]
  },
  {
   "cell_type": "code",
   "execution_count": 2,
   "id": "d53ebe9f-60b1-4d35-83cc-579d84dd4363",
   "metadata": {},
   "outputs": [],
   "source": [
    "import SSA_random_wolbachia_hholds as sim\n",
    "import Hughes_model\n",
    "import Prob_absorb_to_each\n",
    "import Finding_dictionary_keys\n",
    "\n",
    "F = Hughes_model.F#_hughes\n",
    "importlib.reload(sim)   \n",
    "gillespie = sim.gillespie\n",
    "prob_reach_absorb = Prob_absorb_to_each.prob_reach_absorb_Hughes\n",
    "find_keys = Finding_dictionary_keys.find_keys\n",
    "\n",
    "# scripts autosave, so no need to re-run code chunk after making changes\n",
    "%load_ext autoreload\n",
    "%autoreload 2"
   ]
  },
  {
   "cell_type": "markdown",
   "id": "c49ce433-45b0-4d5c-bfa7-582cd69dae19",
   "metadata": {},
   "source": [
    "Parameter values"
   ]
  },
  {
   "cell_type": "code",
   "execution_count": 3,
   "id": "eb2a0764-1249-4df1-bbdf-62ee32b5af40",
   "metadata": {},
   "outputs": [],
   "source": [
    "K = 30           # reproductive carrying capacity\n",
    "d1 = 12/100      # wild-type death rate\n",
    "d2 = 12/100      # Wolbachia death rate\n",
    "k = 0.3          # mosquito competition parameter\n",
    "h = 0.19*100**k  # mosquito competition parameter\n",
    "b1 = round(d1/F(10,K),2)  # wild-type per capita birth rate\n",
    "phi = 85/100       # Wolbachia fitness\n",
    "b2 = b1*phi      # Wolbachia per capita birth rate\n",
    "v = 9/10         # probability of vertical transmission\n",
    "u = 10/10        # ratio of unviable offspring produced by an infected male and uninfected female\n",
    "max_pop = K      # max household size\n",
    "\n",
    "# create a dictionary to store all parameter values\n",
    "params_dict_old = {'b1': b1,\n",
    "              'b2': b2,\n",
    "              'K': K,\n",
    "              'd1': d1,\n",
    "              'd2': d2,\n",
    "              'v': v,\n",
    "              'phi': phi,\n",
    "              'u': u,\n",
    "              'h': h,\n",
    "              'k': k\n",
    "              }"
   ]
  },
  {
   "cell_type": "markdown",
   "id": "321e0d8a-e736-4757-a010-cbdee68b9c18",
   "metadata": {},
   "source": [
    "Construct dictionaries for full state space and transient states (mixed)"
   ]
  },
  {
   "cell_type": "code",
   "execution_count": 4,
   "id": "354b5b01-d45e-4cc1-93ae-a7ef5d9b3c3a",
   "metadata": {},
   "outputs": [],
   "source": [
    "state_dict = {index: np.array((i, j)) for index, (i, j) in enumerate([(i, j) for i in range(max_pop + 1) for j in range(max_pop + 1) if i + j <= max_pop])}\n",
    "trans_dict = {index: np.array((i,j)) for index, (i,j) in enumerate([(i, j) for i in range(1,max_pop + 1) for j in range(1,max_pop + 1) if i + j <= max_pop])}\n",
    "n_transient = len(trans_dict)       # number of mixed states"
   ]
  },
  {
   "cell_type": "markdown",
   "id": "17df648d-7b5f-45c8-8b8f-5c2c80acee3e",
   "metadata": {},
   "source": [
    "Find the probability distributions for entering the Wolbachia-only state space for each mixed state"
   ]
  },
  {
   "cell_type": "code",
   "execution_count": 5,
   "id": "43930dc1-ce49-4ab5-b190-907e9ffc7eec",
   "metadata": {
    "tags": []
   },
   "outputs": [],
   "source": [
    "# initialise array for probability distributions of entering the Wolbachia-only state space from each mixed state\n",
    "wolb_enter_dist = np.zeros((n_transient,max_pop)) \n",
    "\n",
    "for l in range(max_pop):   # looping all the Wolbachia-only states\n",
    "        absorb_state = np.array([0,l+1])    # current Wolbachia-only state\n",
    "        # calculating the probability of entering the W-only state from each mixed state\n",
    "        mixed_state_probs = np.transpose(prob_reach_absorb(state_dict,trans_dict,absorb_state,params_dict_old)[0])[0]\n",
    "        wolb_enter_dist[:,l] = mixed_state_probs   # storing the probability distributions in an array"
   ]
  },
  {
   "cell_type": "code",
   "execution_count": 6,
   "id": "90187a29",
   "metadata": {},
   "outputs": [],
   "source": [
    "### S1 corresponds to the wild-type-only states, S2 to the Wolbachia-only and mixed states\n",
    "rev_probs = np.zeros(n_transient) # initialise array for reversion probabilities\n",
    "state_dict_S1 = {index: np.array((i, 0)) for index, i in enumerate([i for i in range(1, max_pop + 1)])}\n",
    "state_dict_S2 = {index: np.array((i,j)) for index, (i,j) in enumerate([(i, j) for i in range(max_pop + 1) for j in range(1,max_pop + 1) if i + j <= max_pop])}\n",
    "reach_wild_probs = np.zeros(len(state_dict_S2))\n",
    "\n",
    "for m in range(max_pop):  # looping all the wild-type-only states\n",
    "    absorb_state = np.array([m+1,0])  # these are the absorbing states\n",
    "    # finding the probabbilities of reaching the wildtype states from each Wolbachia-only state\n",
    "    # sum the proobabilities of reaching each wildtype state for each Wolbachia state\n",
    "    reach_wild_probs += np.transpose(prob_reach_absorb(state_dict,state_dict_S2,absorb_state,params_dict_old)[0])[0]\n",
    "\n",
    "for l in range(n_transient): # looping over all the mixed states\n",
    "    # find the reversion probability conditioning on entering the wolbachia-only states from each mixed state in turn\n",
    "    rev_probs[l] = (wolb_enter_dist[l,:]/np.sum(wolb_enter_dist[l,:])) @ reach_wild_probs[:max_pop]"
   ]
  },
  {
   "cell_type": "markdown",
   "id": "fe5466c3",
   "metadata": {},
   "source": [
    "Putting the results into the correct format for the colour map"
   ]
  },
  {
   "cell_type": "code",
   "execution_count": 7,
   "id": "f8c30830",
   "metadata": {},
   "outputs": [],
   "source": [
    "revert_color_vec = np.zeros((max_pop,max_pop))  # initialise colour plot array\n",
    "    \n",
    "for k in range(n_transient):      # looping over the mixed states\n",
    "    indx1, indx2 = trans_dict[k]  # extracting the correct indices \n",
    "    # recording the re-invasion probability at the correct indices\n",
    "    revert_color_vec[indx1-1,indx2-1] = rev_probs[k]"
   ]
  },
  {
   "cell_type": "code",
   "execution_count": 30,
   "id": "4923c162",
   "metadata": {},
   "outputs": [
    {
     "data": {
      "text/plain": [
       "0.3913047050981278"
      ]
     },
     "execution_count": 30,
     "metadata": {},
     "output_type": "execute_result"
    }
   ],
   "source": [
    "np.mean(rev_probs)  # the mean reversion probability over all initial distributions"
   ]
  },
  {
   "cell_type": "markdown",
   "id": "ed7fcc76",
   "metadata": {},
   "source": [
    "Plotting the figure"
   ]
  },
  {
   "cell_type": "code",
   "execution_count": 8,
   "id": "9bb221c5",
   "metadata": {},
   "outputs": [
    {
     "name": "stderr",
     "output_type": "stream",
     "text": [
      "findfont: Font family ['cmsy10'] not found. Falling back to DejaVu Sans.\n",
      "findfont: Font family ['cmr10'] not found. Falling back to DejaVu Sans.\n",
      "findfont: Font family ['cmtt10'] not found. Falling back to DejaVu Sans.\n",
      "findfont: Font family ['cmmi10'] not found. Falling back to DejaVu Sans.\n",
      "findfont: Font family ['cmb10'] not found. Falling back to DejaVu Sans.\n",
      "findfont: Font family ['cmss10'] not found. Falling back to DejaVu Sans.\n",
      "findfont: Font family ['cmex10'] not found. Falling back to DejaVu Sans.\n"
     ]
    },
    {
     "data": {
      "image/png": "[encoded data removed]",
      "text/plain": [
       "<Figure size 432x432 with 2 Axes>"
      ]
     },
     "metadata": {
      "needs_background": "light"
     },
     "output_type": "display_data"
    }
   ],
   "source": [
    "plt.figure(figsize=(6, 6))  # figure size\n",
    "matplotlib.rcParams.update({'font.size': 15})  # font size\n",
    "\n",
    "Z = np.transpose(revert_color_vec) # swapping entries to be the correct way round for the colour plot\n",
    "my_cmap = plt.cm.viridis  # colour scheme\n",
    "num_levels = 1000000\n",
    "\n",
    "my_cmap = ListedColormap(my_cmap(np.linspace(0, 1, num_levels))) # choosing how fine the colour grid is\n",
    "plt.imshow(Z, cmap=my_cmap, interpolation='nearest', origin='lower')  # producing the colour plot\n",
    "\n",
    "plt.xlabel('$N_m(0)$')   # x labels\n",
    "plt.ylabel('$N_w(0)$')   # y labels\n",
    "\n",
    "plt.yticks([4,9,14,19,24],['5','10','15','20','25'])    # y ticks\n",
    "plt.xticks([4,9,14,19,24],['5','10','15','20','25'])    # x ticks\n",
    "\n",
    "# colouring in the squares outside of the household size bounds grey \n",
    "for i in range(max_pop):    # looping over the y axis\n",
    "    highlight_row, highlight_col = max_pop-i-1,i\n",
    "    rect = Rectangle((highlight_col - 0.5, highlight_row - 0.5), max_pop, 1, edgecolor='gray', facecolor='gray')\n",
    "    current_axes = plt.gca()    # keeping track of axes\n",
    "    current_axes.add_patch(rect)  # adds grey \n",
    "\n",
    "plt.colorbar()   # adds colour bar\n",
    "plt.title('Reversion probability')   # title\n",
    "\n",
    "plt.savefig('prob_reversion_initial_dists_qu.pdf', bbox_inches='tight')   # saves figure"
   ]
  }
 ],
 "metadata": {
  "kernelspec": {
   "display_name": "venv_dengue",
   "language": "python",
   "name": "python3"
  },
  "language_info": {
   "codemirror_mode": {
    "name": "ipython",
    "version": 3
   },
   "file_extension": ".py",
   "mimetype": "text/x-python",
   "name": "python",
   "nbconvert_exporter": "python",
   "pygments_lexer": "ipython3",
   "version": "3.8.13"
  }
 },
 "nbformat": 4,
 "nbformat_minor": 5
}
