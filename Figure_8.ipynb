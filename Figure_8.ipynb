{
 "cells": [
  {
   "cell_type": "markdown",
   "id": "1fdb8944-047f-450d-b4d2-95609163aed0",
   "metadata": {},
   "source": [
    "# Figure 8: The probability distribution conditioned on non-extinction for the 30 mosquito model with no reversion"
   ]
  },
  {
   "cell_type": "markdown",
   "id": "3e241317-be13-476f-8cb2-5013a5aacce6",
   "metadata": {},
   "source": [
    "## Abby Barlow, University of Bath\n",
    "## Ben Adams, University of Bath"
   ]
  },
  {
   "cell_type": "markdown",
   "id": "52916405-94c4-4458-8933-5ade3b9efdbe",
   "metadata": {},
   "source": [
    "Importing required libraries"
   ]
  },
  {
   "cell_type": "code",
   "execution_count": 11,
   "id": "f0148a6f-49b3-47fc-9307-7243568d656f",
   "metadata": {},
   "outputs": [],
   "source": [
    "import numpy as np\n",
    "import sympy as sp\n",
    "import itertools\n",
    "from scipy.linalg import expm\n",
    "import pylab as plt\n",
    "import matplotlib"
   ]
  },
  {
   "cell_type": "markdown",
   "id": "839fbdf1-ff9c-4a90-b03b-46e7b350c848",
   "metadata": {},
   "source": [
    "Importing required scripts"
   ]
  },
  {
   "cell_type": "code",
   "execution_count": 3,
   "id": "0b7223ef-ae5f-4e2a-8ad2-33f54d00c156",
   "metadata": {},
   "outputs": [],
   "source": [
    "import importlib\n",
    "import Rate_transitions\n",
    "import Finding_full_Q\n",
    "import Finding_P_dist\n",
    "import Finding_dictionary_keys\n",
    "import Hughes_model\n",
    "\n",
    "get_transition = Rate_transitions.get_transition_Hughes\n",
    "getQ = Finding_full_Q.getQ_Hughes\n",
    "Pget = Finding_P_dist.Pget\n",
    "find_keys = Finding_dictionary_keys.find_keys\n",
    "F = Hughes_model.F_hughes\n",
    "\n",
    "# scripts autosave, so no need to re-run code chunk after making changes\n",
    "%load_ext autoreload\n",
    "%autoreload 2"
   ]
  },
  {
   "cell_type": "markdown",
   "id": "eedfd986-ec63-4e53-ad7d-e523f88835df",
   "metadata": {},
   "source": [
    "Finding the coexistence steady state symbolically"
   ]
  },
  {
   "cell_type": "code",
   "execution_count": 3,
   "id": "c3cf71f5-00cc-437e-90ec-bba974048a84",
   "metadata": {},
   "outputs": [],
   "source": [
    "b,nm,nw,u,v,phi,Q,d,dw,h,k = sp.symbols('b nm nw u v phi Q d dw h k')  # defining the parameters symbolically\n",
    "\n",
    "zm = ((nm + (1-u)*nw)/(nm + nw))*(nm + (1-v)*phi*nw)\n",
    "zw = v*phi*nw\n",
    "\n",
    "# we have removed a factor nw from eq1 so the wild-type only steady state will not appear as a solution\n",
    "eq1 = b*zm*sp.exp(-h*(nm+nw)**k) - d*nm   # ODE describing wild-type dynamics\n",
    "eq2 = b*phi*v*sp.exp(-h*(nm+nw)**k) - dw  # Wolbachia dynamics\n",
    "\n",
    "# change the equations to below if using alternative larval density function\n",
    "#eq1 = b*zm*(1-(nm + nw)/Q) - d*nm\n",
    "#eq2 = b*phi*v*(1-(nm + nw)/Q) - dw\n",
    "\n",
    "sol_coexist = sp.solve([eq1,eq2],[nm,nw])   # solver for steady states symbolically"
   ]
  },
  {
   "cell_type": "markdown",
   "id": "ab5d20bf-3ab4-4c89-9a3b-099da3b4a570",
   "metadata": {},
   "source": [
    "Parameter values"
   ]
  },
  {
   "cell_type": "code",
   "execution_count": 5,
   "id": "da55b8fe-d719-4fbb-b14c-a892c7a7b26d",
   "metadata": {},
   "outputs": [],
   "source": [
    "K = 30        # reproductive carrying capacity\n",
    "d1 = 12/100   # wild-type death rate\n",
    "d2 = 12/100   # Wolbachia death rate\n",
    "phi = 85/100    # Wolbachia fitness\n",
    "\n",
    "v = 10/10     # probability of vertical transmission\n",
    "u = 10/10     # ratio of unviable offspring produced by an infected male and uninfected female\n",
    "\n",
    "k = 0.3           # Mosquito competition parameter\n",
    "h = 0.19*100**k   # Mosquito competition parameter\n",
    "\n",
    "b1 = round(d1/F(10,h,k,K),2) # wild-type per capita birth rate\n",
    "b2 = b1*phi                # Wolbachia per capita birth rate\n",
    "\n",
    "# create a dictionary to store all parameter values\n",
    "params_dict = {'b1': b1,\n",
    "              'b2': b2,\n",
    "              'K': K,\n",
    "              'd1': d1,\n",
    "              'd2': d2,\n",
    "              'v': v,\n",
    "              'phi': phi,\n",
    "              'u': u,\n",
    "              'h': h,\n",
    "              'k': k\n",
    "              }"
   ]
  },
  {
   "cell_type": "markdown",
   "id": "f91136a1-3969-4195-885f-900054808933",
   "metadata": {},
   "source": [
    "Construct a dictionary of all the state variables"
   ]
  },
  {
   "cell_type": "code",
   "execution_count": 6,
   "id": "76eec8dc-41a0-4b90-a326-f67ada4c9994",
   "metadata": {},
   "outputs": [],
   "source": [
    "# construct a dictionary that associated an integer index with each possible states, states are stored as an np.array - easier to apply mathematical operations than tuple \n",
    "max_pop = 30   # maximum household size\n",
    "state_dict = {index: np.array((i, j)) for index, (i, j) in enumerate([(i, j) for i in range(max_pop + 1) for j in range(max_pop + 1) if i + j <= max_pop])}"
   ]
  },
  {
   "cell_type": "markdown",
   "id": "886b9504-c36a-4922-8b82-9a37095bdbb8",
   "metadata": {},
   "source": [
    "Construct the full transition matrix"
   ]
  },
  {
   "cell_type": "code",
   "execution_count": 7,
   "id": "214c63f2-a79f-4cbe-a09d-68d1d3733af8",
   "metadata": {},
   "outputs": [
    {
     "name": "stdout",
     "output_type": "stream",
     "text": [
      "[[-0.          0.          0.         ...  0.          0.\n",
      "   0.        ]\n",
      " [ 0.12       -0.33543227  0.21543227 ...  0.          0.\n",
      "   0.        ]\n",
      " [ 0.          0.24       -0.6017507  ...  0.          0.\n",
      "   0.        ]\n",
      " ...\n",
      " [ 0.          0.          0.         ... -5.4419426   0.\n",
      "   1.9619426 ]\n",
      " [ 0.          0.          0.         ...  0.12       -3.6\n",
      "   0.        ]\n",
      " [ 0.          0.          0.         ...  3.6         0.\n",
      "  -3.6       ]]\n"
     ]
    }
   ],
   "source": [
    "# construct a matrix Q for the transition rate q_ij betweeen states i and j\n",
    "n_states = len(state_dict)   # total number of states\n",
    "\n",
    "Q = getQ(state_dict,params_dict)\n",
    "print(Q)"
   ]
  },
  {
   "cell_type": "markdown",
   "id": "26185aa5-5d51-406e-bdf7-827b554f423e",
   "metadata": {},
   "source": [
    "Finding the coexistence steady state under the given parameter values"
   ]
  },
  {
   "cell_type": "code",
   "execution_count": 8,
   "id": "69d3c9fe-f5f7-466c-9897-fdd3f7ba060f",
   "metadata": {},
   "outputs": [
    {
     "ename": "NameError",
     "evalue": "name 'sol_coexist' is not defined",
     "output_type": "error",
     "traceback": [
      "\u001b[1;31m---------------------------------------------------------------------------\u001b[0m",
      "\u001b[1;31mNameError\u001b[0m                                 Traceback (most recent call last)",
      "Input \u001b[1;32mIn [8]\u001b[0m, in \u001b[0;36m<cell line: 2>\u001b[1;34m()\u001b[0m\n\u001b[0;32m      1\u001b[0m \u001b[38;5;66;03m# the coexistence SS correspsonds to the second solution\u001b[39;00m\n\u001b[1;32m----> 2\u001b[0m nm_co \u001b[38;5;241m=\u001b[39m \u001b[43msol_coexist\u001b[49m[\u001b[38;5;241m1\u001b[39m][\u001b[38;5;241m0\u001b[39m]\u001b[38;5;241m.\u001b[39msubs({\u001b[38;5;124m'\u001b[39m\u001b[38;5;124mb\u001b[39m\u001b[38;5;124m'\u001b[39m:b1,\u001b[38;5;124m'\u001b[39m\u001b[38;5;124mu\u001b[39m\u001b[38;5;124m'\u001b[39m:u,\u001b[38;5;124m'\u001b[39m\u001b[38;5;124mv\u001b[39m\u001b[38;5;124m'\u001b[39m:v,\u001b[38;5;124m'\u001b[39m\u001b[38;5;124mphi\u001b[39m\u001b[38;5;124m'\u001b[39m:phi,\u001b[38;5;124m'\u001b[39m\u001b[38;5;124mQ\u001b[39m\u001b[38;5;124m'\u001b[39m:K,\u001b[38;5;124m'\u001b[39m\u001b[38;5;124md\u001b[39m\u001b[38;5;124m'\u001b[39m:d1,\u001b[38;5;124m'\u001b[39m\u001b[38;5;124mdw\u001b[39m\u001b[38;5;124m'\u001b[39m:d2,\u001b[38;5;124m'\u001b[39m\u001b[38;5;124mk\u001b[39m\u001b[38;5;124m'\u001b[39m:k,\u001b[38;5;124m'\u001b[39m\u001b[38;5;124mh\u001b[39m\u001b[38;5;124m'\u001b[39m:h})\u001b[38;5;241m.\u001b[39mevalf()\n\u001b[0;32m      3\u001b[0m nw_co \u001b[38;5;241m=\u001b[39m sol_coexist[\u001b[38;5;241m1\u001b[39m][\u001b[38;5;241m1\u001b[39m]\u001b[38;5;241m.\u001b[39msubs({\u001b[38;5;124m'\u001b[39m\u001b[38;5;124mb\u001b[39m\u001b[38;5;124m'\u001b[39m:b1,\u001b[38;5;124m'\u001b[39m\u001b[38;5;124mu\u001b[39m\u001b[38;5;124m'\u001b[39m:u,\u001b[38;5;124m'\u001b[39m\u001b[38;5;124mv\u001b[39m\u001b[38;5;124m'\u001b[39m:v,\u001b[38;5;124m'\u001b[39m\u001b[38;5;124mphi\u001b[39m\u001b[38;5;124m'\u001b[39m:phi,\u001b[38;5;124m'\u001b[39m\u001b[38;5;124mQ\u001b[39m\u001b[38;5;124m'\u001b[39m:K,\u001b[38;5;124m'\u001b[39m\u001b[38;5;124md\u001b[39m\u001b[38;5;124m'\u001b[39m:d1,\u001b[38;5;124m'\u001b[39m\u001b[38;5;124mdw\u001b[39m\u001b[38;5;124m'\u001b[39m:d2,\u001b[38;5;124m'\u001b[39m\u001b[38;5;124mk\u001b[39m\u001b[38;5;124m'\u001b[39m:k,\u001b[38;5;124m'\u001b[39m\u001b[38;5;124mh\u001b[39m\u001b[38;5;124m'\u001b[39m:h})\u001b[38;5;241m.\u001b[39mevalf()\n\u001b[0;32m      4\u001b[0m \u001b[38;5;28mprint\u001b[39m(\u001b[38;5;124m'\u001b[39m\u001b[38;5;124mcoexistence SS is\u001b[39m\u001b[38;5;124m'\u001b[39m, (nm_co,nw_co))\n",
      "\u001b[1;31mNameError\u001b[0m: name 'sol_coexist' is not defined"
     ]
    }
   ],
   "source": [
    "# the coexistence SS correspsonds to the second solution\n",
    "nm_co = sol_coexist[1][0].subs({'b':b1,'u':u,'v':v,'phi':phi,'Q':K,'d':d1,'dw':d2,'k':k,'h':h}).evalf()\n",
    "nw_co = sol_coexist[1][1].subs({'b':b1,'u':u,'v':v,'phi':phi,'Q':K,'d':d1,'dw':d2,'k':k,'h':h}).evalf()\n",
    "print('coexistence SS is', (nm_co,nw_co))\n",
    "# we approximate the coexistence SS as (7,1)"
   ]
  },
  {
   "cell_type": "markdown",
   "id": "228328d3-3cc2-4f04-98f2-eb905c86b196",
   "metadata": {},
   "source": [
    "Finding the probability distribution over time. This is the solution of $P'(t)=P(t)Q$ i.e. $P(t)=P(0)\\exp (Qt)$."
   ]
  },
  {
   "cell_type": "code",
   "execution_count": 9,
   "id": "64b95317-3a41-4409-bad5-d49f65befabb",
   "metadata": {},
   "outputs": [
    {
     "name": "stdout",
     "output_type": "stream",
     "text": [
      "Elapsed Time: 254.8153793811798 seconds\n"
     ]
    }
   ],
   "source": [
    "import time   # import library that keeps track of how long to run code chunk\n",
    "start_time = time.time()   # record start time of running code chunk\n",
    "\n",
    "t_start = 0          # start time point calculating probability distribution over\n",
    "t_range = 1500       # how many days of time points\n",
    "steps = t_range      # number of time points calculating over\n",
    "initial_state = np.array((5,5))   # initial condition is the probability of being in state (7,1) is 1\n",
    "\n",
    "P_vec,t = Pget(t_start,t_range,Q,steps,initial_state,state_dict)  # finds probability dist over all time points\n",
    "\n",
    "end_time = time.time()    # record end time of running code chunk\n",
    "elapsed_time = end_time - start_time   # calulate time took to run\n",
    "\n",
    "# Print the elapsed time\n",
    "print(f\"Elapsed Time: {elapsed_time} seconds\")"
   ]
  },
  {
   "cell_type": "markdown",
   "id": "4ba87a71-0c56-43c8-9cd2-cb91b68bd419",
   "metadata": {},
   "source": [
    "Save the arrays of the probability distributions and the time steps"
   ]
  },
  {
   "cell_type": "code",
   "execution_count": 10,
   "id": "30a827ea-57e0-4337-86c4-b1ce24608b99",
   "metadata": {},
   "outputs": [],
   "source": [
    "np.save('prob_vec.npy',P_vec) # saving the array of probability distributions\n",
    "np.save('time_vec.npy',t)     # saving the time points\n",
    "P_vec = np.load('prob_vec.npy')  # reloading P_vec"
   ]
  },
  {
   "cell_type": "markdown",
   "id": "c8cd7409-276d-4e29-9c9e-77f91c88d6d3",
   "metadata": {},
   "source": [
    "Plotting the figure"
   ]
  },
  {
   "cell_type": "code",
   "execution_count": 15,
   "id": "ab010d8c-0850-42cb-8d22-a84feedfc7b3",
   "metadata": {},
   "outputs": [
    {
     "data": {
      "image/png": "[encoded data removed]",
      "text/plain": [
       "<Figure size 432x288 with 1 Axes>"
      ]
     },
     "metadata": {
      "needs_background": "light"
     },
     "output_type": "display_data"
    }
   ],
   "source": [
    "matplotlib.rcParams.update({'font.size': 15})   # font size\n",
    "#plt.figure(figsize=(10, 5))\n",
    "P_wild = np.zeros(steps)# initialising an array for the probability of being in the wild-type-only states over time\n",
    "P_wolbachia = np.zeros(steps)  # for Wolbachia-only states\n",
    "for k in range(max_pop):   # looping over wild-type/Wolbachia-only state space\n",
    "    key_wild = find_keys(state_dict,np.array((k+1,0)))[0]  # finding the key for the current wild-type-only state\n",
    "    P_wild += P_vec[:,key_wild]/(1-P_vec[:,0])       # adding the probability of being in that state at time t\n",
    "    key_wolb = find_keys(state_dict,np.array((0,k+1)))[0]  # finding the key for the current Wolbachia-only state\n",
    "    P_wolbachia += P_vec[:,key_wolb]/(1-P_vec[:,0])  # adding the probability of being in that state at time t  \n",
    "    \n",
    "plt.plot(t,P_wild, label = 'wild-type')  # plotting the probability of being the wild-type-only state space over t\n",
    "plt.plot(t,P_wolbachia, label = 'wolbachia-infected')  # for Wolbachia-only\n",
    "plt.xlim(0,1500)   # take x limit\n",
    "plt.legend()      # make legend\n",
    "plt.xlabel('Time (t)', fontsize=15)         # x label\n",
    "plt.ylabel('$P_{(i,j)}(t)$')   # y label\n",
    "plt.title('$P_{(5,5)}(0)=1$')  # title\n",
    "plt.grid()                     # make grid\n",
    "#plt.savefig('Prob_dist_absorbing_55_dye_v1.pdf', bbox_inches='tight')  # save figure"
   ]
  },
  {
   "cell_type": "code",
   "execution_count": null,
   "id": "acfd1529-0f50-4f80-825a-26400fab838c",
   "metadata": {},
   "outputs": [],
   "source": []
  }
 ],
 "metadata": {
  "kernelspec": {
   "display_name": "venv_dengue",
   "language": "python",
   "name": "python3"
  },
  "language_info": {
   "codemirror_mode": {
    "name": "ipython",
    "version": 3
   },
   "file_extension": ".py",
   "mimetype": "text/x-python",
   "name": "python",
   "nbconvert_exporter": "python",
   "pygments_lexer": "ipython3",
   "version": "3.8.13"
  }
 },
 "nbformat": 4,
 "nbformat_minor": 5
}
