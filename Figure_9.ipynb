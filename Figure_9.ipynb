{
 "cells": [
  {
   "cell_type": "markdown",
   "id": "53165ea7-6ff1-4bc5-8f92-83ef48ce051a",
   "metadata": {},
   "source": [
    "# Figure 9: Colour plot for probability of Wolbachia invading under the 30 mosquito model with no reversion"
   ]
  },
  {
   "cell_type": "markdown",
   "id": "68fae7b8-12ca-4714-b60e-42e41482a84f",
   "metadata": {},
   "source": [
    "## Abby Barlow, University of Bath\n",
    "## Ben Adams, University of Bath"
   ]
  },
  {
   "cell_type": "code",
   "execution_count": null,
   "id": "e2cc34ff-70a7-42af-b29a-455bd92ab22f",
   "metadata": {},
   "outputs": [],
   "source": [
    "matplotlib.rcParams.update({'font.size': 15})\n",
    "plt.figure(figsize=(10, 5)) \n",
    "\n",
    "Z = np.transpose(invasion_prob1)\n",
    "my_cmap = plt.cm.viridis  # Choose your colormap\n",
    "num_levels=100000\n",
    "my_cmap = ListedColormap(my_cmap(np.linspace(0, 1, num_levels)))\n",
    "plt.imshow(Z, cmap=my_cmap, interpolation='nearest', origin='lower')\n",
    "plt.ylabel('$N_w(0)/N_0$')\n",
    "plt.xlabel('$\\phi$')\n",
    "plt.yticks([0,1,2,3,4,5,6,7,8,9,10],['0','0.1','0.2','0.3','0.4','0.5','0.6','0.7','0.8','0.9','1'])\n",
    "plt.xticks([0,2,4,6,8,10,12,14,16,18],['0.1','0.2','0.3','0.4','0.5','0.6','0.7','0.8','0.9','1'])\n",
    "\n",
    "#inv_prop = np.load('invasion_prop_dye.npy')\n",
    "#inv_prop2 = np.load('invasion_prop2_dye.npy')\n",
    "#phivec2 = np.linspace(0.1,1,199)\n",
    "#plt.plot((phivec2-0.1)*20,inv_prop*10, color='black')\n",
    "#plt.plot((phivec2-0.1)*20,inv_prop2*10, color='black')\n",
    "#plt.axvline(20*(d1/b1-0.1), color='black')\n",
    "\n",
    "plt.ylim(0,10)\n",
    "\n",
    "#plt.text(0.1,5,'wild')\n",
    "#plt.text(0.1,4,'-type')\n",
    "#plt.text(5,4,'wild-type')\n",
    "#plt.text(6,7,'Wolbachia-infected')\n",
    "#plt.text(0.1,9,'extinct')\n",
    "\n",
    "plt.colorbar()\n",
    "plt.title('Probability of Wolbachia invasion')\n",
    "plt.savefig('prob_invade_10_v09_popconserve_Dye.pdf', bbox_inches='tight')\n",
    "#plt.show()"
   ]
  }
 ],
 "metadata": {
  "kernelspec": {
   "display_name": "venv1",
   "language": "python",
   "name": "venv1"
  },
  "language_info": {
   "codemirror_mode": {
    "name": "ipython",
    "version": 3
   },
   "file_extension": ".py",
   "mimetype": "text/x-python",
   "name": "python",
   "nbconvert_exporter": "python",
   "pygments_lexer": "ipython3",
   "version": "3.10.11"
  }
 },
 "nbformat": 4,
 "nbformat_minor": 5
}
