{
 "cells": [
  {
   "cell_type": "markdown",
   "id": "fe3f7bb7-a388-49e2-a8df-2262eba3ed65",
   "metadata": {},
   "source": [
    "# Figure 1: The larval density functions"
   ]
  },
  {
   "cell_type": "markdown",
   "id": "dc5508e0-1ebe-4eca-854a-abd1525bf663",
   "metadata": {
    "tags": []
   },
   "source": [
    "### Abby Barlow, University of Bath\n",
    "### Ben Adams, University of Bath"
   ]
  },
  {
   "cell_type": "markdown",
   "id": "1053d596-2d3b-4f3a-819c-17dc95b815b6",
   "metadata": {},
   "source": [
    "Importing required libraries"
   ]
  },
  {
   "cell_type": "code",
   "execution_count": 1,
   "id": "5b92a6f4-8c5e-47f0-b0f7-7b4e9ac5b76d",
   "metadata": {},
   "outputs": [],
   "source": [
    "import numpy as np\n",
    "import pylab as plt\n",
    "import matplotlib"
   ]
  },
  {
   "cell_type": "markdown",
   "id": "1f02563e-01ea-46aa-adee-d3744bc145c2",
   "metadata": {},
   "source": [
    "Defining the larval density function"
   ]
  },
  {
   "cell_type": "code",
   "execution_count": 2,
   "id": "f96e1d4d-f07a-4011-b3fe-caccff163d4c",
   "metadata": {},
   "outputs": [],
   "source": [
    "def f(x, param):\n",
    "    '''Returns Dye's function.'''\n",
    "    return np.where(param <=x, 0, np.exp(-h*x**k))\n",
    "\n",
    "def g(x, param):\n",
    "    '''Returns 1-x/param.'''\n",
    "    return np.where(param <=x, 0, 1 - x/param)"
   ]
  },
  {
   "cell_type": "markdown",
   "id": "6eb95734-211b-4e00-9c09-3d00d3d7bfec",
   "metadata": {},
   "source": [
    "Parameter values"
   ]
  },
  {
   "cell_type": "code",
   "execution_count": 3,
   "id": "40943583-8da6-42b2-95bc-c75f847818c1",
   "metadata": {},
   "outputs": [],
   "source": [
    "max_pop = 30     # maximum household size\n",
    "d = 0.12         # per capita death rate\n",
    "k = 0.3          # mosquito competition parameter\n",
    "h = 0.19*100**k  # other mosquito competition parameter\n",
    "K = 30           # reproductive carrying capacity\n",
    "ms = np.linspace(0,max_pop,20*max_pop+1)  # vector for range of number of mosquitoes plotting over"
   ]
  },
  {
   "cell_type": "markdown",
   "id": "eeab212c-6182-4564-9d1f-6c73229a8078",
   "metadata": {},
   "source": [
    "Plotting figure"
   ]
  },
  {
   "cell_type": "code",
   "execution_count": 4,
   "id": "3dca6117-8cdc-47c9-ba42-2c1dfca995bb",
   "metadata": {},
   "outputs": [
    {
     "name": "stderr",
     "output_type": "stream",
     "text": [
      "findfont: Font family ['cmsy10'] not found. Falling back to DejaVu Sans.\n",
      "findfont: Font family ['cmr10'] not found. Falling back to DejaVu Sans.\n",
      "findfont: Font family ['cmtt10'] not found. Falling back to DejaVu Sans.\n",
      "findfont: Font family ['cmmi10'] not found. Falling back to DejaVu Sans.\n",
      "findfont: Font family ['cmb10'] not found. Falling back to DejaVu Sans.\n",
      "findfont: Font family ['cmss10'] not found. Falling back to DejaVu Sans.\n",
      "findfont: Font family ['cmex10'] not found. Falling back to DejaVu Sans.\n"
     ]
    },
    {
     "data": {
      "image/png": "[encoded data removed]",
      "text/plain": [
       "<Figure size 432x288 with 1 Axes>"
      ]
     },
     "metadata": {
      "needs_background": "light"
     },
     "output_type": "display_data"
    }
   ],
   "source": [
    "matplotlib.rcParams.update({'font.size': 15})   # font size\n",
    "plt.plot(ms,g(ms,K),label='$G(m)$')    # plotting 1-x/K\n",
    "plt.plot(ms,f(ms,K),label='$F(m)$')    # plotting Dye's function\n",
    "plt.xlabel('$m$')                      # x label\n",
    "plt.ylabel('Larval density function')  # y label\n",
    "plt.grid()  # adds grid\n",
    "plt.legend()  # shows legend\n",
    "plt.savefig('larval_density_funcs.pdf')  # saves figure in cwd"
   ]
  },
  {
   "cell_type": "code",
   "execution_count": null,
   "id": "b8f90381-4655-433f-a9f6-648ab2e2cf77",
   "metadata": {},
   "outputs": [],
   "source": []
  }
 ],
 "metadata": {
  "kernelspec": {
   "display_name": "venv_dengue",
   "language": "python",
   "name": "python3"
  },
  "language_info": {
   "codemirror_mode": {
    "name": "ipython",
    "version": 3
   },
   "file_extension": ".py",
   "mimetype": "text/x-python",
   "name": "python",
   "nbconvert_exporter": "python",
   "pygments_lexer": "ipython3",
   "version": "3.8.13"
  }
 },
 "nbformat": 4,
 "nbformat_minor": 5
}
