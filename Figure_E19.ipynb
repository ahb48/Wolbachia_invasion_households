{
 "cells": [
  {
   "cell_type": "markdown",
   "id": "6d4a4faa-7d6c-4414-9922-18ab8bd14f40",
   "metadata": {},
   "source": [
    "# Figure E19: The Wolbachia only QSD"
   ]
  },
  {
   "cell_type": "markdown",
   "id": "27ff166a-416c-427d-9b1b-023a152415f7",
   "metadata": {},
   "source": [
    "## Abby Barlow, University of Bath\n",
    "## Ben Adams, University of Bath"
   ]
  },
  {
   "cell_type": "markdown",
   "id": "2816ccd6-39ee-4032-8964-abe446d15a9a",
   "metadata": {},
   "source": [
    "Import required libraries"
   ]
  },
  {
   "cell_type": "code",
   "execution_count": 1,
   "id": "2faa4350-2bef-4f88-b5da-194430c8373b",
   "metadata": {},
   "outputs": [],
   "source": [
    "import numpy as np\n",
    "import sympy as sp\n",
    "import itertools\n",
    "from scipy.linalg import expm\n",
    "import pylab as plt\n",
    "import matplotlib\n",
    "from matplotlib.colors import ListedColormap\n",
    "from scipy.optimize import fsolve\n",
    "from matplotlib.patches import Rectangle"
   ]
  },
  {
   "cell_type": "markdown",
   "id": "142521de-9ab0-4a45-900f-01f775c4c527",
   "metadata": {},
   "source": [
    "Import required scripts"
   ]
  },
  {
   "cell_type": "code",
   "execution_count": 2,
   "id": "08037640-3077-4f85-89d8-fc14cbd52614",
   "metadata": {},
   "outputs": [],
   "source": [
    "import importlib\n",
    "import Rate_transitions\n",
    "import Finding_full_Q\n",
    "import Tridiagonalisation\n",
    "import Finding_sub_Q\n",
    "import Lower_block_triangular\n",
    "import Hughes_model\n",
    "\n",
    "get_transition = Rate_transitions.get_transition_Hughes\n",
    "getQ = Finding_full_Q.getQ_Hughes\n",
    "tridiagonal = Tridiagonalisation.tridiagonal\n",
    "getQk = Finding_sub_Q.getQk_Hughes\n",
    "LBTQ = Lower_block_triangular.LBTQ_Hughes_comp\n",
    "F = Hughes_model.F_hughes\n",
    "\n",
    "%load_ext autoreload\n",
    "%autoreload 2"
   ]
  },
  {
   "cell_type": "markdown",
   "id": "70f5a494-8b69-49ae-9b1d-ce1d02f7e20d",
   "metadata": {},
   "source": [
    "Parameter values"
   ]
  },
  {
   "cell_type": "code",
   "execution_count": 3,
   "id": "26c2af67-53ec-4e92-8c45-3087d40f6a19",
   "metadata": {},
   "outputs": [],
   "source": [
    "K = 30        # reproductive carrying capacity\n",
    "d1 = 12/100   # wild-type death rate\n",
    "d2 = 12/100   # Wolbachia death rate\n",
    "phi = 85/100    # Wolbachia fitness\n",
    "\n",
    "v = 10/10      # probability of vertical transmission\n",
    "u = 10/10     # ratio of unviable offspring produced by an infected male and uninfected female\n",
    "\n",
    "k = 0.3           # Mosquito competition parameter\n",
    "h = 0.19*100**k   # Mosquito competition parameter\n",
    "\n",
    "b1 = round(d1/F(10,h,k,K),2) # wild-type per capita birth rate\n",
    "b2 = b1*phi                # Wolbachia per capita birth rate\n",
    "\n",
    "# create a dictionary to store all parameter values\n",
    "params_dict = {'b1': b1,\n",
    "              'b2': b2,\n",
    "              'K': K,\n",
    "              'd1': d1,\n",
    "              'd2': d2,\n",
    "              'v': v,\n",
    "              'phi': phi,\n",
    "              'u': u,\n",
    "              'h': h,\n",
    "              'k': k\n",
    "              }"
   ]
  },
  {
   "cell_type": "markdown",
   "id": "4df8e65b-e789-4649-b3b6-66845d5d8fab",
   "metadata": {},
   "source": [
    "Constructing the full state dictionary"
   ]
  },
  {
   "cell_type": "code",
   "execution_count": 4,
   "id": "387eb2b9-94a6-4522-b16e-55525efa82fa",
   "metadata": {},
   "outputs": [],
   "source": [
    "# construct a dictionary that associated an integer index with each possible states, states are stored as an np.array - easier to apply mathematical operations than tuple \n",
    "max_pop = 30   # maximum household size\n",
    "state_dict = {index: np.array((i, j)) for index, (i, j) in enumerate([(i, j) for i in range(max_pop + 1) for j in range(max_pop + 1) if i + j <= max_pop])}"
   ]
  },
  {
   "cell_type": "markdown",
   "id": "487455f1-2a07-457f-96d1-a4a021c3eb1d",
   "metadata": {},
   "source": [
    "Constructing the full Q matrix"
   ]
  },
  {
   "cell_type": "code",
   "execution_count": 5,
   "id": "4f62ed54-9fd9-4b0d-856c-a9fafcc1937e",
   "metadata": {},
   "outputs": [],
   "source": [
    "# construct a matrix Q for the transition rate q_ij betweeen states i and j\n",
    "n_states = len(state_dict)    # number of states\n",
    "\n",
    "Q = getQ(state_dict,params_dict)  # find Q"
   ]
  },
  {
   "cell_type": "markdown",
   "id": "b3d3f59a-a51b-4b53-a86a-711cdd0903c5",
   "metadata": {},
   "source": [
    "Constructing individual dictionaries of the communicating state classes and their respective sub-Q matrices"
   ]
  },
  {
   "cell_type": "code",
   "execution_count": 6,
   "id": "68ca77bf-55f5-4852-9459-a93aca839f25",
   "metadata": {},
   "outputs": [],
   "source": [
    "### S1 corresponds to the wild-type-only states, S2 to the Wolbachia-only and S3 the mixed states\n",
    "state_dict_S1 = {index: np.array((i, 0)) for index, i in enumerate([i for i in range(1,max_pop + 1)])}\n",
    "state_dict_S2 = {index: np.array((0, i)) for index, i in enumerate([i for i in range(1,max_pop + 1)])}\n",
    "state_dict_S3 = {index: np.array((i,j)) for index, (i,j) in enumerate([(i, j) for i in range(1,max_pop + 1) for j in range(1,max_pop + 1) if i + j <= max_pop])}\n",
    "\n",
    "# finding the sub-q matrices and their respective ordered lists of states in the class\n",
    "# we will use these list to rearrange Q into lower block triangular form\n",
    "Q1,key_list1 = getQk(state_dict_S1,state_dict,Q,params_dict)\n",
    "Q2,key_list2 = getQk(state_dict_S2,state_dict,Q,params_dict)\n",
    "Q3,key_list3 = getQk(state_dict_S3,state_dict,Q,params_dict)"
   ]
  },
  {
   "cell_type": "markdown",
   "id": "9fc80565-3429-4435-8a6d-1178761c0d32",
   "metadata": {},
   "source": [
    "Constructing the lower block triangular formulation of Q"
   ]
  },
  {
   "cell_type": "code",
   "execution_count": 7,
   "id": "2acaa365-6669-441c-ac80-ac12c274a301",
   "metadata": {},
   "outputs": [],
   "source": [
    "Q_lower_block_triang, state_dict_relabel = LBTQ(Q,state_dict,state_dict_S1,state_dict_S2,state_dict_S3,max_pop,params_dict)"
   ]
  },
  {
   "cell_type": "markdown",
   "id": "b0d53489-1073-4703-9a42-b19f08ccc8c9",
   "metadata": {},
   "source": [
    "Finding the eigenvalues and eigenvectors corresponding to the Wolbachia-only states (S2)"
   ]
  },
  {
   "cell_type": "code",
   "execution_count": 8,
   "id": "a8f85ca6-9e2e-4558-a4e8-7a18806ec6e3",
   "metadata": {},
   "outputs": [],
   "source": [
    "evals2, evecs2 = np.linalg.eig(Q2.T)    # eigenvalues and eigenvectors\n",
    "decay_param2 = np.max([x for x in evals2 if x != 0])     # minimal magnitude eigenvalue\n",
    "decay_indx2 = np.argmax([x for x in evals2 if x != 0])   # corresponding index"
   ]
  },
  {
   "cell_type": "markdown",
   "id": "2fe600e8-0821-4295-a89d-23b032fb8625",
   "metadata": {},
   "source": [
    "Calculating the Wolbachia-only QSD"
   ]
  },
  {
   "cell_type": "code",
   "execution_count": 9,
   "id": "47eac083-08a9-4c37-815e-9457efc83d62",
   "metadata": {},
   "outputs": [
    {
     "name": "stdout",
     "output_type": "stream",
     "text": [
      "[5.39475404e-02 7.39437737e-02 8.99860721e-02 1.00730943e-01\n",
      " 1.05293780e-01 1.03686167e-01 9.67699598e-02 8.59867249e-02\n",
      " 7.30058000e-02 5.94028603e-02 4.64377796e-02 3.49533777e-02\n",
      " 2.53794406e-02 1.78064298e-02 1.20898922e-02 7.95431230e-03\n",
      " 5.07745831e-03 3.14800521e-03 1.89762777e-03 1.11321439e-03\n",
      " 6.36082241e-04 3.54291860e-04 1.92506041e-04 1.02108482e-04\n",
      " 5.29042805e-05 2.67908523e-05 1.32671896e-05 6.42782178e-06\n",
      " 3.04776365e-06 1.41437861e-06]\n"
     ]
    }
   ],
   "source": [
    "uvec = evecs2[:,decay_indx2]          # left eigenvector corresponding to minimal magnitude eigenvalue\n",
    "quasi_stat_dist2 = uvec/np.sum(uvec)  # normalising to sum to 1\n",
    "print(quasi_stat_dist2)\n",
    "np.save('uvec_v09.npy',quasi_stat_dist2)  # saving the distribution to load into other notebooks"
   ]
  },
  {
   "cell_type": "markdown",
   "id": "bb2caf66-7dfc-49a9-8520-04464e593aba",
   "metadata": {},
   "source": [
    "Plotting the Wolbachia-only QSD"
   ]
  },
  {
   "cell_type": "code",
   "execution_count": 10,
   "id": "879deae2-6f22-4384-a594-0b6064395b54",
   "metadata": {},
   "outputs": [
    {
     "name": "stderr",
     "output_type": "stream",
     "text": [
      "findfont: Font family ['cmsy10'] not found. Falling back to DejaVu Sans.\n",
      "findfont: Font family ['cmr10'] not found. Falling back to DejaVu Sans.\n",
      "findfont: Font family ['cmtt10'] not found. Falling back to DejaVu Sans.\n",
      "findfont: Font family ['cmmi10'] not found. Falling back to DejaVu Sans.\n",
      "findfont: Font family ['cmb10'] not found. Falling back to DejaVu Sans.\n",
      "findfont: Font family ['cmss10'] not found. Falling back to DejaVu Sans.\n",
      "findfont: Font family ['cmex10'] not found. Falling back to DejaVu Sans.\n"
     ]
    },
    {
     "data": {
      "image/png": "[encoded data removed]",
      "text/plain": [
       "<Figure size 432x288 with 1 Axes>"
      ]
     },
     "metadata": {
      "needs_background": "light"
     },
     "output_type": "display_data"
    }
   ],
   "source": [
    "matplotlib.rcParams.update({'font.size': 15}) # font size\n",
    "\n",
    "values = np.arange(1,31,1)    # number of W-only mosquitoes\n",
    "plt.bar(values,quasi_stat_dist2)   # plot distribution as bar chart\n",
    "plt.xlabel('Number of Wolbachia-infected mosquitoes')   # x label\n",
    "plt.ylabel('Probability')                               # y label\n",
    "plt.title(r'Quasi-stationary distribution, $\\mathcal{S}_2$')       # title\n",
    "plt.grid()  # adds grid\n",
    "plt.savefig('QSD_wolb.pdf', bbox_inches='tight')  # save figure"
   ]
  }
 ],
 "metadata": {
  "kernelspec": {
   "display_name": "venv_dengue",
   "language": "python",
   "name": "python3"
  },
  "language_info": {
   "codemirror_mode": {
    "name": "ipython",
    "version": 3
   },
   "file_extension": ".py",
   "mimetype": "text/x-python",
   "name": "python",
   "nbconvert_exporter": "python",
   "pygments_lexer": "ipython3",
   "version": "3.8.13"
  }
 },
 "nbformat": 4,
 "nbformat_minor": 5
}
