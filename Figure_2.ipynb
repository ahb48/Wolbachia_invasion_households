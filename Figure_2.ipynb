{
 "cells": [
  {
   "cell_type": "markdown",
   "id": "867e0797-52f1-45ec-b533-9ba451805681",
   "metadata": {},
   "source": [
    "# Figure 2: bistability plot for the mean-field model, $\\phi=[0.1,1]$ versus invasion threshold $N_w(0)/N_0$"
   ]
  },
  {
   "cell_type": "markdown",
   "id": "7d23b426-c834-4e4f-a13a-ba2c936f1943",
   "metadata": {},
   "source": [
    "## Abby Barlow, University of Bath\n",
    "## Ben Adams, University of Bath"
   ]
  },
  {
   "cell_type": "markdown",
   "id": "386ee902-3418-4008-9f04-f2ead606a419",
   "metadata": {},
   "source": [
    "Importing required libraries"
   ]
  },
  {
   "cell_type": "code",
   "execution_count": 1,
   "id": "8ec9dd80-fe6e-4a17-855f-8b524fdfaa33",
   "metadata": {},
   "outputs": [],
   "source": [
    "from scipy.optimize import fsolve\n",
    "from scipy.integrate import odeint, solve_ivp\n",
    "import numpy as np\n",
    "import time\n",
    "import pandas as pd\n",
    "import sympy as sp\n",
    "import math\n",
    "import pylab as plt\n",
    "import matplotlib"
   ]
  },
  {
   "cell_type": "markdown",
   "id": "c86db91b-2f02-4eb3-b912-fb08eddf9df2",
   "metadata": {},
   "source": [
    "Importing required scripts"
   ]
  },
  {
   "cell_type": "code",
   "execution_count": 2,
   "id": "251e870f-3fe8-4347-b568-1e5ebe515b0b",
   "metadata": {},
   "outputs": [],
   "source": [
    "import importlib\n",
    "import Hughes_model\n",
    "\n",
    "Hughes_ODEs = Hughes_model.Hughes_ODEs  # defining ODE function (mean-field model Hughes(2013))\n",
    "F = Hughes_model.F_hughes   # defining Dye's larval density function\n",
    "\n",
    "# scripts autosave, so no need to re-run code chunk after making changes\n",
    "%load_ext autoreload\n",
    "%autoreload 2"
   ]
  },
  {
   "cell_type": "markdown",
   "id": "fd681444-26ef-47a9-8eba-4d531b662d81",
   "metadata": {},
   "source": [
    "Parameter values"
   ]
  },
  {
   "cell_type": "code",
   "execution_count": 3,
   "id": "3c32ad74-7d5b-4104-8d7b-b888a20f8b82",
   "metadata": {},
   "outputs": [],
   "source": [
    "days = 2000                          # no. of days in simulation\n",
    "tStart, tEnd = 0, days               # start time and end time (days) of simulation\n",
    "tEval = np.linspace(tStart, tEnd)    # output points\n",
    "\n",
    "Q = 30                   # reproductive carrying capacity\n",
    "d = 12/100               # per capita death rate\n",
    "v = 10/10                # probability of vertical transmission of Wolbachia\n",
    "u = 10/10                # probability that infected male and uninfected female produce inviable offspring\n",
    "delta = 1                # ratio of Wolbachia-infected death rate versus wild-type\n",
    "dw = delta*d             # Wolbachia-positive death rate\n",
    "\n",
    "k = 0.3                  # mosquito competition parameter\n",
    "h = 0.19*100**k          # other mosquito competition parameter\n",
    "b = round(d/F(10,h,k),2) # birth rate fitted for Dye's larval density function\n",
    "\n",
    "sep = 5*100              # number of points evaluate over invasion threshol range"
   ]
  },
  {
   "cell_type": "markdown",
   "id": "4210dab6-80f7-4a96-b335-b9b606363117",
   "metadata": {},
   "source": [
    "Finding the basin of attraction boundary"
   ]
  },
  {
   "cell_type": "markdown",
   "id": "2f775a03-29a2-4c8a-b899-a89c6345be33",
   "metadata": {},
   "source": [
    "With respect to the Wolbachia-only steady state"
   ]
  },
  {
   "cell_type": "code",
   "execution_count": 4,
   "id": "23884e47-b21f-4830-9016-1081f2c8246b",
   "metadata": {},
   "outputs": [
    {
     "name": "stderr",
     "output_type": "stream",
     "text": [
      "C:\\Users\\abby2\\AppData\\Local\\Temp/ipykernel_16924/863677315.py:19: RuntimeWarning: invalid value encountered in double_scalars\n",
      "  E2 = np.array([0,(np.log(d*delta/(b*phivec[i]*v))/-h)**(1/k)])  # wolbachia only SS values\n"
     ]
    }
   ],
   "source": [
    "phivec = np.linspace(0.1,1,199)        # range of phi values will iterate over\n",
    "invasion_prop = np.zeros_like(phivec)  # initialising array to store invasion threshold\n",
    "N0 = 10                           # initial household size (remains fixed)\n",
    "y0 = np.zeros(2)                  # initialising array for intial household state (no. of wild-types and W-infected)\n",
    "\n",
    "for i in range(len(phivec)):     # looping over all phi values\n",
    "    for j in range(sep+1):       # looping over all initial ratios of wild-types to W-infected\n",
    "        y0[0] = (sep-j)*N0/sep   # current initial number of wild-types\n",
    "        y0[1] = j*N0/sep         # current initial number of W-infected\n",
    "        \n",
    "        params = (u, v, phivec[i], delta, b, d, dw, Q, h, k)  # parameter values fed into the ODE solver\n",
    "        # solving the ODEs after 2000 days\n",
    "        sol = solve_ivp(Hughes_ODEs, y0 = y0, method='LSODA', t_span = [tStart, tEnd], t_eval = tEval, args=params) \n",
    "        sol_df = pd.DataFrame(np.transpose(sol.y))  # putting into data frame\n",
    "        \n",
    "        nm_star = sol_df.iloc[len(tEval)-1,0]  # extracting the wild-type solution at 2000 days\n",
    "        nw_star = sol_df.iloc[len(tEval)-1,1]  # extracting the W-infected solution\n",
    "        \n",
    "        E2 = np.array([0,(np.log(d*delta/(b*phivec[i]*v))/-h)**(1/k)])  # wolbachia only SS values\n",
    "        # change to this when using other larval density function np.array([0,Q*(1-dw/(b*phivec[i]*v))])\n",
    "        if np.all([nm_star,nw_star]-E2<1e-3):   # if sufficiently close to Wolbachia-only SS\n",
    "            invasion_prop[i] = j/sep            # record invasion threshold\n",
    "            break                               # break to next phi value"
   ]
  },
  {
   "cell_type": "markdown",
   "id": "a27ca233-269c-47ec-a9c2-84e488ab7335",
   "metadata": {},
   "source": [
    "With respect to the extinxtion steady state"
   ]
  },
  {
   "cell_type": "code",
   "execution_count": 5,
   "id": "70e05979-ac2d-418c-aa2f-0bca20cec2f6",
   "metadata": {},
   "outputs": [],
   "source": [
    "phivec = np.linspace(0.1,1,199)        # range of phi values will iterate over\n",
    "invasion_prop2 = np.zeros_like(phivec) # initialising array to store invasion threshold\n",
    "N0 = 10                                # initial household size (remains fixed)\n",
    "y0 = np.zeros(2)                 # initialising array for intial household state (no. of wild-types and W-infected)\n",
    "\n",
    "for i in range(len(phivec)):        # looping over all phi values\n",
    "    for j in range(sep+1):          # looping over all initial ratios of wild-types to W-infected\n",
    "        y0[0] = (sep-j)*N0/sep      # current initial number of wild-types\n",
    "        y0[1] = j*N0/sep            # current initial number of W-infected\n",
    "        \n",
    "        params = (u, v, phivec[i], delta, b, d, dw, Q, h, k)   # parameter values fed into the ODE solver\n",
    "        # solving the ODEs after 2000 days\n",
    "        sol = solve_ivp(Hughes_ODEs, y0 = y0, method='LSODA', t_span = [tStart, tEnd], t_eval = tEval, args=params) \n",
    "        sol_df = pd.DataFrame(np.transpose(sol.y))  # putting into data frame\n",
    "        \n",
    "        nm_star = sol_df.iloc[len(tEval)-1,0]  # extracting the wild-type solution at 2000 days\n",
    "        nw_star = sol_df.iloc[len(tEval)-1,1]  # extracting the W-infected solution\n",
    "        \n",
    "        E1 = np.array([0,0])  # extinction steady state\n",
    "        if np.all([nm_star,nw_star]-E1<1e-5): # if sufficiently close to extinction SS\n",
    "            invasion_prop2[i] = j/sep         # record invasion threshold\n",
    "            break                             # break to next phi value"
   ]
  },
  {
   "cell_type": "markdown",
   "id": "d4dffeb3-9397-4840-be3e-cd9134c3727e",
   "metadata": {},
   "source": [
    "Plotting the figure"
   ]
  },
  {
   "cell_type": "code",
   "execution_count": 6,
   "id": "9e6c8fe9-aaf5-4bcf-973e-bc71ef0578e5",
   "metadata": {},
   "outputs": [
    {
     "name": "stderr",
     "output_type": "stream",
     "text": [
      "findfont: Font family ['cmsy10'] not found. Falling back to DejaVu Sans.\n",
      "findfont: Font family ['cmr10'] not found. Falling back to DejaVu Sans.\n",
      "findfont: Font family ['cmtt10'] not found. Falling back to DejaVu Sans.\n",
      "findfont: Font family ['cmmi10'] not found. Falling back to DejaVu Sans.\n",
      "findfont: Font family ['cmb10'] not found. Falling back to DejaVu Sans.\n",
      "findfont: Font family ['cmss10'] not found. Falling back to DejaVu Sans.\n",
      "findfont: Font family ['cmex10'] not found. Falling back to DejaVu Sans.\n"
     ]
    },
    {
     "data": {
      "image/png": "[encoded data removed]",
      "text/plain": [
       "<Figure size 432x288 with 1 Axes>"
      ]
     },
     "metadata": {
      "needs_background": "light"
     },
     "output_type": "display_data"
    }
   ],
   "source": [
    "matplotlib.rcParams.update({'font.size': 15})  # font size\n",
    "phivec = np.linspace(0.1,1,199)                # phi range vector\n",
    "\n",
    "plt.plot(phivec,invasion_prop, color='black')   # plot basin of attraction wrt W-infected only SS\n",
    "plt.plot(phivec,invasion_prop2, color='black')  # plot basin of attraction wrt extinction SS\n",
    "plt.axvline(d/b, color='black')                 # plot where W-infected SS no longer exists \n",
    "\n",
    "plt.ylim(0,1)        # setting y axis limits\n",
    "plt.xlim(0.1,1)      # setting x axis limits\n",
    "plt.xlabel('$\\phi$')      # x label\n",
    "plt.ylabel('Invasion threshold $N_w(0)/N_0$')   # y label\n",
    "plt.title('$N_0=10$')   # title\n",
    "\n",
    "plt.text(0.7,0.9, 'bistable + E2', fontsize = 10) # labelling the regions of attraction and stability\n",
    "plt.text(0.5,0.10, 'bistable + E1', fontsize = 10)\n",
    "plt.text(0.15,0.1, 'E1' , fontsize = 10)\n",
    "plt.text(0.15,0.9, 'E0' , fontsize = 10)\n",
    "plt.savefig('Invasion_threshold_v1_wild10_dye.pdf', bbox_inches='tight')  # save figure"
   ]
  },
  {
   "cell_type": "markdown",
   "id": "372307f7-47cf-47ed-b49d-4d2edd5ff7b7",
   "metadata": {},
   "source": [
    "Save invasion threshold arrays"
   ]
  },
  {
   "cell_type": "code",
   "execution_count": 8,
   "id": "b609e879-09e4-4e79-b4c8-5333e05bbfd7",
   "metadata": {},
   "outputs": [],
   "source": [
    "np.save('invasion_prop.npy',invasion_prop)\n",
    "np.save('invasion_prop2.npy',invasion_prop2)"
   ]
  }
 ],
 "metadata": {
  "kernelspec": {
   "display_name": "venv1",
   "language": "python",
   "name": "venv1"
  },
  "language_info": {
   "codemirror_mode": {
    "name": "ipython",
    "version": 3
   },
   "file_extension": ".py",
   "mimetype": "text/x-python",
   "name": "python",
   "nbconvert_exporter": "python",
   "pygments_lexer": "ipython3",
   "version": "3.10.11"
  }
 },
 "nbformat": 4,
 "nbformat_minor": 5
}
