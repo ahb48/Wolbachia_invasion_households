{
 "cells": [
  {
   "cell_type": "markdown",
   "id": "dc1b0834-6f5b-4175-8c9f-5e3d2c437c13",
   "metadata": {},
   "source": [
    "# Figure 10: colour plots for the invasion probability over all possible initial state conditions for the 30 mosquito model with no reversion"
   ]
  },
  {
   "cell_type": "markdown",
   "id": "7286abcc-f91e-4524-ad35-db5fc078d346",
   "metadata": {},
   "source": [
    "## Abby Barlow, University of Bath\n",
    "## Ben Adams, University of Bath"
   ]
  },
  {
   "cell_type": "markdown",
   "id": "6b8b6772-f8ac-47a6-8013-439baa0e6ba5",
   "metadata": {},
   "source": [
    "Import required libraries"
   ]
  },
  {
   "cell_type": "code",
   "execution_count": 1,
   "id": "065c8e4b-f7a9-4d12-b96c-3e48ea6f3615",
   "metadata": {},
   "outputs": [],
   "source": [
    "import numpy as np\n",
    "import pylab as plt\n",
    "import matplotlib\n",
    "from matplotlib.colors import ListedColormap"
   ]
  },
  {
   "cell_type": "markdown",
   "id": "c88294c9-45f7-45a0-ba96-e4ec1d06f47c",
   "metadata": {},
   "source": [
    "Import required scripts"
   ]
  },
  {
   "cell_type": "code",
   "execution_count": 2,
   "id": "b481af64-48cb-4514-a34b-4c4e30e86b87",
   "metadata": {},
   "outputs": [],
   "source": [
    "import importlib\n",
    "import Rate_transitions\n",
    "import Finding_dictionary_keys\n",
    "import Prob_absorb_to_each\n",
    "import Hughes_model\n",
    "\n",
    "get_transition = Rate_transitions.get_transition_Hughes\n",
    "find_keys = Finding_dictionary_keys.find_keys\n",
    "prob_reach_absorb = Prob_absorb_to_each.prob_reach_absorb_Hughes\n",
    "F = Hughes_model.F_hughes\n",
    "\n",
    "# scripts autosave, so no need to re-run code chunk after making changes\n",
    "%load_ext autoreload\n",
    "%autoreload 2"
   ]
  },
  {
   "cell_type": "markdown",
   "id": "2c7d81a3-bf2f-4bbb-8baa-a3756476f5fa",
   "metadata": {},
   "source": [
    "Parameter values"
   ]
  },
  {
   "cell_type": "code",
   "execution_count": 4,
   "id": "4cf32f91-4d85-4db6-9fb7-ee490edcb7db",
   "metadata": {},
   "outputs": [],
   "source": [
    "K = 30        # reproductive carrying capacity\n",
    "d1 = 12/100   # wild-type death rate\n",
    "d2 = 12/100   # Wolbachia death rate\n",
    "phi = 9/10    # Wolbachia fitness\n",
    "\n",
    "v = 10/10     # probability of vertical transmission\n",
    "u = 10/10     # ratio of unviable offspring produced by an infected male and uninfected female\n",
    "\n",
    "k = 0.3           # Mosquito competition parameter\n",
    "h = 0.19*100**k   # Mosquito competition parameter\n",
    "\n",
    "b1 = round(d1/F(10,h,k),2) # wild-type per capita birth rate\n",
    "b2 = b1*phi                # Wolbachia per capita birth rate\n",
    "\n",
    "# create a dictionary to store all parameter values\n",
    "params_dict = {'b1': b1,\n",
    "              'b2': b2,\n",
    "              'K': K,\n",
    "              'd1': d1,\n",
    "              'd2': d2,\n",
    "              'v': v,\n",
    "              'phi': phi,\n",
    "              'u': u,\n",
    "              'h': h,\n",
    "              'k': k\n",
    "              }"
   ]
  },
  {
   "cell_type": "markdown",
   "id": "4dc7381b-dfb8-473b-9d98-ee6f91f0c8d6",
   "metadata": {},
   "source": [
    "Construct dictionaries for the full state space and the transient state space (mixed states)"
   ]
  },
  {
   "cell_type": "code",
   "execution_count": 5,
   "id": "d9db726d-3819-4564-8526-71a0a56ddb77",
   "metadata": {},
   "outputs": [],
   "source": [
    "max_pop = 30  # maximum household size\n",
    "state_dict = {index: np.array((i, j)) for index, (i, j) in enumerate([(i, j) for i in range(max_pop + 1) for j in range(max_pop + 1) if i + j <= max_pop])}\n",
    "trans_dict = {index: np.array((i,j)) for index, (i,j) in enumerate([(i, j) for i in range(1,max_pop + 1) for j in range(1,max_pop + 1) if i + j <= max_pop])}"
   ]
  },
  {
   "cell_type": "markdown",
   "id": "04f96577-3814-45e4-ba84-a5a8f440027c",
   "metadata": {},
   "source": [
    "Calculating the probability of reaching the wolbachia-only state space from each initial condition state"
   ]
  },
  {
   "cell_type": "code",
   "execution_count": 6,
   "id": "2407c458-ee12-4e2e-8426-567b4be62f16",
   "metadata": {},
   "outputs": [],
   "source": [
    "n_transient = len(trans_dict)            # number of transient states i.e. mixed\n",
    "prob_reach_wolb = np.zeros(n_transient)  # initialise an array to hold all the probabilities for the mixed states\n",
    "for i in range(max_pop):                 # looping over the Wolbachia-only state space\n",
    "    absorb_state = np.array([0,i+1])     # current Wolbachia-only state (absorbing state)\n",
    "    # adding the probability of reaching that state from each initial mixed state to the probabilities array\n",
    "    prob_reach_wolb[:] += np.transpose(prob_reach_absorb(state_dict,trans_dict,absorb_state,params_dict)[0])[0]"
   ]
  },
  {
   "cell_type": "markdown",
   "id": "74ad097b-5c47-4f92-8d4d-f4c0654aa623",
   "metadata": {},
   "source": [
    "Putting the probabilities into an array in the correct format for the colour plot and adding the trivial probabilities of invasion from the wild-type-only and Wolbachia-only states"
   ]
  },
  {
   "cell_type": "code",
   "execution_count": 7,
   "id": "e0b3b4fd-ee6e-4acb-98aa-55fc4c89fef1",
   "metadata": {},
   "outputs": [],
   "source": [
    "col_map = np.zeros((max_pop+1,max_pop+1))  # initialing array for all the probabilities\n",
    "\n",
    "for i in range(max_pop):   # looping over the wild-type/ Wolbachia-only state space\n",
    "    col_map[i+1,0] = 0     # probability of invasion starting from a wild-type only state is 0\n",
    "    col_map[0,i+1] = 1     # probability of invasion starting from a Wolbachia only state is 1\n",
    "    \n",
    "for k in range(n_transient):         # looping over all the mixed/ transient states\n",
    "    # setting the index of the current invasion probability corresponong to the intial state\n",
    "    indx1, indx2 = trans_dict[k]\n",
    "    col_map[indx1,indx2] = prob_reach_wolb[k]  # recodrding the probability"
   ]
  },
  {
   "cell_type": "markdown",
   "id": "cfbab0c9-4bd7-43d7-b378-baccefa25b12",
   "metadata": {},
   "source": [
    "Plotting the figure"
   ]
  },
  {
   "cell_type": "code",
   "execution_count": 9,
   "id": "951f392d-495a-42cb-9810-87ef1bfee1b7",
   "metadata": {},
   "outputs": [
    {
     "data": {
      "image/png": "[encoded data removed]",
      "text/plain": [
       "<Figure size 432x288 with 2 Axes>"
      ]
     },
     "metadata": {
      "needs_background": "light"
     },
     "output_type": "display_data"
    }
   ],
   "source": [
    "fig, ax = plt.subplots()  # define subsplots, as overlaying mean-field results\n",
    "matplotlib.rcParams.update({'font.size': 15})  # font size\n",
    "\n",
    "Z = np.transpose(col_map)   # swaps to correct way round \n",
    "my_cmap = plt.cm.viridis    # colour scheme\n",
    "num_levels = 1000000\n",
    "my_cmap = ListedColormap(my_cmap(np.linspace(0, 1, num_levels)))   # define how fine a colour scale want\n",
    "color_plot = ax.imshow(Z, cmap=my_cmap, interpolation='nearest', origin='lower')  # produces colour plot\n",
    "ax.set_xlabel('$N_m(0)$')   # x label\n",
    "ax.set_ylabel('$N_w(0)$')   # y label\n",
    "\n",
    "x = np.arange(Z.shape[1])   # extracts the x values\n",
    "# fills the top right half grey, this part of the state space is out of bounds\n",
    "plt.fill_between(x,30-x,30,color='gray',zorder=10) # zorder command ensures brought to the front\n",
    "contours = np.load('contours_phi09_dye.npy')       # import corrsponding mean-field results \n",
    "levels = np.linspace(np.min(contours), np.max(contours), num=5) # produces the contours from the mean-field result\n",
    "# num controls the number of contours shown\n",
    "contour_plot = ax.contour(contours, levels=levels, colors='black')  # plotd the contours\n",
    "\n",
    "ax.set_xlim(0,30)   # x limit\n",
    "ax.set_ylim(0,30)   # y limit\n",
    "\n",
    "# labels SS attraction under mean-field model\n",
    "plt.text(2,10,'Wolbachia',fontsize=12)\n",
    "plt.text(19,0.7,'wild-type',fontsize=12)\n",
    "\n",
    "color_bar = fig.colorbar(color_plot)   # adds colour bar\n",
    "ax.set_title('Absorption probability, $\\phi=${}'.format(phi))    # title\n",
    "\n",
    "plt.savefig('bifurcation_color_map_v1.pdf', bbox_inches='tight')  # saves figure"
   ]
  },
  {
   "cell_type": "code",
   "execution_count": null,
   "id": "35a9203b-3adb-4cd4-973c-9b20008dd6a2",
   "metadata": {},
   "outputs": [],
   "source": []
  }
 ],
 "metadata": {
  "kernelspec": {
   "display_name": "venv1",
   "language": "python",
   "name": "venv1"
  },
  "language_info": {
   "codemirror_mode": {
    "name": "ipython",
    "version": 3
   },
   "file_extension": ".py",
   "mimetype": "text/x-python",
   "name": "python",
   "nbconvert_exporter": "python",
   "pygments_lexer": "ipython3",
   "version": "3.10.11"
  }
 },
 "nbformat": 4,
 "nbformat_minor": 5
}
